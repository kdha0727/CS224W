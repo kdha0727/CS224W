{
 "cells": [
  {
   "cell_type": "markdown",
   "metadata": {
    "pycharm": {
     "name": "#%% md\n"
    }
   },
   "source": [
    "# Install and import torch-geometric"
   ]
  },
  {
   "cell_type": "code",
   "execution_count": 1,
   "metadata": {
    "pycharm": {
     "is_executing": true,
     "name": "#%%\n"
    }
   },
   "outputs": [],
   "source": [
    "import torch\n",
    "\n",
    "CUDA_AVAILABLE = torch.cuda.is_available()\n",
    "\n",
    "try:\n",
    "    import torch_geometric\n",
    "\n",
    "except ImportError:\n",
    "    TORCH = torch.__version__.split('+')[0]\n",
    "    CUDA = 'cu' + torch.version.cuda.replace('.', '') if CUDA_AVAILABLE else 'cpu'\n",
    "    %pip install \\\n",
    "        torch-scatter==latest+{CUDA} \\\n",
    "        torch-sparse==latest+{CUDA} \\\n",
    "        torch-cluster==latest+{CUDA} \\\n",
    "        torch-spline-conv==latest+{CUDA} \\\n",
    "        torch-geometric \\\n",
    "        -f https://pytorch-geometric.com/whl/torch-{TORCH}.html\n",
    "\n",
    "import torch.nn as nn\n",
    "import torch.nn.functional as F\n",
    "from torch_geometric.datasets import Planetoid\n",
    "from torch_geometric.utils import accuracy, add_self_loops, to_dense_adj\n",
    "import torch_geometric.transforms as T\n",
    "\n",
    "import os\n",
    "import glob\n",
    "\n",
    "device = torch.device('cuda' if CUDA_AVAILABLE else 'cpu')"
   ]
  },
  {
   "cell_type": "markdown",
   "metadata": {
    "pycharm": {
     "name": "#%% md\n"
    }
   },
   "source": [
    "# Load and preprocess data"
   ]
  },
  {
   "cell_type": "code",
   "execution_count": 2,
   "metadata": {
    "pycharm": {
     "name": "#%%\n"
    }
   },
   "outputs": [],
   "source": [
    "# load Cora dataset\n",
    "dataset = Planetoid(root='./datasets/Cora', name='Cora', transform=T.NormalizeFeatures())\n",
    "data = dataset[0].to(device)"
   ]
  },
  {
   "cell_type": "code",
   "execution_count": 3,
   "metadata": {},
   "outputs": [],
   "source": [
    "# split dataset\n",
    "train_node = data.train_mask\n",
    "train_target = data.y[data.train_mask]\n",
    "valid_node = data.val_mask\n",
    "valid_target = data.y[data.val_mask]\n",
    "test_node = data.test_mask\n",
    "test_target = data.y[data.test_mask]"
   ]
  },
  {
   "cell_type": "code",
   "execution_count": 4,
   "metadata": {},
   "outputs": [
    {
     "data": {
      "text/plain": [
       "1433"
      ]
     },
     "execution_count": 4,
     "metadata": {},
     "output_type": "execute_result"
    }
   ],
   "source": [
    "in_dim = dataset.num_node_features\n",
    "in_dim"
   ]
  },
  {
   "cell_type": "code",
   "execution_count": 5,
   "metadata": {},
   "outputs": [
    {
     "data": {
      "text/plain": [
       "7"
      ]
     },
     "execution_count": 5,
     "metadata": {},
     "output_type": "execute_result"
    }
   ],
   "source": [
    "class_cardinality = dataset.num_classes\n",
    "class_cardinality"
   ]
  },
  {
   "cell_type": "code",
   "execution_count": 6,
   "metadata": {},
   "outputs": [],
   "source": [
    "node_features = data.x\n",
    "A = data.edge_index"
   ]
  },
  {
   "cell_type": "code",
   "execution_count": 7,
   "metadata": {},
   "outputs": [
    {
     "data": {
      "text/plain": [
       "2708"
      ]
     },
     "execution_count": 7,
     "metadata": {},
     "output_type": "execute_result"
    }
   ],
   "source": [
    "len(data.train_mask)"
   ]
  },
  {
   "cell_type": "code",
   "execution_count": 8,
   "metadata": {},
   "outputs": [
    {
     "data": {
      "text/plain": [
       "tensor([ True,  True,  True,  ..., False, False, False], device='cuda:0')"
      ]
     },
     "execution_count": 8,
     "metadata": {},
     "output_type": "execute_result"
    }
   ],
   "source": [
    "data.train_mask"
   ]
  },
  {
   "cell_type": "code",
   "execution_count": 9,
   "metadata": {},
   "outputs": [
    {
     "data": {
      "text/plain": [
       "2708"
      ]
     },
     "execution_count": 9,
     "metadata": {},
     "output_type": "execute_result"
    }
   ],
   "source": [
    "len(data.y)"
   ]
  },
  {
   "cell_type": "code",
   "execution_count": 10,
   "metadata": {},
   "outputs": [
    {
     "data": {
      "text/plain": [
       "tensor([3, 4, 4,  ..., 3, 3, 3], device='cuda:0')"
      ]
     },
     "execution_count": 10,
     "metadata": {},
     "output_type": "execute_result"
    }
   ],
   "source": [
    "data.y"
   ]
  },
  {
   "cell_type": "code",
   "execution_count": 11,
   "metadata": {},
   "outputs": [
    {
     "data": {
      "text/plain": [
       "tensor([[   0,    0,    0,  ..., 2707, 2707, 2707],\n",
       "        [ 633, 1862, 2582,  ...,  598, 1473, 2706]], device='cuda:0')"
      ]
     },
     "execution_count": 11,
     "metadata": {},
     "output_type": "execute_result"
    }
   ],
   "source": [
    "A"
   ]
  },
  {
   "cell_type": "code",
   "execution_count": 12,
   "metadata": {},
   "outputs": [
    {
     "data": {
      "text/plain": [
       "torch.Size([2, 10556])"
      ]
     },
     "execution_count": 12,
     "metadata": {},
     "output_type": "execute_result"
    }
   ],
   "source": [
    "A.shape"
   ]
  },
  {
   "cell_type": "code",
   "execution_count": 13,
   "metadata": {},
   "outputs": [
    {
     "data": {
      "text/plain": [
       "tensor([[[0., 0., 0.,  ..., 0., 0., 0.],\n",
       "         [0., 0., 1.,  ..., 0., 0., 0.],\n",
       "         [0., 1., 0.,  ..., 0., 0., 0.],\n",
       "         ...,\n",
       "         [0., 0., 0.,  ..., 0., 0., 0.],\n",
       "         [0., 0., 0.,  ..., 0., 0., 1.],\n",
       "         [0., 0., 0.,  ..., 0., 1., 0.]]], device='cuda:0')"
      ]
     },
     "execution_count": 13,
     "metadata": {},
     "output_type": "execute_result"
    }
   ],
   "source": [
    "to_dense_adj(A)"
   ]
  },
  {
   "cell_type": "code",
   "execution_count": 14,
   "metadata": {},
   "outputs": [
    {
     "data": {
      "text/plain": [
       "torch.Size([1, 2708, 2708])"
      ]
     },
     "execution_count": 14,
     "metadata": {},
     "output_type": "execute_result"
    }
   ],
   "source": [
    "to_dense_adj(A).shape"
   ]
  },
  {
   "cell_type": "code",
   "execution_count": 15,
   "metadata": {},
   "outputs": [
    {
     "data": {
      "text/plain": [
       "tensor(10556., device='cuda:0')"
      ]
     },
     "execution_count": 15,
     "metadata": {},
     "output_type": "execute_result"
    }
   ],
   "source": [
    "to_dense_adj(A).sum()"
   ]
  },
  {
   "cell_type": "markdown",
   "metadata": {},
   "source": [
    "## Degree Normalization\n",
    "$\\hat{A} = \\tilde{D}^{-\\frac{1}{2}}\\tilde{A}\\tilde{D}^{-\\frac{1}{2}}$ (~: Self Loop)"
   ]
  },
  {
   "cell_type": "code",
   "execution_count": 16,
   "metadata": {},
   "outputs": [
    {
     "data": {
      "text/plain": [
       "tensor([[0.2500, 0.0000, 0.0000,  ..., 0.0000, 0.0000, 0.0000],\n",
       "        [0.0000, 0.2500, 0.2041,  ..., 0.0000, 0.0000, 0.0000],\n",
       "        [0.0000, 0.2041, 0.1666,  ..., 0.0000, 0.0000, 0.0000],\n",
       "        ...,\n",
       "        [0.0000, 0.0000, 0.0000,  ..., 0.4999, 0.0000, 0.0000],\n",
       "        [0.0000, 0.0000, 0.0000,  ..., 0.0000, 0.2000, 0.2000],\n",
       "        [0.0000, 0.0000, 0.0000,  ..., 0.0000, 0.2000, 0.2000]],\n",
       "       device='cuda:0')"
      ]
     },
     "execution_count": 16,
     "metadata": {},
     "output_type": "execute_result"
    }
   ],
   "source": [
    "A = to_dense_adj(A).squeeze(0)\n",
    "self_loop = torch.eye(*A.shape).to(A)\n",
    "A += self_loop  # add self-loops\n",
    "\n",
    "deg = A.sum(1)\n",
    "deg_inv = deg.pow(-0.5)\n",
    "deg_inv.masked_fill_(deg_inv == torch.inf, 0.)\n",
    "deg_inv = deg_inv * self_loop\n",
    "\n",
    "A = deg_inv.mm(A).mm(deg_inv)\n",
    "A"
   ]
  },
  {
   "cell_type": "markdown",
   "metadata": {
    "pycharm": {
     "name": "#%% md\n"
    }
   },
   "source": [
    "# Implement GCN"
   ]
  },
  {
   "cell_type": "markdown",
   "metadata": {},
   "source": [
    "$\\hat{A}XW$"
   ]
  },
  {
   "cell_type": "code",
   "execution_count": 17,
   "metadata": {
    "pycharm": {
     "name": "#%%\n"
    }
   },
   "outputs": [],
   "source": [
    "class GCN(nn.Linear):\n",
    "\n",
    "    def __init__(self, in_features, out_features):\n",
    "        super().__init__(in_features, out_features, bias=True)\n",
    "        # nn.init.xavier_uniform_(self.weight)\n",
    "\n",
    "    def forward(self, x, adj):\n",
    "        return torch.matmul(adj, super().forward(x))\n"
   ]
  },
  {
   "cell_type": "markdown",
   "metadata": {},
   "source": [
    "$Z = f(X,A) = \\text{softmax}(\\hat{A} \\text{ReLU} (\\hat{A}XW^{(0)}) W^{(1)})$"
   ]
  },
  {
   "cell_type": "code",
   "execution_count": 18,
   "metadata": {
    "pycharm": {
     "name": "#%%\n"
    }
   },
   "outputs": [],
   "source": [
    "class GCNNet(nn.Module):\n",
    "\n",
    "    def __init__(self, in_dim, hidden_dim, class_cardinality, dropout_rate):\n",
    "        super().__init__()\n",
    "        self.gcn0 = GCN(in_dim, hidden_dim)\n",
    "        self.gcn1 = GCN(hidden_dim, class_cardinality)\n",
    "        self.dropout = nn.Dropout(dropout_rate)\n",
    "        self.relu = nn.ReLU()\n",
    "\n",
    "    def forward(self, x, adj):\n",
    "        x = self.dropout(x)\n",
    "        x = self.gcn0(x, adj)\n",
    "        x = self.relu(x)\n",
    "        x = self.dropout(x)\n",
    "        x = self.gcn1(x, adj)\n",
    "        return x.log_softmax(dim=1)\n"
   ]
  },
  {
   "cell_type": "markdown",
   "metadata": {},
   "source": [
    "# Train"
   ]
  },
  {
   "cell_type": "code",
   "execution_count": 19,
   "metadata": {},
   "outputs": [],
   "source": [
    "hidden_dim = 64\n",
    "dropout_rate = 0.8\n",
    "lr = 1e-2\n",
    "weight_decay = 1e-3\n",
    "epochs = 10000\n",
    "patience = 200"
   ]
  },
  {
   "cell_type": "code",
   "execution_count": 20,
   "metadata": {
    "pycharm": {
     "name": "#%%\n"
    }
   },
   "outputs": [],
   "source": [
    "loss_values = []\n",
    "bad_counter = 0\n",
    "best = epochs + 1\n",
    "best_epoch = 0\n",
    "\n",
    "model = GCNNet(in_dim, hidden_dim, class_cardinality, dropout_rate).to(device)\n",
    "optimizer = torch.optim.Adam(model.parameters(), lr=lr, weight_decay=weight_decay)"
   ]
  },
  {
   "cell_type": "code",
   "execution_count": 21,
   "metadata": {
    "pycharm": {
     "name": "#%%\n"
    }
   },
   "outputs": [],
   "source": [
    "def step(epoch):\n",
    "\n",
    "    log = \"[Epoch] {:0>3} \".format(epoch)\n",
    "\n",
    "    model.train().zero_grad()\n",
    "\n",
    "    log_logits = model(node_features, A)\n",
    "    train_loss = F.nll_loss(log_logits[train_node], train_target)\n",
    "    train_acc = accuracy(log_logits[train_node].argmax(1), train_target)\n",
    "\n",
    "    train_loss.backward()\n",
    "    optimizer.step()\n",
    "\n",
    "    log += \" [Train] Loss: {:6.4f}, Accuracy: {:6.4f}\".format(train_loss, train_acc)\n",
    "\n",
    "    model.eval()\n",
    "\n",
    "    with torch.no_grad():\n",
    "        log_logits = model(node_features, A)\n",
    "        valid_loss = F.nll_loss(log_logits[valid_node], valid_target)\n",
    "        valid_acc = accuracy(log_logits[valid_node].argmax(1), valid_target)\n",
    "\n",
    "    log += \" [Valid] Loss: {:6.4f}, Accuracy: {:6.4f}\".format(valid_loss, valid_acc)\n",
    "    print(log)\n",
    "\n",
    "    return valid_loss.item()\n",
    "\n",
    "\n",
    "@torch.no_grad()\n",
    "def compute_test():\n",
    "\n",
    "    model.eval()\n",
    "\n",
    "    log_logits = model(node_features, A)\n",
    "    test_loss = F.nll_loss(log_logits[valid_node], valid_target)\n",
    "    test_acc = accuracy(log_logits[valid_node].argmax(1), valid_target)\n",
    "\n",
    "    return test_loss.item(), test_acc"
   ]
  },
  {
   "cell_type": "code",
   "execution_count": 22,
   "metadata": {
    "pycharm": {
     "name": "#%%\n"
    }
   },
   "outputs": [
    {
     "name": "stdout",
     "output_type": "stream",
     "text": [
      "[Epoch] 000  [Train] Loss: 1.9529, Accuracy: 0.1429 [Valid] Loss: 1.9515, Accuracy: 0.0580\n",
      "[Epoch] 001  [Train] Loss: 1.9487, Accuracy: 0.1714 [Valid] Loss: 1.9494, Accuracy: 0.0580\n",
      "[Epoch] 002  [Train] Loss: 1.9453, Accuracy: 0.1500 [Valid] Loss: 1.9476, Accuracy: 0.0580\n",
      "[Epoch] 003  [Train] Loss: 1.9416, Accuracy: 0.1643 [Valid] Loss: 1.9449, Accuracy: 0.1040\n",
      "[Epoch] 004  [Train] Loss: 1.9353, Accuracy: 0.1786 [Valid] Loss: 1.9419, Accuracy: 0.1220\n",
      "[Epoch] 005  [Train] Loss: 1.9299, Accuracy: 0.2286 [Valid] Loss: 1.9388, Accuracy: 0.1220\n",
      "[Epoch] 006  [Train] Loss: 1.9288, Accuracy: 0.1429 [Valid] Loss: 1.9359, Accuracy: 0.1280\n",
      "[Epoch] 007  [Train] Loss: 1.9193, Accuracy: 0.1857 [Valid] Loss: 1.9325, Accuracy: 0.1460\n",
      "[Epoch] 008  [Train] Loss: 1.9165, Accuracy: 0.2000 [Valid] Loss: 1.9294, Accuracy: 0.1880\n",
      "[Epoch] 009  [Train] Loss: 1.9098, Accuracy: 0.2000 [Valid] Loss: 1.9259, Accuracy: 0.2360\n",
      "[Epoch] 010  [Train] Loss: 1.9077, Accuracy: 0.2500 [Valid] Loss: 1.9224, Accuracy: 0.2580\n",
      "[Epoch] 011  [Train] Loss: 1.9035, Accuracy: 0.2429 [Valid] Loss: 1.9190, Accuracy: 0.2640\n",
      "[Epoch] 012  [Train] Loss: 1.8871, Accuracy: 0.2643 [Valid] Loss: 1.9151, Accuracy: 0.2600\n",
      "[Epoch] 013  [Train] Loss: 1.8928, Accuracy: 0.2786 [Valid] Loss: 1.9108, Accuracy: 0.2520\n",
      "[Epoch] 014  [Train] Loss: 1.8845, Accuracy: 0.2429 [Valid] Loss: 1.9069, Accuracy: 0.2500\n",
      "[Epoch] 015  [Train] Loss: 1.8769, Accuracy: 0.3143 [Valid] Loss: 1.9027, Accuracy: 0.2460\n",
      "[Epoch] 016  [Train] Loss: 1.8639, Accuracy: 0.3143 [Valid] Loss: 1.8986, Accuracy: 0.2600\n",
      "[Epoch] 017  [Train] Loss: 1.8537, Accuracy: 0.3357 [Valid] Loss: 1.8942, Accuracy: 0.2820\n",
      "[Epoch] 018  [Train] Loss: 1.8431, Accuracy: 0.3929 [Valid] Loss: 1.8888, Accuracy: 0.3240\n",
      "[Epoch] 019  [Train] Loss: 1.8558, Accuracy: 0.3571 [Valid] Loss: 1.8819, Accuracy: 0.3520\n",
      "[Epoch] 020  [Train] Loss: 1.8328, Accuracy: 0.4214 [Valid] Loss: 1.8747, Accuracy: 0.3760\n",
      "[Epoch] 021  [Train] Loss: 1.7957, Accuracy: 0.5929 [Valid] Loss: 1.8658, Accuracy: 0.4140\n",
      "[Epoch] 022  [Train] Loss: 1.8080, Accuracy: 0.5357 [Valid] Loss: 1.8560, Accuracy: 0.4560\n",
      "[Epoch] 023  [Train] Loss: 1.8096, Accuracy: 0.4500 [Valid] Loss: 1.8460, Accuracy: 0.4920\n",
      "[Epoch] 024  [Train] Loss: 1.7676, Accuracy: 0.5929 [Valid] Loss: 1.8349, Accuracy: 0.5200\n",
      "[Epoch] 025  [Train] Loss: 1.7628, Accuracy: 0.6071 [Valid] Loss: 1.8234, Accuracy: 0.5460\n",
      "[Epoch] 026  [Train] Loss: 1.7488, Accuracy: 0.5500 [Valid] Loss: 1.8115, Accuracy: 0.5560\n",
      "[Epoch] 027  [Train] Loss: 1.7546, Accuracy: 0.6071 [Valid] Loss: 1.7992, Accuracy: 0.5680\n",
      "[Epoch] 028  [Train] Loss: 1.7314, Accuracy: 0.5643 [Valid] Loss: 1.7870, Accuracy: 0.5740\n",
      "[Epoch] 029  [Train] Loss: 1.7128, Accuracy: 0.6000 [Valid] Loss: 1.7753, Accuracy: 0.5860\n",
      "[Epoch] 030  [Train] Loss: 1.6921, Accuracy: 0.5929 [Valid] Loss: 1.7640, Accuracy: 0.6120\n",
      "[Epoch] 031  [Train] Loss: 1.6926, Accuracy: 0.6071 [Valid] Loss: 1.7519, Accuracy: 0.6360\n",
      "[Epoch] 032  [Train] Loss: 1.6741, Accuracy: 0.5571 [Valid] Loss: 1.7400, Accuracy: 0.6640\n",
      "[Epoch] 033  [Train] Loss: 1.6601, Accuracy: 0.5571 [Valid] Loss: 1.7292, Accuracy: 0.6860\n",
      "[Epoch] 034  [Train] Loss: 1.6393, Accuracy: 0.6643 [Valid] Loss: 1.7180, Accuracy: 0.7040\n",
      "[Epoch] 035  [Train] Loss: 1.6417, Accuracy: 0.6429 [Valid] Loss: 1.7080, Accuracy: 0.7160\n",
      "[Epoch] 036  [Train] Loss: 1.6057, Accuracy: 0.7143 [Valid] Loss: 1.6996, Accuracy: 0.7320\n",
      "[Epoch] 037  [Train] Loss: 1.6101, Accuracy: 0.5714 [Valid] Loss: 1.6906, Accuracy: 0.7200\n",
      "[Epoch] 038  [Train] Loss: 1.5476, Accuracy: 0.6857 [Valid] Loss: 1.6800, Accuracy: 0.7100\n",
      "[Epoch] 039  [Train] Loss: 1.5727, Accuracy: 0.6429 [Valid] Loss: 1.6665, Accuracy: 0.7100\n",
      "[Epoch] 040  [Train] Loss: 1.5648, Accuracy: 0.6571 [Valid] Loss: 1.6520, Accuracy: 0.7080\n",
      "[Epoch] 041  [Train] Loss: 1.4579, Accuracy: 0.7000 [Valid] Loss: 1.6353, Accuracy: 0.7160\n",
      "[Epoch] 042  [Train] Loss: 1.4750, Accuracy: 0.7000 [Valid] Loss: 1.6183, Accuracy: 0.7240\n",
      "[Epoch] 043  [Train] Loss: 1.4680, Accuracy: 0.6786 [Valid] Loss: 1.6010, Accuracy: 0.7180\n",
      "[Epoch] 044  [Train] Loss: 1.4804, Accuracy: 0.6929 [Valid] Loss: 1.5847, Accuracy: 0.7260\n",
      "[Epoch] 045  [Train] Loss: 1.3645, Accuracy: 0.7714 [Valid] Loss: 1.5694, Accuracy: 0.7420\n",
      "[Epoch] 046  [Train] Loss: 1.4362, Accuracy: 0.6786 [Valid] Loss: 1.5544, Accuracy: 0.7680\n",
      "[Epoch] 047  [Train] Loss: 1.4068, Accuracy: 0.6857 [Valid] Loss: 1.5419, Accuracy: 0.7820\n",
      "[Epoch] 048  [Train] Loss: 1.3677, Accuracy: 0.7286 [Valid] Loss: 1.5289, Accuracy: 0.7860\n",
      "[Epoch] 049  [Train] Loss: 1.4102, Accuracy: 0.7143 [Valid] Loss: 1.5159, Accuracy: 0.7840\n",
      "[Epoch] 050  [Train] Loss: 1.3453, Accuracy: 0.7500 [Valid] Loss: 1.5019, Accuracy: 0.7840\n",
      "[Epoch] 051  [Train] Loss: 1.3499, Accuracy: 0.7000 [Valid] Loss: 1.4879, Accuracy: 0.7800\n",
      "[Epoch] 052  [Train] Loss: 1.2947, Accuracy: 0.7643 [Valid] Loss: 1.4723, Accuracy: 0.7840\n",
      "[Epoch] 053  [Train] Loss: 1.2915, Accuracy: 0.7714 [Valid] Loss: 1.4567, Accuracy: 0.7700\n",
      "[Epoch] 054  [Train] Loss: 1.2843, Accuracy: 0.6929 [Valid] Loss: 1.4424, Accuracy: 0.7640\n",
      "[Epoch] 055  [Train] Loss: 1.2642, Accuracy: 0.6571 [Valid] Loss: 1.4292, Accuracy: 0.7500\n",
      "[Epoch] 056  [Train] Loss: 1.2915, Accuracy: 0.7000 [Valid] Loss: 1.4171, Accuracy: 0.7480\n",
      "[Epoch] 057  [Train] Loss: 1.2132, Accuracy: 0.7571 [Valid] Loss: 1.4047, Accuracy: 0.7520\n",
      "[Epoch] 058  [Train] Loss: 1.2244, Accuracy: 0.7286 [Valid] Loss: 1.3887, Accuracy: 0.7680\n",
      "[Epoch] 059  [Train] Loss: 1.1734, Accuracy: 0.7786 [Valid] Loss: 1.3721, Accuracy: 0.7720\n",
      "[Epoch] 060  [Train] Loss: 1.1744, Accuracy: 0.7071 [Valid] Loss: 1.3542, Accuracy: 0.7840\n",
      "[Epoch] 061  [Train] Loss: 1.1955, Accuracy: 0.8071 [Valid] Loss: 1.3383, Accuracy: 0.7880\n",
      "[Epoch] 062  [Train] Loss: 1.1176, Accuracy: 0.7786 [Valid] Loss: 1.3246, Accuracy: 0.7940\n",
      "[Epoch] 063  [Train] Loss: 1.1554, Accuracy: 0.7357 [Valid] Loss: 1.3119, Accuracy: 0.7820\n",
      "[Epoch] 064  [Train] Loss: 1.0695, Accuracy: 0.8143 [Valid] Loss: 1.3002, Accuracy: 0.7940\n",
      "[Epoch] 065  [Train] Loss: 1.0943, Accuracy: 0.7643 [Valid] Loss: 1.2902, Accuracy: 0.7940\n",
      "[Epoch] 066  [Train] Loss: 1.1051, Accuracy: 0.7643 [Valid] Loss: 1.2799, Accuracy: 0.7920\n",
      "[Epoch] 067  [Train] Loss: 1.0338, Accuracy: 0.7929 [Valid] Loss: 1.2740, Accuracy: 0.7880\n",
      "[Epoch] 068  [Train] Loss: 1.0359, Accuracy: 0.8286 [Valid] Loss: 1.2663, Accuracy: 0.7860\n",
      "[Epoch] 069  [Train] Loss: 1.0613, Accuracy: 0.7571 [Valid] Loss: 1.2588, Accuracy: 0.7780\n",
      "[Epoch] 070  [Train] Loss: 0.9715, Accuracy: 0.8071 [Valid] Loss: 1.2461, Accuracy: 0.7740\n",
      "[Epoch] 071  [Train] Loss: 1.1084, Accuracy: 0.7214 [Valid] Loss: 1.2339, Accuracy: 0.7760\n",
      "[Epoch] 072  [Train] Loss: 0.9718, Accuracy: 0.8071 [Valid] Loss: 1.2202, Accuracy: 0.7820\n",
      "[Epoch] 073  [Train] Loss: 1.0108, Accuracy: 0.7929 [Valid] Loss: 1.2074, Accuracy: 0.7900\n",
      "[Epoch] 074  [Train] Loss: 1.0341, Accuracy: 0.7786 [Valid] Loss: 1.1979, Accuracy: 0.7960\n",
      "[Epoch] 075  [Train] Loss: 1.0027, Accuracy: 0.7786 [Valid] Loss: 1.1902, Accuracy: 0.7960\n",
      "[Epoch] 076  [Train] Loss: 0.9722, Accuracy: 0.8071 [Valid] Loss: 1.1838, Accuracy: 0.7920\n",
      "[Epoch] 077  [Train] Loss: 0.9738, Accuracy: 0.8000 [Valid] Loss: 1.1767, Accuracy: 0.7900\n",
      "[Epoch] 078  [Train] Loss: 0.9550, Accuracy: 0.8357 [Valid] Loss: 1.1668, Accuracy: 0.7900\n",
      "[Epoch] 079  [Train] Loss: 0.9268, Accuracy: 0.7571 [Valid] Loss: 1.1587, Accuracy: 0.7900\n",
      "[Epoch] 080  [Train] Loss: 0.9288, Accuracy: 0.8071 [Valid] Loss: 1.1512, Accuracy: 0.7920\n",
      "[Epoch] 081  [Train] Loss: 1.0112, Accuracy: 0.7071 [Valid] Loss: 1.1469, Accuracy: 0.7900\n",
      "[Epoch] 082  [Train] Loss: 0.9466, Accuracy: 0.7357 [Valid] Loss: 1.1440, Accuracy: 0.7880\n",
      "[Epoch] 083  [Train] Loss: 0.9205, Accuracy: 0.8214 [Valid] Loss: 1.1435, Accuracy: 0.7760\n",
      "[Epoch] 084  [Train] Loss: 0.9855, Accuracy: 0.7429 [Valid] Loss: 1.1415, Accuracy: 0.7740\n",
      "[Epoch] 085  [Train] Loss: 0.9538, Accuracy: 0.7857 [Valid] Loss: 1.1392, Accuracy: 0.7700\n",
      "[Epoch] 086  [Train] Loss: 0.8902, Accuracy: 0.7714 [Valid] Loss: 1.1356, Accuracy: 0.7720\n",
      "[Epoch] 087  [Train] Loss: 0.9166, Accuracy: 0.7714 [Valid] Loss: 1.1325, Accuracy: 0.7740\n",
      "[Epoch] 088  [Train] Loss: 0.9484, Accuracy: 0.8000 [Valid] Loss: 1.1243, Accuracy: 0.7760\n",
      "[Epoch] 089  [Train] Loss: 1.0039, Accuracy: 0.7714 [Valid] Loss: 1.1162, Accuracy: 0.7820\n",
      "[Epoch] 090  [Train] Loss: 0.8221, Accuracy: 0.8071 [Valid] Loss: 1.1056, Accuracy: 0.7860\n",
      "[Epoch] 091  [Train] Loss: 0.8471, Accuracy: 0.8714 [Valid] Loss: 1.0971, Accuracy: 0.7920\n",
      "[Epoch] 092  [Train] Loss: 0.8614, Accuracy: 0.8429 [Valid] Loss: 1.0903, Accuracy: 0.7900\n",
      "[Epoch] 093  [Train] Loss: 0.8369, Accuracy: 0.8500 [Valid] Loss: 1.0841, Accuracy: 0.7940\n",
      "[Epoch] 094  [Train] Loss: 0.8808, Accuracy: 0.8071 [Valid] Loss: 1.0814, Accuracy: 0.7960\n",
      "[Epoch] 095  [Train] Loss: 0.8276, Accuracy: 0.8071 [Valid] Loss: 1.0785, Accuracy: 0.7940\n",
      "[Epoch] 096  [Train] Loss: 0.8307, Accuracy: 0.8357 [Valid] Loss: 1.0757, Accuracy: 0.7860\n",
      "[Epoch] 097  [Train] Loss: 0.8546, Accuracy: 0.8429 [Valid] Loss: 1.0741, Accuracy: 0.7880\n",
      "[Epoch] 098  [Train] Loss: 0.8394, Accuracy: 0.8214 [Valid] Loss: 1.0715, Accuracy: 0.7880\n",
      "[Epoch] 099  [Train] Loss: 0.8491, Accuracy: 0.8071 [Valid] Loss: 1.0664, Accuracy: 0.7860\n",
      "[Epoch] 100  [Train] Loss: 0.8000, Accuracy: 0.8643 [Valid] Loss: 1.0600, Accuracy: 0.7860\n",
      "[Epoch] 101  [Train] Loss: 0.8149, Accuracy: 0.8429 [Valid] Loss: 1.0548, Accuracy: 0.7900\n",
      "[Epoch] 102  [Train] Loss: 0.7845, Accuracy: 0.8214 [Valid] Loss: 1.0515, Accuracy: 0.7820\n",
      "[Epoch] 103  [Train] Loss: 0.8838, Accuracy: 0.7214 [Valid] Loss: 1.0435, Accuracy: 0.7880\n",
      "[Epoch] 104  [Train] Loss: 0.8232, Accuracy: 0.8071 [Valid] Loss: 1.0346, Accuracy: 0.7980\n",
      "[Epoch] 105  [Train] Loss: 0.8090, Accuracy: 0.8000 [Valid] Loss: 1.0294, Accuracy: 0.7980\n",
      "[Epoch] 106  [Train] Loss: 0.8616, Accuracy: 0.7714 [Valid] Loss: 1.0265, Accuracy: 0.7960\n",
      "[Epoch] 107  [Train] Loss: 0.8503, Accuracy: 0.8000 [Valid] Loss: 1.0230, Accuracy: 0.7960\n",
      "[Epoch] 108  [Train] Loss: 0.8214, Accuracy: 0.7929 [Valid] Loss: 1.0207, Accuracy: 0.7980\n",
      "[Epoch] 109  [Train] Loss: 0.8199, Accuracy: 0.7929 [Valid] Loss: 1.0179, Accuracy: 0.7960\n",
      "[Epoch] 110  [Train] Loss: 0.7642, Accuracy: 0.8643 [Valid] Loss: 1.0158, Accuracy: 0.8020\n",
      "[Epoch] 111  [Train] Loss: 0.8036, Accuracy: 0.8286 [Valid] Loss: 1.0140, Accuracy: 0.7940\n",
      "[Epoch] 112  [Train] Loss: 0.7580, Accuracy: 0.8571 [Valid] Loss: 1.0109, Accuracy: 0.7980\n",
      "[Epoch] 113  [Train] Loss: 0.7706, Accuracy: 0.8000 [Valid] Loss: 1.0063, Accuracy: 0.8000\n",
      "[Epoch] 114  [Train] Loss: 0.7834, Accuracy: 0.8143 [Valid] Loss: 1.0048, Accuracy: 0.7980\n",
      "[Epoch] 115  [Train] Loss: 0.7759, Accuracy: 0.8714 [Valid] Loss: 1.0011, Accuracy: 0.7960\n",
      "[Epoch] 116  [Train] Loss: 0.8080, Accuracy: 0.8214 [Valid] Loss: 0.9995, Accuracy: 0.7940\n",
      "[Epoch] 117  [Train] Loss: 0.8098, Accuracy: 0.7857 [Valid] Loss: 0.9987, Accuracy: 0.7900\n",
      "[Epoch] 118  [Train] Loss: 0.8199, Accuracy: 0.8000 [Valid] Loss: 0.9986, Accuracy: 0.7920\n",
      "[Epoch] 119  [Train] Loss: 0.7241, Accuracy: 0.8286 [Valid] Loss: 0.9995, Accuracy: 0.7880\n",
      "[Epoch] 120  [Train] Loss: 0.7230, Accuracy: 0.8286 [Valid] Loss: 0.9977, Accuracy: 0.7920\n",
      "[Epoch] 121  [Train] Loss: 0.7995, Accuracy: 0.8500 [Valid] Loss: 0.9974, Accuracy: 0.7900\n",
      "[Epoch] 122  [Train] Loss: 0.8142, Accuracy: 0.7857 [Valid] Loss: 0.9973, Accuracy: 0.7880\n",
      "[Epoch] 123  [Train] Loss: 0.7484, Accuracy: 0.8357 [Valid] Loss: 0.9966, Accuracy: 0.7940\n",
      "[Epoch] 124  [Train] Loss: 0.7527, Accuracy: 0.8286 [Valid] Loss: 0.9947, Accuracy: 0.8000\n",
      "[Epoch] 125  [Train] Loss: 0.7655, Accuracy: 0.8571 [Valid] Loss: 0.9936, Accuracy: 0.7940\n",
      "[Epoch] 126  [Train] Loss: 0.8445, Accuracy: 0.7857 [Valid] Loss: 0.9943, Accuracy: 0.7900\n",
      "[Epoch] 127  [Train] Loss: 0.6784, Accuracy: 0.8643 [Valid] Loss: 0.9944, Accuracy: 0.7900\n",
      "[Epoch] 128  [Train] Loss: 0.7303, Accuracy: 0.8500 [Valid] Loss: 0.9969, Accuracy: 0.7920\n",
      "[Epoch] 129  [Train] Loss: 0.7445, Accuracy: 0.8571 [Valid] Loss: 0.9951, Accuracy: 0.7900\n",
      "[Epoch] 130  [Train] Loss: 0.7772, Accuracy: 0.8214 [Valid] Loss: 0.9932, Accuracy: 0.7960\n",
      "[Epoch] 131  [Train] Loss: 0.7133, Accuracy: 0.8286 [Valid] Loss: 0.9922, Accuracy: 0.7940\n",
      "[Epoch] 132  [Train] Loss: 0.7330, Accuracy: 0.8571 [Valid] Loss: 0.9888, Accuracy: 0.7960\n",
      "[Epoch] 133  [Train] Loss: 0.7104, Accuracy: 0.8500 [Valid] Loss: 0.9830, Accuracy: 0.7940\n",
      "[Epoch] 134  [Train] Loss: 0.7273, Accuracy: 0.8143 [Valid] Loss: 0.9757, Accuracy: 0.7940\n",
      "[Epoch] 135  [Train] Loss: 0.7057, Accuracy: 0.8286 [Valid] Loss: 0.9705, Accuracy: 0.7920\n",
      "[Epoch] 136  [Train] Loss: 0.7006, Accuracy: 0.8643 [Valid] Loss: 0.9591, Accuracy: 0.7920\n",
      "[Epoch] 137  [Train] Loss: 0.7290, Accuracy: 0.8071 [Valid] Loss: 0.9512, Accuracy: 0.7900\n",
      "[Epoch] 138  [Train] Loss: 0.7006, Accuracy: 0.8286 [Valid] Loss: 0.9492, Accuracy: 0.7940\n",
      "[Epoch] 139  [Train] Loss: 0.7025, Accuracy: 0.8286 [Valid] Loss: 0.9490, Accuracy: 0.7940\n",
      "[Epoch] 140  [Train] Loss: 0.6221, Accuracy: 0.8714 [Valid] Loss: 0.9507, Accuracy: 0.7980\n",
      "[Epoch] 141  [Train] Loss: 0.7262, Accuracy: 0.8643 [Valid] Loss: 0.9521, Accuracy: 0.7980\n",
      "[Epoch] 142  [Train] Loss: 0.7212, Accuracy: 0.8429 [Valid] Loss: 0.9558, Accuracy: 0.7960\n",
      "[Epoch] 143  [Train] Loss: 0.7073, Accuracy: 0.8214 [Valid] Loss: 0.9620, Accuracy: 0.7980\n",
      "[Epoch] 144  [Train] Loss: 0.7063, Accuracy: 0.8714 [Valid] Loss: 0.9680, Accuracy: 0.7940\n",
      "[Epoch] 145  [Train] Loss: 0.6781, Accuracy: 0.8571 [Valid] Loss: 0.9735, Accuracy: 0.7900\n",
      "[Epoch] 146  [Train] Loss: 0.6586, Accuracy: 0.8357 [Valid] Loss: 0.9738, Accuracy: 0.7880\n",
      "[Epoch] 147  [Train] Loss: 0.6967, Accuracy: 0.8786 [Valid] Loss: 0.9651, Accuracy: 0.7900\n",
      "[Epoch] 148  [Train] Loss: 0.7623, Accuracy: 0.8571 [Valid] Loss: 0.9506, Accuracy: 0.7900\n",
      "[Epoch] 149  [Train] Loss: 0.7340, Accuracy: 0.8571 [Valid] Loss: 0.9386, Accuracy: 0.7920\n",
      "[Epoch] 150  [Train] Loss: 0.7037, Accuracy: 0.8286 [Valid] Loss: 0.9325, Accuracy: 0.7960\n",
      "[Epoch] 151  [Train] Loss: 0.6973, Accuracy: 0.8429 [Valid] Loss: 0.9291, Accuracy: 0.7940\n",
      "[Epoch] 152  [Train] Loss: 0.7396, Accuracy: 0.8286 [Valid] Loss: 0.9293, Accuracy: 0.7960\n",
      "[Epoch] 153  [Train] Loss: 0.7087, Accuracy: 0.8500 [Valid] Loss: 0.9337, Accuracy: 0.7880\n",
      "[Epoch] 154  [Train] Loss: 0.6409, Accuracy: 0.8714 [Valid] Loss: 0.9383, Accuracy: 0.7840\n",
      "[Epoch] 155  [Train] Loss: 0.6790, Accuracy: 0.8929 [Valid] Loss: 0.9481, Accuracy: 0.7880\n",
      "[Epoch] 156  [Train] Loss: 0.6873, Accuracy: 0.8857 [Valid] Loss: 0.9536, Accuracy: 0.7860\n",
      "[Epoch] 157  [Train] Loss: 0.6877, Accuracy: 0.8000 [Valid] Loss: 0.9527, Accuracy: 0.7800\n",
      "[Epoch] 158  [Train] Loss: 0.7932, Accuracy: 0.8214 [Valid] Loss: 0.9514, Accuracy: 0.7820\n",
      "[Epoch] 159  [Train] Loss: 0.6903, Accuracy: 0.8857 [Valid] Loss: 0.9445, Accuracy: 0.7920\n",
      "[Epoch] 160  [Train] Loss: 0.7435, Accuracy: 0.8286 [Valid] Loss: 0.9347, Accuracy: 0.7900\n",
      "[Epoch] 161  [Train] Loss: 0.6686, Accuracy: 0.8429 [Valid] Loss: 0.9276, Accuracy: 0.8060\n",
      "[Epoch] 162  [Train] Loss: 0.6131, Accuracy: 0.9071 [Valid] Loss: 0.9237, Accuracy: 0.8040\n",
      "[Epoch] 163  [Train] Loss: 0.7004, Accuracy: 0.8429 [Valid] Loss: 0.9229, Accuracy: 0.8040\n",
      "[Epoch] 164  [Train] Loss: 0.6314, Accuracy: 0.8929 [Valid] Loss: 0.9204, Accuracy: 0.8020\n",
      "[Epoch] 165  [Train] Loss: 0.6339, Accuracy: 0.8429 [Valid] Loss: 0.9168, Accuracy: 0.8020\n",
      "[Epoch] 166  [Train] Loss: 0.6886, Accuracy: 0.8143 [Valid] Loss: 0.9129, Accuracy: 0.8080\n",
      "[Epoch] 167  [Train] Loss: 0.6922, Accuracy: 0.8286 [Valid] Loss: 0.9108, Accuracy: 0.8060\n",
      "[Epoch] 168  [Train] Loss: 0.6887, Accuracy: 0.8643 [Valid] Loss: 0.9088, Accuracy: 0.8000\n",
      "[Epoch] 169  [Train] Loss: 0.6536, Accuracy: 0.8714 [Valid] Loss: 0.9117, Accuracy: 0.7940\n",
      "[Epoch] 170  [Train] Loss: 0.7479, Accuracy: 0.8143 [Valid] Loss: 0.9159, Accuracy: 0.7880\n",
      "[Epoch] 171  [Train] Loss: 0.6712, Accuracy: 0.8429 [Valid] Loss: 0.9206, Accuracy: 0.7860\n",
      "[Epoch] 172  [Train] Loss: 0.6392, Accuracy: 0.8714 [Valid] Loss: 0.9246, Accuracy: 0.7900\n",
      "[Epoch] 173  [Train] Loss: 0.7075, Accuracy: 0.8429 [Valid] Loss: 0.9280, Accuracy: 0.7900\n",
      "[Epoch] 174  [Train] Loss: 0.7815, Accuracy: 0.8143 [Valid] Loss: 0.9245, Accuracy: 0.7900\n",
      "[Epoch] 175  [Train] Loss: 0.7015, Accuracy: 0.8643 [Valid] Loss: 0.9174, Accuracy: 0.7900\n",
      "[Epoch] 176  [Train] Loss: 0.6469, Accuracy: 0.8786 [Valid] Loss: 0.9086, Accuracy: 0.7940\n",
      "[Epoch] 177  [Train] Loss: 0.6789, Accuracy: 0.8571 [Valid] Loss: 0.9024, Accuracy: 0.8020\n",
      "[Epoch] 178  [Train] Loss: 0.7016, Accuracy: 0.8286 [Valid] Loss: 0.8963, Accuracy: 0.8020\n",
      "[Epoch] 179  [Train] Loss: 0.6858, Accuracy: 0.8429 [Valid] Loss: 0.8924, Accuracy: 0.8000\n",
      "[Epoch] 180  [Train] Loss: 0.6538, Accuracy: 0.8786 [Valid] Loss: 0.8965, Accuracy: 0.8040\n",
      "[Epoch] 181  [Train] Loss: 0.7165, Accuracy: 0.8214 [Valid] Loss: 0.9040, Accuracy: 0.8000\n",
      "[Epoch] 182  [Train] Loss: 0.6172, Accuracy: 0.8786 [Valid] Loss: 0.9159, Accuracy: 0.7980\n",
      "[Epoch] 183  [Train] Loss: 0.6438, Accuracy: 0.8286 [Valid] Loss: 0.9254, Accuracy: 0.7940\n",
      "[Epoch] 184  [Train] Loss: 0.7020, Accuracy: 0.8429 [Valid] Loss: 0.9318, Accuracy: 0.7880\n",
      "[Epoch] 185  [Train] Loss: 0.7184, Accuracy: 0.8214 [Valid] Loss: 0.9357, Accuracy: 0.7860\n",
      "[Epoch] 186  [Train] Loss: 0.7016, Accuracy: 0.8429 [Valid] Loss: 0.9388, Accuracy: 0.7820\n",
      "[Epoch] 187  [Train] Loss: 0.6287, Accuracy: 0.8786 [Valid] Loss: 0.9377, Accuracy: 0.7860\n",
      "[Epoch] 188  [Train] Loss: 0.7215, Accuracy: 0.8571 [Valid] Loss: 0.9319, Accuracy: 0.7840\n",
      "[Epoch] 189  [Train] Loss: 0.6217, Accuracy: 0.8714 [Valid] Loss: 0.9228, Accuracy: 0.7880\n",
      "[Epoch] 190  [Train] Loss: 0.6442, Accuracy: 0.8786 [Valid] Loss: 0.9075, Accuracy: 0.7880\n",
      "[Epoch] 191  [Train] Loss: 0.6796, Accuracy: 0.8500 [Valid] Loss: 0.8968, Accuracy: 0.7940\n",
      "[Epoch] 192  [Train] Loss: 0.6308, Accuracy: 0.8143 [Valid] Loss: 0.8900, Accuracy: 0.8020\n",
      "[Epoch] 193  [Train] Loss: 0.6614, Accuracy: 0.8571 [Valid] Loss: 0.8903, Accuracy: 0.8080\n",
      "[Epoch] 194  [Train] Loss: 0.6957, Accuracy: 0.8286 [Valid] Loss: 0.8979, Accuracy: 0.8000\n",
      "[Epoch] 195  [Train] Loss: 0.7094, Accuracy: 0.8214 [Valid] Loss: 0.9093, Accuracy: 0.7980\n",
      "[Epoch] 196  [Train] Loss: 0.6760, Accuracy: 0.8786 [Valid] Loss: 0.9165, Accuracy: 0.7900\n",
      "[Epoch] 197  [Train] Loss: 0.5976, Accuracy: 0.8929 [Valid] Loss: 0.9216, Accuracy: 0.7900\n",
      "[Epoch] 198  [Train] Loss: 0.6191, Accuracy: 0.9000 [Valid] Loss: 0.9214, Accuracy: 0.7860\n",
      "[Epoch] 199  [Train] Loss: 0.6886, Accuracy: 0.8286 [Valid] Loss: 0.9206, Accuracy: 0.7840\n",
      "[Epoch] 200  [Train] Loss: 0.6678, Accuracy: 0.8286 [Valid] Loss: 0.9155, Accuracy: 0.7860\n",
      "[Epoch] 201  [Train] Loss: 0.6298, Accuracy: 0.8857 [Valid] Loss: 0.9116, Accuracy: 0.7840\n",
      "[Epoch] 202  [Train] Loss: 0.5969, Accuracy: 0.9000 [Valid] Loss: 0.9058, Accuracy: 0.7840\n",
      "[Epoch] 203  [Train] Loss: 0.7140, Accuracy: 0.8357 [Valid] Loss: 0.8997, Accuracy: 0.7860\n",
      "[Epoch] 204  [Train] Loss: 0.6338, Accuracy: 0.9000 [Valid] Loss: 0.8967, Accuracy: 0.7900\n",
      "[Epoch] 205  [Train] Loss: 0.6123, Accuracy: 0.8643 [Valid] Loss: 0.8940, Accuracy: 0.7940\n",
      "[Epoch] 206  [Train] Loss: 0.6097, Accuracy: 0.8714 [Valid] Loss: 0.8902, Accuracy: 0.8020\n",
      "[Epoch] 207  [Train] Loss: 0.7030, Accuracy: 0.8143 [Valid] Loss: 0.8915, Accuracy: 0.7960\n",
      "[Epoch] 208  [Train] Loss: 0.6184, Accuracy: 0.8786 [Valid] Loss: 0.8920, Accuracy: 0.7960\n",
      "[Epoch] 209  [Train] Loss: 0.6051, Accuracy: 0.8571 [Valid] Loss: 0.8923, Accuracy: 0.7940\n",
      "[Epoch] 210  [Train] Loss: 0.7016, Accuracy: 0.8429 [Valid] Loss: 0.8941, Accuracy: 0.7980\n",
      "[Epoch] 211  [Train] Loss: 0.6634, Accuracy: 0.8643 [Valid] Loss: 0.8971, Accuracy: 0.7960\n",
      "[Epoch] 212  [Train] Loss: 0.7169, Accuracy: 0.8500 [Valid] Loss: 0.8990, Accuracy: 0.7900\n",
      "[Epoch] 213  [Train] Loss: 0.6492, Accuracy: 0.8857 [Valid] Loss: 0.8972, Accuracy: 0.7860\n",
      "[Epoch] 214  [Train] Loss: 0.6683, Accuracy: 0.8143 [Valid] Loss: 0.9000, Accuracy: 0.7800\n",
      "[Epoch] 215  [Train] Loss: 0.6988, Accuracy: 0.8643 [Valid] Loss: 0.9047, Accuracy: 0.7820\n",
      "[Epoch] 216  [Train] Loss: 0.7013, Accuracy: 0.8429 [Valid] Loss: 0.9056, Accuracy: 0.7840\n",
      "[Epoch] 217  [Train] Loss: 0.6392, Accuracy: 0.8714 [Valid] Loss: 0.9053, Accuracy: 0.7840\n",
      "[Epoch] 218  [Train] Loss: 0.6009, Accuracy: 0.8786 [Valid] Loss: 0.8953, Accuracy: 0.7900\n",
      "[Epoch] 219  [Train] Loss: 0.6081, Accuracy: 0.8643 [Valid] Loss: 0.8872, Accuracy: 0.7960\n",
      "[Epoch] 220  [Train] Loss: 0.6626, Accuracy: 0.8214 [Valid] Loss: 0.8815, Accuracy: 0.7980\n",
      "[Epoch] 221  [Train] Loss: 0.6767, Accuracy: 0.8143 [Valid] Loss: 0.8780, Accuracy: 0.7980\n",
      "[Epoch] 222  [Train] Loss: 0.6369, Accuracy: 0.8214 [Valid] Loss: 0.8753, Accuracy: 0.8000\n",
      "[Epoch] 223  [Train] Loss: 0.6643, Accuracy: 0.8643 [Valid] Loss: 0.8781, Accuracy: 0.7980\n",
      "[Epoch] 224  [Train] Loss: 0.6790, Accuracy: 0.8286 [Valid] Loss: 0.8846, Accuracy: 0.7980\n",
      "[Epoch] 225  [Train] Loss: 0.6475, Accuracy: 0.8643 [Valid] Loss: 0.8927, Accuracy: 0.7980\n",
      "[Epoch] 226  [Train] Loss: 0.6047, Accuracy: 0.8500 [Valid] Loss: 0.8968, Accuracy: 0.7940\n",
      "[Epoch] 227  [Train] Loss: 0.6157, Accuracy: 0.8571 [Valid] Loss: 0.8982, Accuracy: 0.7880\n",
      "[Epoch] 228  [Train] Loss: 0.5882, Accuracy: 0.8929 [Valid] Loss: 0.9037, Accuracy: 0.7800\n",
      "[Epoch] 229  [Train] Loss: 0.6819, Accuracy: 0.8429 [Valid] Loss: 0.9099, Accuracy: 0.7820\n",
      "[Epoch] 230  [Train] Loss: 0.6432, Accuracy: 0.8643 [Valid] Loss: 0.9118, Accuracy: 0.7820\n",
      "[Epoch] 231  [Train] Loss: 0.6899, Accuracy: 0.8357 [Valid] Loss: 0.9072, Accuracy: 0.7820\n",
      "[Epoch] 232  [Train] Loss: 0.6216, Accuracy: 0.8786 [Valid] Loss: 0.9006, Accuracy: 0.7820\n",
      "[Epoch] 233  [Train] Loss: 0.6315, Accuracy: 0.8929 [Valid] Loss: 0.8898, Accuracy: 0.7900\n",
      "[Epoch] 234  [Train] Loss: 0.6422, Accuracy: 0.8214 [Valid] Loss: 0.8802, Accuracy: 0.7920\n",
      "[Epoch] 235  [Train] Loss: 0.6159, Accuracy: 0.9000 [Valid] Loss: 0.8754, Accuracy: 0.7880\n",
      "[Epoch] 236  [Train] Loss: 0.6657, Accuracy: 0.8714 [Valid] Loss: 0.8737, Accuracy: 0.7880\n",
      "[Epoch] 237  [Train] Loss: 0.6702, Accuracy: 0.8643 [Valid] Loss: 0.8731, Accuracy: 0.7860\n",
      "[Epoch] 238  [Train] Loss: 0.6201, Accuracy: 0.8857 [Valid] Loss: 0.8738, Accuracy: 0.7860\n",
      "[Epoch] 239  [Train] Loss: 0.5816, Accuracy: 0.8714 [Valid] Loss: 0.8781, Accuracy: 0.7920\n",
      "[Epoch] 240  [Train] Loss: 0.6032, Accuracy: 0.9071 [Valid] Loss: 0.8821, Accuracy: 0.7880\n",
      "[Epoch] 241  [Train] Loss: 0.6480, Accuracy: 0.8357 [Valid] Loss: 0.8856, Accuracy: 0.7940\n",
      "[Epoch] 242  [Train] Loss: 0.5996, Accuracy: 0.9000 [Valid] Loss: 0.8885, Accuracy: 0.7980\n",
      "[Epoch] 243  [Train] Loss: 0.6495, Accuracy: 0.8929 [Valid] Loss: 0.8900, Accuracy: 0.7980\n",
      "[Epoch] 244  [Train] Loss: 0.6724, Accuracy: 0.8429 [Valid] Loss: 0.8897, Accuracy: 0.7960\n",
      "[Epoch] 245  [Train] Loss: 0.5933, Accuracy: 0.8714 [Valid] Loss: 0.8865, Accuracy: 0.7960\n",
      "[Epoch] 246  [Train] Loss: 0.6374, Accuracy: 0.8643 [Valid] Loss: 0.8829, Accuracy: 0.7920\n",
      "[Epoch] 247  [Train] Loss: 0.6385, Accuracy: 0.8714 [Valid] Loss: 0.8829, Accuracy: 0.7920\n",
      "[Epoch] 248  [Train] Loss: 0.6456, Accuracy: 0.9143 [Valid] Loss: 0.8839, Accuracy: 0.7940\n",
      "[Epoch] 249  [Train] Loss: 0.5689, Accuracy: 0.8786 [Valid] Loss: 0.8879, Accuracy: 0.7920\n",
      "[Epoch] 250  [Train] Loss: 0.6132, Accuracy: 0.8786 [Valid] Loss: 0.8889, Accuracy: 0.7900\n",
      "[Epoch] 251  [Train] Loss: 0.6855, Accuracy: 0.7929 [Valid] Loss: 0.8872, Accuracy: 0.7880\n",
      "[Epoch] 252  [Train] Loss: 0.5865, Accuracy: 0.9071 [Valid] Loss: 0.8880, Accuracy: 0.7900\n",
      "[Epoch] 253  [Train] Loss: 0.6298, Accuracy: 0.8357 [Valid] Loss: 0.8845, Accuracy: 0.7940\n",
      "[Epoch] 254  [Train] Loss: 0.6818, Accuracy: 0.8429 [Valid] Loss: 0.8839, Accuracy: 0.7940\n",
      "[Epoch] 255  [Train] Loss: 0.6872, Accuracy: 0.8143 [Valid] Loss: 0.8836, Accuracy: 0.7980\n",
      "[Epoch] 256  [Train] Loss: 0.6369, Accuracy: 0.8643 [Valid] Loss: 0.8820, Accuracy: 0.8000\n",
      "[Epoch] 257  [Train] Loss: 0.6727, Accuracy: 0.8357 [Valid] Loss: 0.8818, Accuracy: 0.8100\n",
      "[Epoch] 258  [Train] Loss: 0.6710, Accuracy: 0.8714 [Valid] Loss: 0.8847, Accuracy: 0.8060\n",
      "[Epoch] 259  [Train] Loss: 0.5652, Accuracy: 0.9143 [Valid] Loss: 0.8873, Accuracy: 0.8080\n",
      "[Epoch] 260  [Train] Loss: 0.5673, Accuracy: 0.8786 [Valid] Loss: 0.8889, Accuracy: 0.8060\n",
      "[Epoch] 261  [Train] Loss: 0.6268, Accuracy: 0.8500 [Valid] Loss: 0.8859, Accuracy: 0.8020\n",
      "[Epoch] 262  [Train] Loss: 0.5356, Accuracy: 0.9429 [Valid] Loss: 0.8812, Accuracy: 0.7900\n",
      "[Epoch] 263  [Train] Loss: 0.5940, Accuracy: 0.8643 [Valid] Loss: 0.8770, Accuracy: 0.7920\n",
      "[Epoch] 264  [Train] Loss: 0.5843, Accuracy: 0.8929 [Valid] Loss: 0.8744, Accuracy: 0.7900\n",
      "[Epoch] 265  [Train] Loss: 0.5875, Accuracy: 0.8714 [Valid] Loss: 0.8716, Accuracy: 0.7960\n",
      "[Epoch] 266  [Train] Loss: 0.6347, Accuracy: 0.8500 [Valid] Loss: 0.8745, Accuracy: 0.7960\n",
      "[Epoch] 267  [Train] Loss: 0.5946, Accuracy: 0.9071 [Valid] Loss: 0.8823, Accuracy: 0.7900\n",
      "[Epoch] 268  [Train] Loss: 0.5868, Accuracy: 0.8857 [Valid] Loss: 0.8880, Accuracy: 0.7840\n",
      "[Epoch] 269  [Train] Loss: 0.6028, Accuracy: 0.8571 [Valid] Loss: 0.8907, Accuracy: 0.7880\n",
      "[Epoch] 270  [Train] Loss: 0.5623, Accuracy: 0.9071 [Valid] Loss: 0.8920, Accuracy: 0.7880\n",
      "[Epoch] 271  [Train] Loss: 0.5935, Accuracy: 0.9143 [Valid] Loss: 0.8903, Accuracy: 0.7920\n",
      "[Epoch] 272  [Train] Loss: 0.6475, Accuracy: 0.8429 [Valid] Loss: 0.8874, Accuracy: 0.7960\n",
      "[Epoch] 273  [Train] Loss: 0.5875, Accuracy: 0.8714 [Valid] Loss: 0.8792, Accuracy: 0.7960\n",
      "[Epoch] 274  [Train] Loss: 0.5238, Accuracy: 0.9000 [Valid] Loss: 0.8748, Accuracy: 0.7960\n",
      "[Epoch] 275  [Train] Loss: 0.5981, Accuracy: 0.8714 [Valid] Loss: 0.8686, Accuracy: 0.7940\n",
      "[Epoch] 276  [Train] Loss: 0.5498, Accuracy: 0.8857 [Valid] Loss: 0.8642, Accuracy: 0.7980\n",
      "[Epoch] 277  [Train] Loss: 0.6340, Accuracy: 0.8643 [Valid] Loss: 0.8630, Accuracy: 0.7960\n",
      "[Epoch] 278  [Train] Loss: 0.5937, Accuracy: 0.8929 [Valid] Loss: 0.8633, Accuracy: 0.7920\n",
      "[Epoch] 279  [Train] Loss: 0.5204, Accuracy: 0.8929 [Valid] Loss: 0.8614, Accuracy: 0.7940\n",
      "[Epoch] 280  [Train] Loss: 0.5596, Accuracy: 0.9000 [Valid] Loss: 0.8609, Accuracy: 0.7900\n",
      "[Epoch] 281  [Train] Loss: 0.5338, Accuracy: 0.8857 [Valid] Loss: 0.8590, Accuracy: 0.7860\n",
      "[Epoch] 282  [Train] Loss: 0.6588, Accuracy: 0.8571 [Valid] Loss: 0.8554, Accuracy: 0.7880\n",
      "[Epoch] 283  [Train] Loss: 0.6189, Accuracy: 0.8857 [Valid] Loss: 0.8605, Accuracy: 0.7900\n",
      "[Epoch] 284  [Train] Loss: 0.6126, Accuracy: 0.8786 [Valid] Loss: 0.8691, Accuracy: 0.7920\n",
      "[Epoch] 285  [Train] Loss: 0.6561, Accuracy: 0.8571 [Valid] Loss: 0.8794, Accuracy: 0.7920\n",
      "[Epoch] 286  [Train] Loss: 0.6153, Accuracy: 0.8714 [Valid] Loss: 0.8874, Accuracy: 0.7900\n",
      "[Epoch] 287  [Train] Loss: 0.6391, Accuracy: 0.8357 [Valid] Loss: 0.8891, Accuracy: 0.7900\n",
      "[Epoch] 288  [Train] Loss: 0.5530, Accuracy: 0.8500 [Valid] Loss: 0.8842, Accuracy: 0.7900\n",
      "[Epoch] 289  [Train] Loss: 0.5902, Accuracy: 0.9000 [Valid] Loss: 0.8787, Accuracy: 0.7920\n",
      "[Epoch] 290  [Train] Loss: 0.5741, Accuracy: 0.8643 [Valid] Loss: 0.8710, Accuracy: 0.7920\n",
      "[Epoch] 291  [Train] Loss: 0.5864, Accuracy: 0.8786 [Valid] Loss: 0.8634, Accuracy: 0.7860\n",
      "[Epoch] 292  [Train] Loss: 0.5674, Accuracy: 0.8929 [Valid] Loss: 0.8611, Accuracy: 0.7880\n",
      "[Epoch] 293  [Train] Loss: 0.4874, Accuracy: 0.9357 [Valid] Loss: 0.8602, Accuracy: 0.7860\n",
      "[Epoch] 294  [Train] Loss: 0.6496, Accuracy: 0.8714 [Valid] Loss: 0.8627, Accuracy: 0.7880\n",
      "[Epoch] 295  [Train] Loss: 0.5528, Accuracy: 0.9000 [Valid] Loss: 0.8633, Accuracy: 0.7880\n",
      "[Epoch] 296  [Train] Loss: 0.5521, Accuracy: 0.8857 [Valid] Loss: 0.8632, Accuracy: 0.7880\n",
      "[Epoch] 297  [Train] Loss: 0.5677, Accuracy: 0.8643 [Valid] Loss: 0.8656, Accuracy: 0.7840\n",
      "[Epoch] 298  [Train] Loss: 0.6064, Accuracy: 0.9143 [Valid] Loss: 0.8730, Accuracy: 0.7800\n",
      "[Epoch] 299  [Train] Loss: 0.5795, Accuracy: 0.8357 [Valid] Loss: 0.8873, Accuracy: 0.7820\n",
      "[Epoch] 300  [Train] Loss: 0.6106, Accuracy: 0.8571 [Valid] Loss: 0.9006, Accuracy: 0.7820\n",
      "[Epoch] 301  [Train] Loss: 0.5848, Accuracy: 0.8786 [Valid] Loss: 0.9084, Accuracy: 0.7800\n",
      "[Epoch] 302  [Train] Loss: 0.7267, Accuracy: 0.8214 [Valid] Loss: 0.9064, Accuracy: 0.7820\n",
      "[Epoch] 303  [Train] Loss: 0.5779, Accuracy: 0.9000 [Valid] Loss: 0.8959, Accuracy: 0.7880\n",
      "[Epoch] 304  [Train] Loss: 0.6057, Accuracy: 0.8500 [Valid] Loss: 0.8803, Accuracy: 0.7880\n",
      "[Epoch] 305  [Train] Loss: 0.5723, Accuracy: 0.8857 [Valid] Loss: 0.8637, Accuracy: 0.7860\n",
      "[Epoch] 306  [Train] Loss: 0.5461, Accuracy: 0.8929 [Valid] Loss: 0.8496, Accuracy: 0.7940\n",
      "[Epoch] 307  [Train] Loss: 0.6582, Accuracy: 0.8643 [Valid] Loss: 0.8442, Accuracy: 0.7980\n",
      "[Epoch] 308  [Train] Loss: 0.5854, Accuracy: 0.8857 [Valid] Loss: 0.8445, Accuracy: 0.7980\n",
      "[Epoch] 309  [Train] Loss: 0.5933, Accuracy: 0.8643 [Valid] Loss: 0.8451, Accuracy: 0.8000\n",
      "[Epoch] 310  [Train] Loss: 0.5756, Accuracy: 0.9071 [Valid] Loss: 0.8486, Accuracy: 0.8000\n",
      "[Epoch] 311  [Train] Loss: 0.6198, Accuracy: 0.8929 [Valid] Loss: 0.8555, Accuracy: 0.7900\n",
      "[Epoch] 312  [Train] Loss: 0.6058, Accuracy: 0.8929 [Valid] Loss: 0.8612, Accuracy: 0.7840\n",
      "[Epoch] 313  [Train] Loss: 0.5125, Accuracy: 0.8857 [Valid] Loss: 0.8698, Accuracy: 0.7820\n",
      "[Epoch] 314  [Train] Loss: 0.6145, Accuracy: 0.8500 [Valid] Loss: 0.8770, Accuracy: 0.7840\n",
      "[Epoch] 315  [Train] Loss: 0.5836, Accuracy: 0.9143 [Valid] Loss: 0.8773, Accuracy: 0.7860\n",
      "[Epoch] 316  [Train] Loss: 0.6099, Accuracy: 0.8786 [Valid] Loss: 0.8743, Accuracy: 0.7900\n",
      "[Epoch] 317  [Train] Loss: 0.5982, Accuracy: 0.8643 [Valid] Loss: 0.8765, Accuracy: 0.7940\n",
      "[Epoch] 318  [Train] Loss: 0.5731, Accuracy: 0.8857 [Valid] Loss: 0.8754, Accuracy: 0.7980\n",
      "[Epoch] 319  [Train] Loss: 0.5297, Accuracy: 0.9071 [Valid] Loss: 0.8759, Accuracy: 0.8000\n",
      "[Epoch] 320  [Train] Loss: 0.6410, Accuracy: 0.8286 [Valid] Loss: 0.8764, Accuracy: 0.7960\n",
      "[Epoch] 321  [Train] Loss: 0.6195, Accuracy: 0.8714 [Valid] Loss: 0.8788, Accuracy: 0.7900\n",
      "[Epoch] 322  [Train] Loss: 0.5547, Accuracy: 0.8714 [Valid] Loss: 0.8731, Accuracy: 0.7900\n",
      "[Epoch] 323  [Train] Loss: 0.5378, Accuracy: 0.8857 [Valid] Loss: 0.8615, Accuracy: 0.7900\n",
      "[Epoch] 324  [Train] Loss: 0.5932, Accuracy: 0.8643 [Valid] Loss: 0.8515, Accuracy: 0.7940\n",
      "[Epoch] 325  [Train] Loss: 0.5446, Accuracy: 0.9000 [Valid] Loss: 0.8437, Accuracy: 0.7920\n",
      "[Epoch] 326  [Train] Loss: 0.5853, Accuracy: 0.8786 [Valid] Loss: 0.8387, Accuracy: 0.7920\n",
      "[Epoch] 327  [Train] Loss: 0.5510, Accuracy: 0.9071 [Valid] Loss: 0.8383, Accuracy: 0.7860\n",
      "[Epoch] 328  [Train] Loss: 0.5769, Accuracy: 0.8786 [Valid] Loss: 0.8415, Accuracy: 0.7900\n",
      "[Epoch] 329  [Train] Loss: 0.5803, Accuracy: 0.8643 [Valid] Loss: 0.8478, Accuracy: 0.7940\n",
      "[Epoch] 330  [Train] Loss: 0.5656, Accuracy: 0.9000 [Valid] Loss: 0.8544, Accuracy: 0.7880\n",
      "[Epoch] 331  [Train] Loss: 0.5720, Accuracy: 0.8857 [Valid] Loss: 0.8672, Accuracy: 0.7820\n",
      "[Epoch] 332  [Train] Loss: 0.6017, Accuracy: 0.8500 [Valid] Loss: 0.8746, Accuracy: 0.7840\n",
      "[Epoch] 333  [Train] Loss: 0.5986, Accuracy: 0.8429 [Valid] Loss: 0.8797, Accuracy: 0.7840\n",
      "[Epoch] 334  [Train] Loss: 0.6000, Accuracy: 0.8857 [Valid] Loss: 0.8786, Accuracy: 0.7840\n",
      "[Epoch] 335  [Train] Loss: 0.5702, Accuracy: 0.8571 [Valid] Loss: 0.8749, Accuracy: 0.7780\n",
      "[Epoch] 336  [Train] Loss: 0.5248, Accuracy: 0.9143 [Valid] Loss: 0.8724, Accuracy: 0.7820\n",
      "[Epoch] 337  [Train] Loss: 0.6486, Accuracy: 0.8357 [Valid] Loss: 0.8695, Accuracy: 0.7880\n",
      "[Epoch] 338  [Train] Loss: 0.5928, Accuracy: 0.8857 [Valid] Loss: 0.8641, Accuracy: 0.7920\n",
      "[Epoch] 339  [Train] Loss: 0.5471, Accuracy: 0.9000 [Valid] Loss: 0.8572, Accuracy: 0.7900\n",
      "[Epoch] 340  [Train] Loss: 0.5320, Accuracy: 0.8929 [Valid] Loss: 0.8512, Accuracy: 0.7940\n",
      "[Epoch] 341  [Train] Loss: 0.6258, Accuracy: 0.8357 [Valid] Loss: 0.8543, Accuracy: 0.7900\n",
      "[Epoch] 342  [Train] Loss: 0.6294, Accuracy: 0.8714 [Valid] Loss: 0.8594, Accuracy: 0.7880\n",
      "[Epoch] 343  [Train] Loss: 0.5944, Accuracy: 0.8571 [Valid] Loss: 0.8652, Accuracy: 0.7880\n",
      "[Epoch] 344  [Train] Loss: 0.5071, Accuracy: 0.9214 [Valid] Loss: 0.8693, Accuracy: 0.7920\n",
      "[Epoch] 345  [Train] Loss: 0.6020, Accuracy: 0.8643 [Valid] Loss: 0.8702, Accuracy: 0.7880\n",
      "[Epoch] 346  [Train] Loss: 0.5835, Accuracy: 0.8786 [Valid] Loss: 0.8712, Accuracy: 0.7880\n",
      "[Epoch] 347  [Train] Loss: 0.6346, Accuracy: 0.8429 [Valid] Loss: 0.8741, Accuracy: 0.7840\n",
      "[Epoch] 348  [Train] Loss: 0.6564, Accuracy: 0.8357 [Valid] Loss: 0.8790, Accuracy: 0.7820\n",
      "[Epoch] 349  [Train] Loss: 0.6530, Accuracy: 0.8643 [Valid] Loss: 0.8832, Accuracy: 0.7820\n",
      "[Epoch] 350  [Train] Loss: 0.6749, Accuracy: 0.8714 [Valid] Loss: 0.8848, Accuracy: 0.7840\n",
      "[Epoch] 351  [Train] Loss: 0.6306, Accuracy: 0.8500 [Valid] Loss: 0.8829, Accuracy: 0.7820\n",
      "[Epoch] 352  [Train] Loss: 0.5774, Accuracy: 0.8714 [Valid] Loss: 0.8784, Accuracy: 0.7820\n",
      "[Epoch] 353  [Train] Loss: 0.5734, Accuracy: 0.8929 [Valid] Loss: 0.8739, Accuracy: 0.7840\n",
      "[Epoch] 354  [Train] Loss: 0.5369, Accuracy: 0.8643 [Valid] Loss: 0.8709, Accuracy: 0.7840\n",
      "[Epoch] 355  [Train] Loss: 0.7082, Accuracy: 0.8214 [Valid] Loss: 0.8711, Accuracy: 0.7800\n",
      "[Epoch] 356  [Train] Loss: 0.5717, Accuracy: 0.8857 [Valid] Loss: 0.8683, Accuracy: 0.7800\n",
      "[Epoch] 357  [Train] Loss: 0.5782, Accuracy: 0.8857 [Valid] Loss: 0.8659, Accuracy: 0.7820\n",
      "[Epoch] 358  [Train] Loss: 0.5260, Accuracy: 0.9143 [Valid] Loss: 0.8590, Accuracy: 0.7820\n",
      "[Epoch] 359  [Train] Loss: 0.5745, Accuracy: 0.8643 [Valid] Loss: 0.8505, Accuracy: 0.7880\n",
      "[Epoch] 360  [Train] Loss: 0.6194, Accuracy: 0.8786 [Valid] Loss: 0.8513, Accuracy: 0.7860\n",
      "[Epoch] 361  [Train] Loss: 0.6249, Accuracy: 0.8429 [Valid] Loss: 0.8568, Accuracy: 0.7860\n",
      "[Epoch] 362  [Train] Loss: 0.5238, Accuracy: 0.9000 [Valid] Loss: 0.8613, Accuracy: 0.7860\n",
      "[Epoch] 363  [Train] Loss: 0.6155, Accuracy: 0.8571 [Valid] Loss: 0.8673, Accuracy: 0.7820\n",
      "[Epoch] 364  [Train] Loss: 0.5423, Accuracy: 0.8929 [Valid] Loss: 0.8697, Accuracy: 0.7800\n",
      "[Epoch] 365  [Train] Loss: 0.5645, Accuracy: 0.8643 [Valid] Loss: 0.8687, Accuracy: 0.7820\n",
      "[Epoch] 366  [Train] Loss: 0.6218, Accuracy: 0.8857 [Valid] Loss: 0.8616, Accuracy: 0.7820\n",
      "[Epoch] 367  [Train] Loss: 0.6341, Accuracy: 0.8214 [Valid] Loss: 0.8553, Accuracy: 0.7840\n",
      "[Epoch] 368  [Train] Loss: 0.5611, Accuracy: 0.8786 [Valid] Loss: 0.8519, Accuracy: 0.7900\n",
      "[Epoch] 369  [Train] Loss: 0.6014, Accuracy: 0.8571 [Valid] Loss: 0.8463, Accuracy: 0.7900\n",
      "[Epoch] 370  [Train] Loss: 0.5895, Accuracy: 0.8786 [Valid] Loss: 0.8437, Accuracy: 0.7940\n",
      "[Epoch] 371  [Train] Loss: 0.5540, Accuracy: 0.9143 [Valid] Loss: 0.8437, Accuracy: 0.7980\n",
      "[Epoch] 372  [Train] Loss: 0.6396, Accuracy: 0.8643 [Valid] Loss: 0.8464, Accuracy: 0.8020\n",
      "[Epoch] 373  [Train] Loss: 0.5809, Accuracy: 0.8643 [Valid] Loss: 0.8493, Accuracy: 0.7980\n",
      "[Epoch] 374  [Train] Loss: 0.5784, Accuracy: 0.8857 [Valid] Loss: 0.8550, Accuracy: 0.8000\n",
      "[Epoch] 375  [Train] Loss: 0.5921, Accuracy: 0.8857 [Valid] Loss: 0.8617, Accuracy: 0.8020\n",
      "[Epoch] 376  [Train] Loss: 0.5890, Accuracy: 0.8500 [Valid] Loss: 0.8681, Accuracy: 0.8000\n",
      "[Epoch] 377  [Train] Loss: 0.5039, Accuracy: 0.8929 [Valid] Loss: 0.8703, Accuracy: 0.7980\n",
      "[Epoch] 378  [Train] Loss: 0.5625, Accuracy: 0.8929 [Valid] Loss: 0.8725, Accuracy: 0.7900\n",
      "[Epoch] 379  [Train] Loss: 0.5095, Accuracy: 0.8857 [Valid] Loss: 0.8695, Accuracy: 0.7900\n",
      "[Epoch] 380  [Train] Loss: 0.6169, Accuracy: 0.8643 [Valid] Loss: 0.8653, Accuracy: 0.7860\n",
      "[Epoch] 381  [Train] Loss: 0.5303, Accuracy: 0.8857 [Valid] Loss: 0.8579, Accuracy: 0.7940\n",
      "[Epoch] 382  [Train] Loss: 0.6427, Accuracy: 0.8714 [Valid] Loss: 0.8561, Accuracy: 0.7940\n",
      "[Epoch] 383  [Train] Loss: 0.6212, Accuracy: 0.8929 [Valid] Loss: 0.8543, Accuracy: 0.7940\n",
      "[Epoch] 384  [Train] Loss: 0.6273, Accuracy: 0.8643 [Valid] Loss: 0.8556, Accuracy: 0.7940\n",
      "[Epoch] 385  [Train] Loss: 0.5379, Accuracy: 0.9143 [Valid] Loss: 0.8592, Accuracy: 0.7860\n",
      "[Epoch] 386  [Train] Loss: 0.5588, Accuracy: 0.9000 [Valid] Loss: 0.8621, Accuracy: 0.7800\n",
      "[Epoch] 387  [Train] Loss: 0.6475, Accuracy: 0.8286 [Valid] Loss: 0.8644, Accuracy: 0.7800\n",
      "[Epoch] 388  [Train] Loss: 0.6534, Accuracy: 0.8786 [Valid] Loss: 0.8683, Accuracy: 0.7800\n",
      "[Epoch] 389  [Train] Loss: 0.5353, Accuracy: 0.9143 [Valid] Loss: 0.8682, Accuracy: 0.7840\n",
      "[Epoch] 390  [Train] Loss: 0.6037, Accuracy: 0.8571 [Valid] Loss: 0.8717, Accuracy: 0.7820\n",
      "[Epoch] 391  [Train] Loss: 0.5733, Accuracy: 0.8571 [Valid] Loss: 0.8726, Accuracy: 0.7860\n",
      "[Epoch] 392  [Train] Loss: 0.6249, Accuracy: 0.8500 [Valid] Loss: 0.8714, Accuracy: 0.7840\n",
      "[Epoch] 393  [Train] Loss: 0.6269, Accuracy: 0.8500 [Valid] Loss: 0.8634, Accuracy: 0.7900\n",
      "[Epoch] 394  [Train] Loss: 0.6271, Accuracy: 0.8429 [Valid] Loss: 0.8551, Accuracy: 0.7960\n",
      "[Epoch] 395  [Train] Loss: 0.5741, Accuracy: 0.8857 [Valid] Loss: 0.8440, Accuracy: 0.7940\n",
      "[Epoch] 396  [Train] Loss: 0.6340, Accuracy: 0.8286 [Valid] Loss: 0.8402, Accuracy: 0.7940\n",
      "[Epoch] 397  [Train] Loss: 0.6648, Accuracy: 0.8429 [Valid] Loss: 0.8389, Accuracy: 0.7980\n",
      "[Epoch] 398  [Train] Loss: 0.6092, Accuracy: 0.8571 [Valid] Loss: 0.8449, Accuracy: 0.7980\n",
      "[Epoch] 399  [Train] Loss: 0.5748, Accuracy: 0.8500 [Valid] Loss: 0.8551, Accuracy: 0.7960\n",
      "[Epoch] 400  [Train] Loss: 0.6314, Accuracy: 0.8429 [Valid] Loss: 0.8718, Accuracy: 0.7920\n",
      "[Epoch] 401  [Train] Loss: 0.6120, Accuracy: 0.8500 [Valid] Loss: 0.8844, Accuracy: 0.7940\n",
      "[Epoch] 402  [Train] Loss: 0.5205, Accuracy: 0.9071 [Valid] Loss: 0.8938, Accuracy: 0.7880\n",
      "[Epoch] 403  [Train] Loss: 0.6052, Accuracy: 0.8571 [Valid] Loss: 0.9006, Accuracy: 0.7820\n",
      "[Epoch] 404  [Train] Loss: 0.6439, Accuracy: 0.8286 [Valid] Loss: 0.8983, Accuracy: 0.7780\n",
      "[Epoch] 405  [Train] Loss: 0.5942, Accuracy: 0.8786 [Valid] Loss: 0.8913, Accuracy: 0.7800\n",
      "[Epoch] 406  [Train] Loss: 0.6317, Accuracy: 0.8571 [Valid] Loss: 0.8807, Accuracy: 0.7800\n",
      "[Epoch] 407  [Train] Loss: 0.6547, Accuracy: 0.8571 [Valid] Loss: 0.8706, Accuracy: 0.7820\n",
      "[Epoch] 408  [Train] Loss: 0.4934, Accuracy: 0.9143 [Valid] Loss: 0.8587, Accuracy: 0.7920\n",
      "[Epoch] 409  [Train] Loss: 0.6078, Accuracy: 0.8857 [Valid] Loss: 0.8516, Accuracy: 0.7940\n",
      "[Epoch] 410  [Train] Loss: 0.5969, Accuracy: 0.8429 [Valid] Loss: 0.8495, Accuracy: 0.7960\n",
      "[Epoch] 411  [Train] Loss: 0.5329, Accuracy: 0.8786 [Valid] Loss: 0.8498, Accuracy: 0.7880\n",
      "[Epoch] 412  [Train] Loss: 0.5818, Accuracy: 0.8786 [Valid] Loss: 0.8513, Accuracy: 0.7860\n",
      "[Epoch] 413  [Train] Loss: 0.6239, Accuracy: 0.8929 [Valid] Loss: 0.8578, Accuracy: 0.7860\n",
      "[Epoch] 414  [Train] Loss: 0.5640, Accuracy: 0.9143 [Valid] Loss: 0.8631, Accuracy: 0.7840\n",
      "[Epoch] 415  [Train] Loss: 0.6094, Accuracy: 0.8929 [Valid] Loss: 0.8689, Accuracy: 0.7880\n",
      "[Epoch] 416  [Train] Loss: 0.5435, Accuracy: 0.9143 [Valid] Loss: 0.8691, Accuracy: 0.7920\n",
      "[Epoch] 417  [Train] Loss: 0.5972, Accuracy: 0.9000 [Valid] Loss: 0.8718, Accuracy: 0.7920\n",
      "[Epoch] 418  [Train] Loss: 0.6235, Accuracy: 0.8429 [Valid] Loss: 0.8694, Accuracy: 0.7900\n",
      "[Epoch] 419  [Train] Loss: 0.6407, Accuracy: 0.8714 [Valid] Loss: 0.8657, Accuracy: 0.7960\n",
      "[Epoch] 420  [Train] Loss: 0.5499, Accuracy: 0.9071 [Valid] Loss: 0.8616, Accuracy: 0.7960\n",
      "[Epoch] 421  [Train] Loss: 0.5109, Accuracy: 0.9143 [Valid] Loss: 0.8580, Accuracy: 0.7920\n",
      "[Epoch] 422  [Train] Loss: 0.5253, Accuracy: 0.8714 [Valid] Loss: 0.8557, Accuracy: 0.7900\n",
      "[Epoch] 423  [Train] Loss: 0.6037, Accuracy: 0.8643 [Valid] Loss: 0.8559, Accuracy: 0.7920\n",
      "[Epoch] 424  [Train] Loss: 0.6124, Accuracy: 0.8643 [Valid] Loss: 0.8574, Accuracy: 0.7920\n",
      "[Epoch] 425  [Train] Loss: 0.6078, Accuracy: 0.8643 [Valid] Loss: 0.8605, Accuracy: 0.7900\n",
      "[Epoch] 426  [Train] Loss: 0.5697, Accuracy: 0.9071 [Valid] Loss: 0.8619, Accuracy: 0.7900\n",
      "[Epoch] 427  [Train] Loss: 0.5650, Accuracy: 0.9143 [Valid] Loss: 0.8605, Accuracy: 0.7920\n",
      "[Epoch] 428  [Train] Loss: 0.5720, Accuracy: 0.8714 [Valid] Loss: 0.8574, Accuracy: 0.7900\n",
      "[Epoch] 429  [Train] Loss: 0.6047, Accuracy: 0.8643 [Valid] Loss: 0.8533, Accuracy: 0.7940\n",
      "[Epoch] 430  [Train] Loss: 0.6559, Accuracy: 0.8571 [Valid] Loss: 0.8463, Accuracy: 0.8020\n",
      "[Epoch] 431  [Train] Loss: 0.5691, Accuracy: 0.8786 [Valid] Loss: 0.8480, Accuracy: 0.7940\n",
      "[Epoch] 432  [Train] Loss: 0.6228, Accuracy: 0.8857 [Valid] Loss: 0.8537, Accuracy: 0.7960\n",
      "[Epoch] 433  [Train] Loss: 0.5325, Accuracy: 0.9071 [Valid] Loss: 0.8587, Accuracy: 0.7900\n",
      "[Epoch] 434  [Train] Loss: 0.5844, Accuracy: 0.9000 [Valid] Loss: 0.8614, Accuracy: 0.7860\n",
      "[Epoch] 435  [Train] Loss: 0.5036, Accuracy: 0.9071 [Valid] Loss: 0.8607, Accuracy: 0.7840\n",
      "[Epoch] 436  [Train] Loss: 0.5296, Accuracy: 0.9143 [Valid] Loss: 0.8607, Accuracy: 0.7880\n",
      "[Epoch] 437  [Train] Loss: 0.5607, Accuracy: 0.8786 [Valid] Loss: 0.8612, Accuracy: 0.7940\n",
      "[Epoch] 438  [Train] Loss: 0.6107, Accuracy: 0.8357 [Valid] Loss: 0.8679, Accuracy: 0.7940\n",
      "[Epoch] 439  [Train] Loss: 0.5794, Accuracy: 0.8857 [Valid] Loss: 0.8749, Accuracy: 0.7940\n",
      "[Epoch] 440  [Train] Loss: 0.7074, Accuracy: 0.8214 [Valid] Loss: 0.8801, Accuracy: 0.7920\n",
      "[Epoch] 441  [Train] Loss: 0.6918, Accuracy: 0.8643 [Valid] Loss: 0.8860, Accuracy: 0.7940\n",
      "[Epoch] 442  [Train] Loss: 0.6033, Accuracy: 0.8929 [Valid] Loss: 0.8812, Accuracy: 0.7900\n",
      "[Epoch] 443  [Train] Loss: 0.5421, Accuracy: 0.9357 [Valid] Loss: 0.8700, Accuracy: 0.7900\n",
      "[Epoch] 444  [Train] Loss: 0.6222, Accuracy: 0.8643 [Valid] Loss: 0.8567, Accuracy: 0.7880\n",
      "[Epoch] 445  [Train] Loss: 0.4662, Accuracy: 0.9500 [Valid] Loss: 0.8456, Accuracy: 0.7900\n",
      "[Epoch] 446  [Train] Loss: 0.6318, Accuracy: 0.8929 [Valid] Loss: 0.8362, Accuracy: 0.8000\n",
      "[Epoch] 447  [Train] Loss: 0.5512, Accuracy: 0.9286 [Valid] Loss: 0.8321, Accuracy: 0.8020\n",
      "[Epoch] 448  [Train] Loss: 0.5742, Accuracy: 0.8929 [Valid] Loss: 0.8332, Accuracy: 0.8020\n",
      "[Epoch] 449  [Train] Loss: 0.6158, Accuracy: 0.8643 [Valid] Loss: 0.8340, Accuracy: 0.8060\n",
      "[Epoch] 450  [Train] Loss: 0.6791, Accuracy: 0.8429 [Valid] Loss: 0.8369, Accuracy: 0.8060\n",
      "[Epoch] 451  [Train] Loss: 0.5940, Accuracy: 0.8500 [Valid] Loss: 0.8429, Accuracy: 0.7980\n",
      "[Epoch] 452  [Train] Loss: 0.5723, Accuracy: 0.8857 [Valid] Loss: 0.8526, Accuracy: 0.7940\n",
      "[Epoch] 453  [Train] Loss: 0.5603, Accuracy: 0.8786 [Valid] Loss: 0.8595, Accuracy: 0.7940\n",
      "[Epoch] 454  [Train] Loss: 0.5909, Accuracy: 0.8929 [Valid] Loss: 0.8670, Accuracy: 0.7940\n",
      "[Epoch] 455  [Train] Loss: 0.5910, Accuracy: 0.8714 [Valid] Loss: 0.8691, Accuracy: 0.7940\n",
      "[Epoch] 456  [Train] Loss: 0.5319, Accuracy: 0.8786 [Valid] Loss: 0.8680, Accuracy: 0.7920\n",
      "[Epoch] 457  [Train] Loss: 0.6135, Accuracy: 0.8786 [Valid] Loss: 0.8662, Accuracy: 0.7960\n",
      "[Epoch] 458  [Train] Loss: 0.5941, Accuracy: 0.8429 [Valid] Loss: 0.8596, Accuracy: 0.7900\n",
      "[Epoch] 459  [Train] Loss: 0.6015, Accuracy: 0.8857 [Valid] Loss: 0.8511, Accuracy: 0.7980\n",
      "[Epoch] 460  [Train] Loss: 0.5005, Accuracy: 0.9071 [Valid] Loss: 0.8505, Accuracy: 0.7920\n",
      "[Epoch] 461  [Train] Loss: 0.5447, Accuracy: 0.8786 [Valid] Loss: 0.8532, Accuracy: 0.7900\n",
      "[Epoch] 462  [Train] Loss: 0.5558, Accuracy: 0.8857 [Valid] Loss: 0.8551, Accuracy: 0.7900\n",
      "[Epoch] 463  [Train] Loss: 0.5479, Accuracy: 0.9071 [Valid] Loss: 0.8552, Accuracy: 0.7900\n",
      "[Epoch] 464  [Train] Loss: 0.6058, Accuracy: 0.8643 [Valid] Loss: 0.8536, Accuracy: 0.7880\n",
      "[Epoch] 465  [Train] Loss: 0.5986, Accuracy: 0.8286 [Valid] Loss: 0.8543, Accuracy: 0.7940\n",
      "[Epoch] 466  [Train] Loss: 0.5893, Accuracy: 0.8571 [Valid] Loss: 0.8563, Accuracy: 0.8020\n",
      "[Epoch] 467  [Train] Loss: 0.5502, Accuracy: 0.8786 [Valid] Loss: 0.8609, Accuracy: 0.8020\n",
      "[Epoch] 468  [Train] Loss: 0.6461, Accuracy: 0.8429 [Valid] Loss: 0.8652, Accuracy: 0.8020\n",
      "[Epoch] 469  [Train] Loss: 0.5471, Accuracy: 0.8786 [Valid] Loss: 0.8636, Accuracy: 0.8040\n",
      "[Epoch] 470  [Train] Loss: 0.4757, Accuracy: 0.9071 [Valid] Loss: 0.8598, Accuracy: 0.8060\n",
      "[Epoch] 471  [Train] Loss: 0.5802, Accuracy: 0.8786 [Valid] Loss: 0.8560, Accuracy: 0.8040\n",
      "[Epoch] 472  [Train] Loss: 0.5584, Accuracy: 0.9143 [Valid] Loss: 0.8529, Accuracy: 0.8000\n",
      "[Epoch] 473  [Train] Loss: 0.6323, Accuracy: 0.8571 [Valid] Loss: 0.8548, Accuracy: 0.8020\n",
      "[Epoch] 474  [Train] Loss: 0.6008, Accuracy: 0.8786 [Valid] Loss: 0.8601, Accuracy: 0.8000\n",
      "[Epoch] 475  [Train] Loss: 0.6272, Accuracy: 0.8714 [Valid] Loss: 0.8688, Accuracy: 0.7960\n",
      "[Epoch] 476  [Train] Loss: 0.5433, Accuracy: 0.8929 [Valid] Loss: 0.8797, Accuracy: 0.7880\n",
      "[Epoch] 477  [Train] Loss: 0.6568, Accuracy: 0.8857 [Valid] Loss: 0.8868, Accuracy: 0.7820\n",
      "[Epoch] 478  [Train] Loss: 0.5897, Accuracy: 0.9000 [Valid] Loss: 0.8892, Accuracy: 0.7740\n",
      "[Epoch] 479  [Train] Loss: 0.5273, Accuracy: 0.8786 [Valid] Loss: 0.8893, Accuracy: 0.7760\n",
      "[Epoch] 480  [Train] Loss: 0.6027, Accuracy: 0.8929 [Valid] Loss: 0.8875, Accuracy: 0.7780\n",
      "[Epoch] 481  [Train] Loss: 0.5191, Accuracy: 0.9000 [Valid] Loss: 0.8838, Accuracy: 0.7820\n",
      "[Epoch] 482  [Train] Loss: 0.6579, Accuracy: 0.8714 [Valid] Loss: 0.8808, Accuracy: 0.7900\n",
      "[Epoch] 483  [Train] Loss: 0.5598, Accuracy: 0.8929 [Valid] Loss: 0.8723, Accuracy: 0.7900\n",
      "[Epoch] 484  [Train] Loss: 0.5641, Accuracy: 0.8786 [Valid] Loss: 0.8653, Accuracy: 0.7960\n",
      "[Epoch] 485  [Train] Loss: 0.6253, Accuracy: 0.8357 [Valid] Loss: 0.8610, Accuracy: 0.7940\n",
      "[Epoch] 486  [Train] Loss: 0.6189, Accuracy: 0.8286 [Valid] Loss: 0.8584, Accuracy: 0.7980\n",
      "[Epoch] 487  [Train] Loss: 0.4509, Accuracy: 0.9143 [Valid] Loss: 0.8597, Accuracy: 0.7960\n",
      "[Epoch] 488  [Train] Loss: 0.5470, Accuracy: 0.8929 [Valid] Loss: 0.8618, Accuracy: 0.7920\n",
      "[Epoch] 489  [Train] Loss: 0.6171, Accuracy: 0.8643 [Valid] Loss: 0.8675, Accuracy: 0.7920\n",
      "[Epoch] 490  [Train] Loss: 0.5558, Accuracy: 0.8929 [Valid] Loss: 0.8721, Accuracy: 0.7920\n",
      "[Epoch] 491  [Train] Loss: 0.5591, Accuracy: 0.9286 [Valid] Loss: 0.8742, Accuracy: 0.7840\n",
      "[Epoch] 492  [Train] Loss: 0.4974, Accuracy: 0.9143 [Valid] Loss: 0.8768, Accuracy: 0.7840\n",
      "[Epoch] 493  [Train] Loss: 0.5683, Accuracy: 0.9214 [Valid] Loss: 0.8789, Accuracy: 0.7840\n",
      "[Epoch] 494  [Train] Loss: 0.5529, Accuracy: 0.9286 [Valid] Loss: 0.8748, Accuracy: 0.7840\n",
      "[Epoch] 495  [Train] Loss: 0.5632, Accuracy: 0.9000 [Valid] Loss: 0.8730, Accuracy: 0.7860\n",
      "[Epoch] 496  [Train] Loss: 0.5500, Accuracy: 0.8786 [Valid] Loss: 0.8727, Accuracy: 0.7940\n",
      "[Epoch] 497  [Train] Loss: 0.5088, Accuracy: 0.9214 [Valid] Loss: 0.8744, Accuracy: 0.7960\n",
      "[Epoch] 498  [Train] Loss: 0.5224, Accuracy: 0.8714 [Valid] Loss: 0.8731, Accuracy: 0.7940\n",
      "[Epoch] 499  [Train] Loss: 0.6303, Accuracy: 0.8786 [Valid] Loss: 0.8727, Accuracy: 0.7960\n",
      "[Epoch] 500  [Train] Loss: 0.5981, Accuracy: 0.8500 [Valid] Loss: 0.8687, Accuracy: 0.7980\n",
      "[Epoch] 501  [Train] Loss: 0.5287, Accuracy: 0.8929 [Valid] Loss: 0.8603, Accuracy: 0.8040\n",
      "[Epoch] 502  [Train] Loss: 0.5579, Accuracy: 0.8714 [Valid] Loss: 0.8487, Accuracy: 0.8060\n",
      "[Epoch] 503  [Train] Loss: 0.5632, Accuracy: 0.8857 [Valid] Loss: 0.8411, Accuracy: 0.8060\n",
      "[Epoch] 504  [Train] Loss: 0.5261, Accuracy: 0.8929 [Valid] Loss: 0.8379, Accuracy: 0.8060\n",
      "[Epoch] 505  [Train] Loss: 0.5253, Accuracy: 0.8929 [Valid] Loss: 0.8381, Accuracy: 0.8040\n",
      "[Epoch] 506  [Train] Loss: 0.5008, Accuracy: 0.9214 [Valid] Loss: 0.8447, Accuracy: 0.8020\n",
      "[Epoch] 507  [Train] Loss: 0.5656, Accuracy: 0.8929 [Valid] Loss: 0.8522, Accuracy: 0.7920\n",
      "[Epoch] 508  [Train] Loss: 0.5348, Accuracy: 0.9143 [Valid] Loss: 0.8598, Accuracy: 0.7920\n",
      "[Epoch] 509  [Train] Loss: 0.6246, Accuracy: 0.8643 [Valid] Loss: 0.8678, Accuracy: 0.7900\n",
      "[Epoch] 510  [Train] Loss: 0.6332, Accuracy: 0.8786 [Valid] Loss: 0.8748, Accuracy: 0.7920\n",
      "[Epoch] 511  [Train] Loss: 0.6268, Accuracy: 0.8643 [Valid] Loss: 0.8775, Accuracy: 0.7920\n",
      "[Epoch] 512  [Train] Loss: 0.5983, Accuracy: 0.9071 [Valid] Loss: 0.8731, Accuracy: 0.7920\n",
      "[Epoch] 513  [Train] Loss: 0.5525, Accuracy: 0.9000 [Valid] Loss: 0.8626, Accuracy: 0.7960\n",
      "[Epoch] 514  [Train] Loss: 0.5340, Accuracy: 0.8929 [Valid] Loss: 0.8486, Accuracy: 0.7940\n",
      "[Epoch] 515  [Train] Loss: 0.6133, Accuracy: 0.8786 [Valid] Loss: 0.8351, Accuracy: 0.7960\n",
      "[Epoch] 516  [Train] Loss: 0.5609, Accuracy: 0.8857 [Valid] Loss: 0.8255, Accuracy: 0.7960\n",
      "[Epoch] 517  [Train] Loss: 0.5760, Accuracy: 0.8643 [Valid] Loss: 0.8225, Accuracy: 0.8000\n",
      "[Epoch] 518  [Train] Loss: 0.5615, Accuracy: 0.9071 [Valid] Loss: 0.8260, Accuracy: 0.8000\n",
      "[Epoch] 519  [Train] Loss: 0.5684, Accuracy: 0.8929 [Valid] Loss: 0.8347, Accuracy: 0.8000\n",
      "[Epoch] 520  [Train] Loss: 0.6053, Accuracy: 0.8714 [Valid] Loss: 0.8473, Accuracy: 0.8020\n",
      "[Epoch] 521  [Train] Loss: 0.5855, Accuracy: 0.8643 [Valid] Loss: 0.8639, Accuracy: 0.7960\n",
      "[Epoch] 522  [Train] Loss: 0.6595, Accuracy: 0.8143 [Valid] Loss: 0.8792, Accuracy: 0.7900\n",
      "[Epoch] 523  [Train] Loss: 0.5655, Accuracy: 0.9000 [Valid] Loss: 0.8911, Accuracy: 0.7900\n",
      "[Epoch] 524  [Train] Loss: 0.6252, Accuracy: 0.8857 [Valid] Loss: 0.8947, Accuracy: 0.7880\n",
      "[Epoch] 525  [Train] Loss: 0.6182, Accuracy: 0.8714 [Valid] Loss: 0.8910, Accuracy: 0.7860\n",
      "[Epoch] 526  [Train] Loss: 0.6143, Accuracy: 0.8500 [Valid] Loss: 0.8766, Accuracy: 0.7920\n",
      "[Epoch] 527  [Train] Loss: 0.5230, Accuracy: 0.9071 [Valid] Loss: 0.8624, Accuracy: 0.7940\n",
      "[Epoch] 528  [Train] Loss: 0.5893, Accuracy: 0.8643 [Valid] Loss: 0.8466, Accuracy: 0.7980\n",
      "[Epoch] 529  [Train] Loss: 0.5878, Accuracy: 0.8571 [Valid] Loss: 0.8328, Accuracy: 0.7940\n",
      "[Epoch] 530  [Train] Loss: 0.5736, Accuracy: 0.8929 [Valid] Loss: 0.8264, Accuracy: 0.7980\n",
      "[Epoch] 531  [Train] Loss: 0.7136, Accuracy: 0.8214 [Valid] Loss: 0.8242, Accuracy: 0.8000\n",
      "[Epoch] 532  [Train] Loss: 0.5996, Accuracy: 0.8714 [Valid] Loss: 0.8284, Accuracy: 0.7920\n",
      "[Epoch] 533  [Train] Loss: 0.5528, Accuracy: 0.8714 [Valid] Loss: 0.8365, Accuracy: 0.7960\n",
      "[Epoch] 534  [Train] Loss: 0.5191, Accuracy: 0.9214 [Valid] Loss: 0.8467, Accuracy: 0.7900\n",
      "[Epoch] 535  [Train] Loss: 0.5609, Accuracy: 0.8929 [Valid] Loss: 0.8601, Accuracy: 0.7940\n",
      "[Epoch] 536  [Train] Loss: 0.5885, Accuracy: 0.8786 [Valid] Loss: 0.8733, Accuracy: 0.7900\n",
      "[Epoch] 537  [Train] Loss: 0.5485, Accuracy: 0.9143 [Valid] Loss: 0.8800, Accuracy: 0.7880\n",
      "[Epoch] 538  [Train] Loss: 0.5684, Accuracy: 0.8857 [Valid] Loss: 0.8774, Accuracy: 0.7880\n",
      "[Epoch] 539  [Train] Loss: 0.5748, Accuracy: 0.9000 [Valid] Loss: 0.8716, Accuracy: 0.7940\n",
      "[Epoch] 540  [Train] Loss: 0.5375, Accuracy: 0.9000 [Valid] Loss: 0.8652, Accuracy: 0.7980\n",
      "[Epoch] 541  [Train] Loss: 0.5538, Accuracy: 0.9286 [Valid] Loss: 0.8568, Accuracy: 0.7960\n",
      "[Epoch] 542  [Train] Loss: 0.5876, Accuracy: 0.8714 [Valid] Loss: 0.8502, Accuracy: 0.7900\n",
      "[Epoch] 543  [Train] Loss: 0.5077, Accuracy: 0.9071 [Valid] Loss: 0.8435, Accuracy: 0.7880\n",
      "[Epoch] 544  [Train] Loss: 0.5886, Accuracy: 0.8714 [Valid] Loss: 0.8423, Accuracy: 0.7880\n",
      "[Epoch] 545  [Train] Loss: 0.5339, Accuracy: 0.9071 [Valid] Loss: 0.8449, Accuracy: 0.7860\n",
      "[Epoch] 546  [Train] Loss: 0.5984, Accuracy: 0.8786 [Valid] Loss: 0.8487, Accuracy: 0.7820\n",
      "[Epoch] 547  [Train] Loss: 0.6001, Accuracy: 0.8429 [Valid] Loss: 0.8497, Accuracy: 0.7860\n",
      "[Epoch] 548  [Train] Loss: 0.6057, Accuracy: 0.8857 [Valid] Loss: 0.8521, Accuracy: 0.7880\n",
      "[Epoch] 549  [Train] Loss: 0.6100, Accuracy: 0.8786 [Valid] Loss: 0.8562, Accuracy: 0.7900\n",
      "[Epoch] 550  [Train] Loss: 0.5562, Accuracy: 0.8714 [Valid] Loss: 0.8619, Accuracy: 0.7920\n",
      "[Epoch] 551  [Train] Loss: 0.4922, Accuracy: 0.9286 [Valid] Loss: 0.8674, Accuracy: 0.7920\n",
      "[Epoch] 552  [Train] Loss: 0.5102, Accuracy: 0.8786 [Valid] Loss: 0.8717, Accuracy: 0.7920\n",
      "[Epoch] 553  [Train] Loss: 0.5730, Accuracy: 0.8929 [Valid] Loss: 0.8684, Accuracy: 0.7960\n",
      "[Epoch] 554  [Train] Loss: 0.5561, Accuracy: 0.9214 [Valid] Loss: 0.8647, Accuracy: 0.7960\n",
      "[Epoch] 555  [Train] Loss: 0.5733, Accuracy: 0.8786 [Valid] Loss: 0.8611, Accuracy: 0.7900\n",
      "[Epoch] 556  [Train] Loss: 0.6532, Accuracy: 0.8929 [Valid] Loss: 0.8568, Accuracy: 0.7880\n",
      "[Epoch] 557  [Train] Loss: 0.6282, Accuracy: 0.8643 [Valid] Loss: 0.8542, Accuracy: 0.7840\n",
      "[Epoch] 558  [Train] Loss: 0.5773, Accuracy: 0.9071 [Valid] Loss: 0.8540, Accuracy: 0.7820\n",
      "[Epoch] 559  [Train] Loss: 0.6400, Accuracy: 0.8143 [Valid] Loss: 0.8525, Accuracy: 0.7840\n",
      "[Epoch] 560  [Train] Loss: 0.6205, Accuracy: 0.8214 [Valid] Loss: 0.8513, Accuracy: 0.7840\n",
      "[Epoch] 561  [Train] Loss: 0.5131, Accuracy: 0.9071 [Valid] Loss: 0.8540, Accuracy: 0.7820\n",
      "[Epoch] 562  [Train] Loss: 0.5361, Accuracy: 0.9071 [Valid] Loss: 0.8545, Accuracy: 0.7840\n",
      "[Epoch] 563  [Train] Loss: 0.5764, Accuracy: 0.8571 [Valid] Loss: 0.8551, Accuracy: 0.7820\n",
      "[Epoch] 564  [Train] Loss: 0.5665, Accuracy: 0.9071 [Valid] Loss: 0.8534, Accuracy: 0.7820\n",
      "[Epoch] 565  [Train] Loss: 0.5557, Accuracy: 0.8786 [Valid] Loss: 0.8533, Accuracy: 0.7860\n",
      "[Epoch] 566  [Train] Loss: 0.5325, Accuracy: 0.9071 [Valid] Loss: 0.8561, Accuracy: 0.7880\n",
      "[Epoch] 567  [Train] Loss: 0.6519, Accuracy: 0.8500 [Valid] Loss: 0.8623, Accuracy: 0.7920\n",
      "[Epoch] 568  [Train] Loss: 0.5416, Accuracy: 0.8786 [Valid] Loss: 0.8665, Accuracy: 0.7920\n",
      "[Epoch] 569  [Train] Loss: 0.5804, Accuracy: 0.9000 [Valid] Loss: 0.8688, Accuracy: 0.7920\n",
      "[Epoch] 570  [Train] Loss: 0.5848, Accuracy: 0.8786 [Valid] Loss: 0.8685, Accuracy: 0.7900\n",
      "[Epoch] 571  [Train] Loss: 0.5647, Accuracy: 0.8714 [Valid] Loss: 0.8637, Accuracy: 0.7900\n",
      "[Epoch] 572  [Train] Loss: 0.5184, Accuracy: 0.9000 [Valid] Loss: 0.8587, Accuracy: 0.7840\n",
      "[Epoch] 573  [Train] Loss: 0.5326, Accuracy: 0.9000 [Valid] Loss: 0.8539, Accuracy: 0.7860\n",
      "[Epoch] 574  [Train] Loss: 0.5518, Accuracy: 0.9000 [Valid] Loss: 0.8515, Accuracy: 0.7800\n",
      "[Epoch] 575  [Train] Loss: 0.5489, Accuracy: 0.8857 [Valid] Loss: 0.8490, Accuracy: 0.7800\n",
      "[Epoch] 576  [Train] Loss: 0.5652, Accuracy: 0.9214 [Valid] Loss: 0.8511, Accuracy: 0.7800\n",
      "[Epoch] 577  [Train] Loss: 0.4974, Accuracy: 0.8857 [Valid] Loss: 0.8522, Accuracy: 0.7840\n",
      "[Epoch] 578  [Train] Loss: 0.5978, Accuracy: 0.8714 [Valid] Loss: 0.8529, Accuracy: 0.7840\n",
      "[Epoch] 579  [Train] Loss: 0.5721, Accuracy: 0.8786 [Valid] Loss: 0.8507, Accuracy: 0.7860\n",
      "[Epoch] 580  [Train] Loss: 0.5756, Accuracy: 0.8786 [Valid] Loss: 0.8529, Accuracy: 0.7820\n",
      "[Epoch] 581  [Train] Loss: 0.5415, Accuracy: 0.8786 [Valid] Loss: 0.8524, Accuracy: 0.7840\n",
      "[Epoch] 582  [Train] Loss: 0.5648, Accuracy: 0.8929 [Valid] Loss: 0.8491, Accuracy: 0.7860\n",
      "[Epoch] 583  [Train] Loss: 0.5248, Accuracy: 0.8929 [Valid] Loss: 0.8490, Accuracy: 0.7840\n",
      "[Epoch] 584  [Train] Loss: 0.5119, Accuracy: 0.9071 [Valid] Loss: 0.8497, Accuracy: 0.7840\n",
      "[Epoch] 585  [Train] Loss: 0.5785, Accuracy: 0.8714 [Valid] Loss: 0.8513, Accuracy: 0.7900\n",
      "[Epoch] 586  [Train] Loss: 0.6985, Accuracy: 0.8357 [Valid] Loss: 0.8491, Accuracy: 0.7900\n",
      "[Epoch] 587  [Train] Loss: 0.5543, Accuracy: 0.8929 [Valid] Loss: 0.8471, Accuracy: 0.7820\n",
      "[Epoch] 588  [Train] Loss: 0.5352, Accuracy: 0.9000 [Valid] Loss: 0.8445, Accuracy: 0.7800\n",
      "[Epoch] 589  [Train] Loss: 0.5388, Accuracy: 0.8857 [Valid] Loss: 0.8426, Accuracy: 0.7800\n",
      "[Epoch] 590  [Train] Loss: 0.5532, Accuracy: 0.8786 [Valid] Loss: 0.8447, Accuracy: 0.7800\n",
      "[Epoch] 591  [Train] Loss: 0.5723, Accuracy: 0.8786 [Valid] Loss: 0.8460, Accuracy: 0.7800\n",
      "[Epoch] 592  [Train] Loss: 0.5902, Accuracy: 0.8714 [Valid] Loss: 0.8466, Accuracy: 0.7800\n",
      "[Epoch] 593  [Train] Loss: 0.6162, Accuracy: 0.8357 [Valid] Loss: 0.8523, Accuracy: 0.7800\n",
      "[Epoch] 594  [Train] Loss: 0.6069, Accuracy: 0.8857 [Valid] Loss: 0.8602, Accuracy: 0.7860\n",
      "[Epoch] 595  [Train] Loss: 0.5771, Accuracy: 0.9143 [Valid] Loss: 0.8672, Accuracy: 0.7840\n",
      "[Epoch] 596  [Train] Loss: 0.4990, Accuracy: 0.9357 [Valid] Loss: 0.8708, Accuracy: 0.7820\n",
      "[Epoch] 597  [Train] Loss: 0.5240, Accuracy: 0.9214 [Valid] Loss: 0.8687, Accuracy: 0.7840\n",
      "[Epoch] 598  [Train] Loss: 0.5072, Accuracy: 0.9071 [Valid] Loss: 0.8633, Accuracy: 0.7860\n",
      "[Epoch] 599  [Train] Loss: 0.5399, Accuracy: 0.8857 [Valid] Loss: 0.8572, Accuracy: 0.7880\n",
      "[Epoch] 600  [Train] Loss: 0.5600, Accuracy: 0.9071 [Valid] Loss: 0.8507, Accuracy: 0.7840\n",
      "[Epoch] 601  [Train] Loss: 0.5553, Accuracy: 0.8643 [Valid] Loss: 0.8496, Accuracy: 0.7920\n",
      "[Epoch] 602  [Train] Loss: 0.5735, Accuracy: 0.9071 [Valid] Loss: 0.8491, Accuracy: 0.7840\n",
      "[Epoch] 603  [Train] Loss: 0.6012, Accuracy: 0.8714 [Valid] Loss: 0.8498, Accuracy: 0.7840\n",
      "[Epoch] 604  [Train] Loss: 0.5413, Accuracy: 0.8857 [Valid] Loss: 0.8502, Accuracy: 0.7860\n",
      "[Epoch] 605  [Train] Loss: 0.5646, Accuracy: 0.8929 [Valid] Loss: 0.8497, Accuracy: 0.7920\n",
      "[Epoch] 606  [Train] Loss: 0.5218, Accuracy: 0.9143 [Valid] Loss: 0.8519, Accuracy: 0.7820\n",
      "[Epoch] 607  [Train] Loss: 0.6182, Accuracy: 0.8714 [Valid] Loss: 0.8511, Accuracy: 0.7800\n",
      "[Epoch] 608  [Train] Loss: 0.5865, Accuracy: 0.8571 [Valid] Loss: 0.8538, Accuracy: 0.7840\n",
      "[Epoch] 609  [Train] Loss: 0.6103, Accuracy: 0.8714 [Valid] Loss: 0.8568, Accuracy: 0.7820\n",
      "[Epoch] 610  [Train] Loss: 0.5469, Accuracy: 0.8571 [Valid] Loss: 0.8594, Accuracy: 0.7800\n",
      "[Epoch] 611  [Train] Loss: 0.6225, Accuracy: 0.8429 [Valid] Loss: 0.8625, Accuracy: 0.7840\n",
      "[Epoch] 612  [Train] Loss: 0.5579, Accuracy: 0.8571 [Valid] Loss: 0.8679, Accuracy: 0.7860\n",
      "[Epoch] 613  [Train] Loss: 0.5637, Accuracy: 0.9357 [Valid] Loss: 0.8746, Accuracy: 0.7880\n",
      "[Epoch] 614  [Train] Loss: 0.5932, Accuracy: 0.8786 [Valid] Loss: 0.8773, Accuracy: 0.7880\n",
      "[Epoch] 615  [Train] Loss: 0.5817, Accuracy: 0.8643 [Valid] Loss: 0.8728, Accuracy: 0.7940\n",
      "[Epoch] 616  [Train] Loss: 0.5646, Accuracy: 0.9214 [Valid] Loss: 0.8631, Accuracy: 0.7920\n",
      "[Epoch] 617  [Train] Loss: 0.5219, Accuracy: 0.9071 [Valid] Loss: 0.8533, Accuracy: 0.8000\n",
      "[Epoch] 618  [Train] Loss: 0.6367, Accuracy: 0.8643 [Valid] Loss: 0.8452, Accuracy: 0.7960\n",
      "[Epoch] 619  [Train] Loss: 0.5958, Accuracy: 0.8786 [Valid] Loss: 0.8435, Accuracy: 0.7980\n",
      "[Epoch] 620  [Train] Loss: 0.5486, Accuracy: 0.9071 [Valid] Loss: 0.8443, Accuracy: 0.7940\n",
      "[Epoch] 621  [Train] Loss: 0.5859, Accuracy: 0.8857 [Valid] Loss: 0.8468, Accuracy: 0.8020\n",
      "[Epoch] 622  [Train] Loss: 0.5004, Accuracy: 0.9000 [Valid] Loss: 0.8505, Accuracy: 0.8060\n",
      "[Epoch] 623  [Train] Loss: 0.6093, Accuracy: 0.8500 [Valid] Loss: 0.8531, Accuracy: 0.8060\n",
      "[Epoch] 624  [Train] Loss: 0.5552, Accuracy: 0.8857 [Valid] Loss: 0.8580, Accuracy: 0.7940\n",
      "[Epoch] 625  [Train] Loss: 0.5338, Accuracy: 0.8643 [Valid] Loss: 0.8650, Accuracy: 0.7900\n",
      "[Epoch] 626  [Train] Loss: 0.6329, Accuracy: 0.8500 [Valid] Loss: 0.8689, Accuracy: 0.7920\n",
      "[Epoch] 627  [Train] Loss: 0.5742, Accuracy: 0.9000 [Valid] Loss: 0.8709, Accuracy: 0.7880\n",
      "[Epoch] 628  [Train] Loss: 0.5835, Accuracy: 0.8286 [Valid] Loss: 0.8664, Accuracy: 0.7880\n",
      "[Epoch] 629  [Train] Loss: 0.5679, Accuracy: 0.8857 [Valid] Loss: 0.8621, Accuracy: 0.7960\n",
      "[Epoch] 630  [Train] Loss: 0.6196, Accuracy: 0.8786 [Valid] Loss: 0.8585, Accuracy: 0.7980\n",
      "[Epoch] 631  [Train] Loss: 0.5959, Accuracy: 0.9071 [Valid] Loss: 0.8567, Accuracy: 0.7960\n",
      "[Epoch] 632  [Train] Loss: 0.5385, Accuracy: 0.9071 [Valid] Loss: 0.8598, Accuracy: 0.7940\n",
      "[Epoch] 633  [Train] Loss: 0.5791, Accuracy: 0.9000 [Valid] Loss: 0.8663, Accuracy: 0.7800\n",
      "[Epoch] 634  [Train] Loss: 0.5455, Accuracy: 0.8714 [Valid] Loss: 0.8690, Accuracy: 0.7800\n",
      "[Epoch] 635  [Train] Loss: 0.5623, Accuracy: 0.8929 [Valid] Loss: 0.8690, Accuracy: 0.7820\n",
      "[Epoch] 636  [Train] Loss: 0.5246, Accuracy: 0.9214 [Valid] Loss: 0.8675, Accuracy: 0.7800\n",
      "[Epoch] 637  [Train] Loss: 0.5328, Accuracy: 0.8714 [Valid] Loss: 0.8624, Accuracy: 0.7880\n",
      "[Epoch] 638  [Train] Loss: 0.5307, Accuracy: 0.8929 [Valid] Loss: 0.8541, Accuracy: 0.7900\n",
      "[Epoch] 639  [Train] Loss: 0.5189, Accuracy: 0.9286 [Valid] Loss: 0.8547, Accuracy: 0.7880\n",
      "[Epoch] 640  [Train] Loss: 0.5853, Accuracy: 0.8786 [Valid] Loss: 0.8546, Accuracy: 0.7920\n",
      "[Epoch] 641  [Train] Loss: 0.6141, Accuracy: 0.8357 [Valid] Loss: 0.8494, Accuracy: 0.7920\n",
      "[Epoch] 642  [Train] Loss: 0.5911, Accuracy: 0.8500 [Valid] Loss: 0.8475, Accuracy: 0.7940\n",
      "[Epoch] 643  [Train] Loss: 0.6015, Accuracy: 0.8643 [Valid] Loss: 0.8481, Accuracy: 0.8000\n",
      "[Epoch] 644  [Train] Loss: 0.5805, Accuracy: 0.8643 [Valid] Loss: 0.8471, Accuracy: 0.7940\n",
      "[Epoch] 645  [Train] Loss: 0.5379, Accuracy: 0.8643 [Valid] Loss: 0.8494, Accuracy: 0.7900\n",
      "[Epoch] 646  [Train] Loss: 0.5214, Accuracy: 0.9143 [Valid] Loss: 0.8536, Accuracy: 0.7920\n",
      "[Epoch] 647  [Train] Loss: 0.6054, Accuracy: 0.8929 [Valid] Loss: 0.8587, Accuracy: 0.7880\n",
      "[Epoch] 648  [Train] Loss: 0.6086, Accuracy: 0.8429 [Valid] Loss: 0.8631, Accuracy: 0.7900\n",
      "[Epoch] 649  [Train] Loss: 0.6289, Accuracy: 0.8857 [Valid] Loss: 0.8680, Accuracy: 0.7880\n",
      "[Epoch] 650  [Train] Loss: 0.4872, Accuracy: 0.9357 [Valid] Loss: 0.8692, Accuracy: 0.7880\n",
      "[Epoch] 651  [Train] Loss: 0.5734, Accuracy: 0.8571 [Valid] Loss: 0.8618, Accuracy: 0.7860\n",
      "[Epoch] 652  [Train] Loss: 0.5540, Accuracy: 0.9071 [Valid] Loss: 0.8529, Accuracy: 0.7920\n",
      "[Epoch] 653  [Train] Loss: 0.6343, Accuracy: 0.8429 [Valid] Loss: 0.8469, Accuracy: 0.7960\n",
      "[Epoch] 654  [Train] Loss: 0.5788, Accuracy: 0.8857 [Valid] Loss: 0.8386, Accuracy: 0.7960\n",
      "[Epoch] 655  [Train] Loss: 0.5139, Accuracy: 0.9286 [Valid] Loss: 0.8336, Accuracy: 0.8060\n",
      "[Epoch] 656  [Train] Loss: 0.6322, Accuracy: 0.9000 [Valid] Loss: 0.8360, Accuracy: 0.8020\n",
      "[Epoch] 657  [Train] Loss: 0.6559, Accuracy: 0.8429 [Valid] Loss: 0.8413, Accuracy: 0.8000\n",
      "[Epoch] 658  [Train] Loss: 0.4876, Accuracy: 0.9429 [Valid] Loss: 0.8472, Accuracy: 0.8020\n",
      "[Epoch] 659  [Train] Loss: 0.5060, Accuracy: 0.9000 [Valid] Loss: 0.8502, Accuracy: 0.8020\n",
      "[Epoch] 660  [Train] Loss: 0.5666, Accuracy: 0.9286 [Valid] Loss: 0.8530, Accuracy: 0.8000\n",
      "[Epoch] 661  [Train] Loss: 0.5716, Accuracy: 0.9143 [Valid] Loss: 0.8540, Accuracy: 0.7900\n",
      "[Epoch] 662  [Train] Loss: 0.5848, Accuracy: 0.8643 [Valid] Loss: 0.8538, Accuracy: 0.7880\n",
      "[Epoch] 663  [Train] Loss: 0.5125, Accuracy: 0.9286 [Valid] Loss: 0.8563, Accuracy: 0.7860\n",
      "[Epoch] 664  [Train] Loss: 0.5413, Accuracy: 0.9071 [Valid] Loss: 0.8588, Accuracy: 0.7820\n",
      "[Epoch] 665  [Train] Loss: 0.5550, Accuracy: 0.8786 [Valid] Loss: 0.8578, Accuracy: 0.7900\n",
      "[Epoch] 666  [Train] Loss: 0.4972, Accuracy: 0.9214 [Valid] Loss: 0.8524, Accuracy: 0.7900\n",
      "[Epoch] 667  [Train] Loss: 0.6298, Accuracy: 0.8643 [Valid] Loss: 0.8456, Accuracy: 0.7920\n",
      "[Epoch] 668  [Train] Loss: 0.5537, Accuracy: 0.8643 [Valid] Loss: 0.8377, Accuracy: 0.7960\n",
      "[Epoch] 669  [Train] Loss: 0.5607, Accuracy: 0.9000 [Valid] Loss: 0.8332, Accuracy: 0.7980\n",
      "[Epoch] 670  [Train] Loss: 0.5879, Accuracy: 0.8929 [Valid] Loss: 0.8330, Accuracy: 0.7980\n",
      "[Epoch] 671  [Train] Loss: 0.5856, Accuracy: 0.8786 [Valid] Loss: 0.8376, Accuracy: 0.7940\n",
      "[Epoch] 672  [Train] Loss: 0.5446, Accuracy: 0.8929 [Valid] Loss: 0.8427, Accuracy: 0.7960\n",
      "[Epoch] 673  [Train] Loss: 0.5999, Accuracy: 0.8786 [Valid] Loss: 0.8514, Accuracy: 0.7940\n",
      "[Epoch] 674  [Train] Loss: 0.5671, Accuracy: 0.9000 [Valid] Loss: 0.8568, Accuracy: 0.7880\n",
      "[Epoch] 675  [Train] Loss: 0.5256, Accuracy: 0.8857 [Valid] Loss: 0.8595, Accuracy: 0.7920\n",
      "[Epoch] 676  [Train] Loss: 0.5497, Accuracy: 0.8929 [Valid] Loss: 0.8609, Accuracy: 0.7920\n",
      "[Epoch] 677  [Train] Loss: 0.5630, Accuracy: 0.9429 [Valid] Loss: 0.8616, Accuracy: 0.7920\n",
      "[Epoch] 678  [Train] Loss: 0.4984, Accuracy: 0.9571 [Valid] Loss: 0.8572, Accuracy: 0.7920\n",
      "[Epoch] 679  [Train] Loss: 0.6120, Accuracy: 0.8000 [Valid] Loss: 0.8496, Accuracy: 0.7960\n",
      "[Epoch] 680  [Train] Loss: 0.5740, Accuracy: 0.8929 [Valid] Loss: 0.8460, Accuracy: 0.7960\n",
      "[Epoch] 681  [Train] Loss: 0.5884, Accuracy: 0.8643 [Valid] Loss: 0.8423, Accuracy: 0.7940\n",
      "[Epoch] 682  [Train] Loss: 0.5790, Accuracy: 0.8786 [Valid] Loss: 0.8380, Accuracy: 0.7940\n",
      "[Epoch] 683  [Train] Loss: 0.5626, Accuracy: 0.9143 [Valid] Loss: 0.8342, Accuracy: 0.7940\n",
      "[Epoch] 684  [Train] Loss: 0.5635, Accuracy: 0.8714 [Valid] Loss: 0.8319, Accuracy: 0.7960\n",
      "[Epoch] 685  [Train] Loss: 0.5804, Accuracy: 0.8500 [Valid] Loss: 0.8305, Accuracy: 0.8000\n",
      "[Epoch] 686  [Train] Loss: 0.5935, Accuracy: 0.8786 [Valid] Loss: 0.8323, Accuracy: 0.7980\n",
      "[Epoch] 687  [Train] Loss: 0.5684, Accuracy: 0.8857 [Valid] Loss: 0.8376, Accuracy: 0.7980\n",
      "[Epoch] 688  [Train] Loss: 0.5439, Accuracy: 0.8786 [Valid] Loss: 0.8476, Accuracy: 0.7960\n",
      "[Epoch] 689  [Train] Loss: 0.5189, Accuracy: 0.9143 [Valid] Loss: 0.8559, Accuracy: 0.7940\n",
      "[Epoch] 690  [Train] Loss: 0.5191, Accuracy: 0.9071 [Valid] Loss: 0.8656, Accuracy: 0.7900\n",
      "[Epoch] 691  [Train] Loss: 0.5795, Accuracy: 0.9000 [Valid] Loss: 0.8716, Accuracy: 0.7900\n",
      "[Epoch] 692  [Train] Loss: 0.5531, Accuracy: 0.8714 [Valid] Loss: 0.8771, Accuracy: 0.7900\n",
      "[Epoch] 693  [Train] Loss: 0.5248, Accuracy: 0.8857 [Valid] Loss: 0.8763, Accuracy: 0.7920\n",
      "[Epoch] 694  [Train] Loss: 0.6497, Accuracy: 0.8786 [Valid] Loss: 0.8739, Accuracy: 0.7900\n",
      "[Epoch] 695  [Train] Loss: 0.5889, Accuracy: 0.8857 [Valid] Loss: 0.8692, Accuracy: 0.7860\n",
      "[Epoch] 696  [Train] Loss: 0.5502, Accuracy: 0.9000 [Valid] Loss: 0.8605, Accuracy: 0.7920\n",
      "[Epoch] 697  [Train] Loss: 0.5927, Accuracy: 0.8857 [Valid] Loss: 0.8499, Accuracy: 0.7940\n",
      "[Epoch] 698  [Train] Loss: 0.5472, Accuracy: 0.8714 [Valid] Loss: 0.8397, Accuracy: 0.7920\n",
      "[Epoch] 699  [Train] Loss: 0.5369, Accuracy: 0.8929 [Valid] Loss: 0.8307, Accuracy: 0.8020\n",
      "[Epoch] 700  [Train] Loss: 0.6437, Accuracy: 0.8500 [Valid] Loss: 0.8308, Accuracy: 0.8020\n",
      "[Epoch] 701  [Train] Loss: 0.6263, Accuracy: 0.8571 [Valid] Loss: 0.8343, Accuracy: 0.8000\n",
      "[Epoch] 702  [Train] Loss: 0.5351, Accuracy: 0.9143 [Valid] Loss: 0.8417, Accuracy: 0.7920\n",
      "[Epoch] 703  [Train] Loss: 0.6186, Accuracy: 0.8500 [Valid] Loss: 0.8464, Accuracy: 0.7980\n",
      "[Epoch] 704  [Train] Loss: 0.5562, Accuracy: 0.8857 [Valid] Loss: 0.8499, Accuracy: 0.7960\n",
      "[Epoch] 705  [Train] Loss: 0.5478, Accuracy: 0.8929 [Valid] Loss: 0.8535, Accuracy: 0.7900\n",
      "[Epoch] 706  [Train] Loss: 0.5863, Accuracy: 0.8714 [Valid] Loss: 0.8557, Accuracy: 0.7940\n",
      "[Epoch] 707  [Train] Loss: 0.6299, Accuracy: 0.8500 [Valid] Loss: 0.8544, Accuracy: 0.7940\n",
      "[Epoch] 708  [Train] Loss: 0.4901, Accuracy: 0.9143 [Valid] Loss: 0.8549, Accuracy: 0.7940\n",
      "[Epoch] 709  [Train] Loss: 0.5619, Accuracy: 0.8929 [Valid] Loss: 0.8502, Accuracy: 0.7960\n",
      "[Epoch] 710  [Train] Loss: 0.5772, Accuracy: 0.8857 [Valid] Loss: 0.8434, Accuracy: 0.8040\n",
      "[Epoch] 711  [Train] Loss: 0.6664, Accuracy: 0.8286 [Valid] Loss: 0.8380, Accuracy: 0.8060\n",
      "[Epoch] 712  [Train] Loss: 0.5310, Accuracy: 0.8857 [Valid] Loss: 0.8365, Accuracy: 0.8000\n",
      "[Epoch] 713  [Train] Loss: 0.5604, Accuracy: 0.8786 [Valid] Loss: 0.8331, Accuracy: 0.7940\n",
      "[Epoch] 714  [Train] Loss: 0.5907, Accuracy: 0.8857 [Valid] Loss: 0.8295, Accuracy: 0.8040\n",
      "[Epoch] 715  [Train] Loss: 0.5409, Accuracy: 0.9000 [Valid] Loss: 0.8298, Accuracy: 0.8060\n",
      "[Epoch] 716  [Train] Loss: 0.5699, Accuracy: 0.8857 [Valid] Loss: 0.8299, Accuracy: 0.8060\n",
      "[Epoch] 717  [Train] Loss: 0.5880, Accuracy: 0.8786 [Valid] Loss: 0.8341, Accuracy: 0.8040\n",
      "Optimization Finished!\n",
      "Loading 517th model\n",
      "\n",
      "[Test] Loss: 0.8225, Accuracy: 0.8000\n"
     ]
    }
   ],
   "source": [
    "try:\n",
    "\n",
    "    for e in range(epochs):\n",
    "        loss_values.append(step(e))\n",
    "        torch.save(model.state_dict(), \"%s.pth\" % e)\n",
    "        if loss_values[-1] < best:\n",
    "            best = loss_values[-1]\n",
    "            best_epoch = e\n",
    "            bad_counter = 0\n",
    "        else:\n",
    "            bad_counter += 1\n",
    "        if bad_counter == patience:\n",
    "            break\n",
    "\n",
    "    print(\"Optimization Finished!\\nLoading %sth model\\n\" % best_epoch)\n",
    "    model.load_state_dict(torch.load(\"%s.pth\" % best_epoch))\n",
    "\n",
    "    best_test_loss, best_test_acc = compute_test()\n",
    "    print(\"[Test] Loss: {:6.4f}, Accuracy: {:6.4f}\".format(best_test_loss, best_test_acc))\n",
    "\n",
    "finally:\n",
    "    for file in glob.iglob('*.pth'):\n",
    "        os.remove(file)\n"
   ]
  }
 ],
 "metadata": {
  "kernelspec": {
   "display_name": "Python 3",
   "language": "python",
   "name": "python3"
  },
  "language_info": {
   "codemirror_mode": {
    "name": "ipython",
    "version": 3
   },
   "file_extension": ".py",
   "mimetype": "text/x-python",
   "name": "python",
   "nbconvert_exporter": "python",
   "pygments_lexer": "ipython3",
   "version": "3.8.8"
  }
 },
 "nbformat": 4,
 "nbformat_minor": 1
}