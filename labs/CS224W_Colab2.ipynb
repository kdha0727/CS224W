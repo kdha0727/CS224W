{
 "cells": [
  {
   "cell_type": "markdown",
   "metadata": {
    "id": "XuXWJLEm2UWS"
   },
   "source": [
    "# **CS224W - Colab 2**"
   ]
  },
  {
   "cell_type": "markdown",
   "metadata": {
    "id": "8gzsP50bF6Gb"
   },
   "source": [
    "In Colab 2, we will work to construct our own graph neural network using PyTorch Geometric (PyG) and then apply that model on two Open Graph Benchmark (OGB) datasets. These two datasets will be used to benchmark your model's performance on two different graph-based tasks: 1) node property prediction, predicting properties of single nodes and 2) graph property prediction, predicting properties of entire graphs or subgraphs.\n",
    "\n",
    "First, we will learn how PyTorch Geometric stores graphs as PyTorch tensors.\n",
    "\n",
    "Then, we will load and inspect one of the Open Graph Benchmark (OGB) datasets by using the `ogb` package. OGB is a collection of realistic, large-scale, and diverse benchmark datasets for machine learning on graphs. The `ogb` package not only provides data loaders for each dataset but also model evaluators.\n",
    "\n",
    "Lastly, we will build our own graph neural network using PyTorch Geometric. We will then train and evaluate our model on the OGB node property prediction and graph property prediction tasks."
   ]
  },
  {
   "cell_type": "markdown",
   "metadata": {
    "id": "ZGKqVEbbMEzf"
   },
   "source": [
    "# Device\n",
    "You might need to use a GPU for this Colab to run quickly.\n",
    "\n",
    "Please click `Runtime` and then `Change runtime type`. Then set the `hardware accelerator` to **GPU**."
   ]
  },
  {
   "cell_type": "code",
   "execution_count": 1,
   "metadata": {
    "id": "2vkP8pA1qBE5"
   },
   "outputs": [
    {
     "name": "stdout",
     "output_type": "stream",
     "text": [
      "PyTorch has version 1.10.2\n",
      "==============================\n",
      "GPU 0: NVIDIA RTX A6000\n",
      "GPU 1: NVIDIA RTX A6000\n",
      "GPU 2: NVIDIA RTX A6000\n",
      "GPU 3: NVIDIA RTX A6000\n",
      "Device: 3\n"
     ]
    }
   ],
   "source": [
    "import torch\n",
    "\n",
    "print(\"PyTorch has version {}\".format(torch.__version__))\n",
    "print(\"==============================\")\n",
    "for i in range(torch.cuda.device_count()):\n",
    "    print(f\"GPU {i}: {torch.cuda.get_device_name(i)}\")\n",
    "\n",
    "device = 3\n",
    "\n",
    "print('Device: {}'.format(device))"
   ]
  },
  {
   "cell_type": "code",
   "execution_count": 2,
   "metadata": {},
   "outputs": [
    {
     "name": "stdout",
     "output_type": "stream",
     "text": [
      "+-----------------------------------------------------------------------------+\r\n",
      "| NVIDIA-SMI 510.47.03    Driver Version: 510.47.03    CUDA Version: 11.6     |\r\n",
      "|-------------------------------+----------------------+----------------------+\r\n",
      "| GPU  Name        Persistence-M| Bus-Id        Disp.A | Volatile Uncorr. ECC |\r\n",
      "| Fan  Temp  Perf  Pwr:Usage/Cap|         Memory-Usage | GPU-Util  Compute M. |\r\n",
      "|                               |                      |               MIG M. |\r\n",
      "|===============================+======================+======================|\r\n",
      "|   0  NVIDIA RTX A6000    On   | 00000000:00:00.0 Off |                  Off |\r\n",
      "| 30%   56C    P8    36W / 300W |      0MiB / 49140MiB |      0%      Default |\r\n",
      "|                               |                      |                  N/A |\r\n",
      "+-------------------------------+----------------------+----------------------+\r\n",
      "|   1  NVIDIA RTX A6000    On   | 00000000:01:00.0 Off |                  Off |\r\n",
      "| 36%   65C    P8    31W / 300W |      0MiB / 49140MiB |      0%      Default |\r\n",
      "|                               |                      |                  N/A |\r\n",
      "+-------------------------------+----------------------+----------------------+\r\n",
      "|   2  NVIDIA RTX A6000    On   | 00000000:02:00.0 Off |                  Off |\r\n",
      "| 34%   63C    P8    38W / 300W |      0MiB / 49140MiB |      0%      Default |\r\n",
      "|                               |                      |                  N/A |\r\n",
      "+-------------------------------+----------------------+----------------------+\r\n",
      "|   3  NVIDIA RTX A6000    On   | 00000000:03:00.0 Off |                  Off |\r\n",
      "| 33%   63C    P8    32W / 300W |      0MiB / 49140MiB |      0%      Default |\r\n",
      "|                               |                      |                  N/A |\r\n",
      "+-------------------------------+----------------------+----------------------+\r\n"
     ]
    }
   ],
   "source": [
    "!nvidia-smi"
   ]
  },
  {
   "cell_type": "markdown",
   "metadata": {
    "id": "Nwwq0nSdmsOL"
   },
   "source": [
    "# 1) PyTorch Geometric (Datasets and Data)\n"
   ]
  },
  {
   "cell_type": "markdown",
   "metadata": {
    "id": "Sf7vUmdNKCjA"
   },
   "source": [
    "PyTorch Geometric has two classes for storing and/or transforming graphs into tensor format. One is `torch_geometric.datasets`, which contains a variety of common graph datasets. Another is `torch_geometric.data`, which provides the data handling of graphs in PyTorch tensors.\n",
    "\n",
    "In this section, we will learn how to use `torch_geometric.datasets` and `torch_geometric.data` together."
   ]
  },
  {
   "cell_type": "markdown",
   "metadata": {
    "id": "ic-o1P3r6hr2"
   },
   "source": [
    "## PyG Datasets\n",
    "\n",
    "The `torch_geometric.datasets` class has many common graph datasets. Here we will explore its usage through one example dataset."
   ]
  },
  {
   "cell_type": "code",
   "execution_count": 3,
   "metadata": {
    "id": "zT5qca3x6XpG"
   },
   "outputs": [
    {
     "name": "stdout",
     "output_type": "stream",
     "text": [
      "ENZYMES(600)\n"
     ]
    }
   ],
   "source": [
    "from torch_geometric.datasets import TUDataset\n",
    "\n",
    "\n",
    "root = './dataset/enzymes'\n",
    "name = 'ENZYMES'\n",
    "\n",
    "# The ENZYMES dataset\n",
    "pyg_dataset= TUDataset(root, name)\n",
    "\n",
    "# You will find that there are 600 graphs in this dataset\n",
    "print(pyg_dataset)"
   ]
  },
  {
   "cell_type": "code",
   "execution_count": 4,
   "metadata": {},
   "outputs": [
    {
     "data": {
      "text/plain": [
       "600"
      ]
     },
     "execution_count": 4,
     "metadata": {},
     "output_type": "execute_result"
    }
   ],
   "source": [
    "len(pyg_dataset)  # Number of graph"
   ]
  },
  {
   "cell_type": "markdown",
   "metadata": {
    "id": "NLm5vVYMAP2x"
   },
   "source": [
    "## Question 1: What is the number of classes and number of features in the ENZYMES dataset? (5 points)"
   ]
  },
  {
   "cell_type": "code",
   "execution_count": 5,
   "metadata": {
    "id": "8iF_Kyqr_JbY"
   },
   "outputs": [
    {
     "name": "stdout",
     "output_type": "stream",
     "text": [
      "ENZYMES dataset has 6 classes\n",
      "ENZYMES dataset has 3 features\n"
     ]
    }
   ],
   "source": [
    "def get_num_classes(pyg_dataset):\n",
    "    return pyg_dataset.num_classes\n",
    "\n",
    "def get_num_features(pyg_dataset):\n",
    "    return pyg_dataset.num_features\n",
    "\n",
    "\n",
    "num_classes = get_num_classes(pyg_dataset)\n",
    "num_features = get_num_features(pyg_dataset)\n",
    "print(\"{} dataset has {} classes\".format(name, num_classes))\n",
    "print(\"{} dataset has {} features\".format(name, num_features))"
   ]
  },
  {
   "cell_type": "markdown",
   "metadata": {
    "id": "rwKbzhHUAckZ"
   },
   "source": [
    "## PyG Data\n",
    "\n",
    "Each PyG dataset stores a list of `torch_geometric.data.Data` objects, where each `torch_geometric.data.Data` object represents a graph. We can easily get the `Data` object by indexing into the dataset.\n",
    "\n",
    "For more information such as what is stored in the `Data` object, please refer to the [documentation](https://pytorch-geometric.readthedocs.io/en/latest/modules/data.html#torch_geometric.data.Data)."
   ]
  },
  {
   "cell_type": "markdown",
   "metadata": {
    "id": "7sCV3xJWCddX"
   },
   "source": [
    "## Question 2: What is the label of the graph with index 100 in the ENZYMES dataset? (5 points)"
   ]
  },
  {
   "cell_type": "code",
   "execution_count": 6,
   "metadata": {},
   "outputs": [
    {
     "data": {
      "text/plain": [
       "Data(x=[19580, 3], edge_index=[2, 74564], y=[600])"
      ]
     },
     "execution_count": 6,
     "metadata": {},
     "output_type": "execute_result"
    }
   ],
   "source": [
    "pyg_dataset.data"
   ]
  },
  {
   "cell_type": "code",
   "execution_count": 7,
   "metadata": {
    "id": "LIis9oTZAfs3"
   },
   "outputs": [
    {
     "name": "stdout",
     "output_type": "stream",
     "text": [
      "Data(edge_index=[2, 176], x=[45, 3], y=[1])\n",
      "Graph with index 100 has label tensor([4])\n"
     ]
    }
   ],
   "source": [
    "def get_graph_class(pyg_dataset, idx):\n",
    "    # a function that takes a PyG dataset object,\n",
    "    # an index of a graph within the dataset, and returns the class/label \n",
    "    # of the graph (as an integer).\n",
    "    return pyg_dataset[idx].y\n",
    "\n",
    "\n",
    "# Here pyg_dataset is a dataset for graph classification\n",
    "idx = 100\n",
    "label = get_graph_class(pyg_dataset, idx)\n",
    "print(pyg_dataset[idx])\n",
    "print('Graph with index {} has label {}'.format(idx, label))"
   ]
  },
  {
   "cell_type": "markdown",
   "metadata": {
    "id": "fKhcVeAhCwoY"
   },
   "source": [
    "## Question 3: How many edges does the graph with index 200 have? (5 points)"
   ]
  },
  {
   "cell_type": "code",
   "execution_count": 8,
   "metadata": {
    "id": "f5m2DOfhBtWv"
   },
   "outputs": [
    {
     "name": "stdout",
     "output_type": "stream",
     "text": [
      "Graph with index 200 has 53 edges\n"
     ]
    }
   ],
   "source": [
    "def get_graph_num_edges(pyg_dataset, idx):\n",
    "    # a function that takes a PyG dataset object,\n",
    "    # the index of a graph in the dataset, and returns the number of \n",
    "    # edges in the graph (as an integer). You should not count an edge \n",
    "    # twice if the graph is undirected. For example, in an undirected \n",
    "    # graph G, if two nodes v and u are connected by an edge, this edge\n",
    "    # should only be counted once.\n",
    "    \n",
    "    ## Note:\n",
    "    ## 1. You can't return the data.num_edges directly\n",
    "    ## 2. We assume the graph is undirected\n",
    "    ## 3. Look at the PyG dataset built in functions\n",
    "\n",
    "    return pyg_dataset[idx].num_edges // 2\n",
    "\n",
    "\n",
    "idx = 200\n",
    "num_edges = get_graph_num_edges(pyg_dataset, idx)\n",
    "print('Graph with index {} has {} edges'.format(idx, num_edges))"
   ]
  },
  {
   "cell_type": "markdown",
   "metadata": {
    "id": "AXa7yIG4E0Fp"
   },
   "source": [
    "# 2) Open Graph Benchmark (OGB)\n",
    "\n",
    "The Open Graph Benchmark (OGB) is a collection of realistic, large-scale, and diverse benchmark datasets for machine learning on graphs. Its datasets are automatically downloaded, processed, and split using the OGB Data Loader. The model performance can then be evaluated by using the OGB Evaluator in a unified manner."
   ]
  },
  {
   "cell_type": "markdown",
   "metadata": {
    "id": "HnazPGGAJAZN"
   },
   "source": [
    "## Dataset and Data\n",
    "\n",
    "OGB also supports PyG dataset and data classes. Here we take a look on the `ogbn-arxiv` dataset."
   ]
  },
  {
   "cell_type": "code",
   "execution_count": 9,
   "metadata": {
    "id": "Gpc6bTm3GF02"
   },
   "outputs": [
    {
     "name": "stdout",
     "output_type": "stream",
     "text": [
      "The ogbn-arxiv dataset has 1 graph\n",
      "Data(x=[169343, 128], node_year=[169343, 1], y=[169343, 1], adj_t=[169343, 169343, nnz=1166243])\n"
     ]
    }
   ],
   "source": [
    "import torch_geometric.transforms as T\n",
    "from ogb.nodeproppred import PygNodePropPredDataset\n",
    "\n",
    "dataset_name = 'ogbn-arxiv'\n",
    "# Load the dataset and transform it to sparse tensor\n",
    "dataset = PygNodePropPredDataset(name=dataset_name,\n",
    "                              transform=T.ToSparseTensor())\n",
    "print('The {} dataset has {} graph'.format(dataset_name, len(dataset)))\n",
    "\n",
    "# Extract the graph\n",
    "data = dataset[0]\n",
    "print(data)"
   ]
  },
  {
   "cell_type": "markdown",
   "metadata": {
    "id": "Cw0xZJKZI-n3"
   },
   "source": [
    "## Question 4: How many features are in the ogbn-arxiv graph? (5 points)"
   ]
  },
  {
   "cell_type": "code",
   "execution_count": 10,
   "metadata": {
    "id": "ZP844_nT2ZJl"
   },
   "outputs": [
    {
     "name": "stdout",
     "output_type": "stream",
     "text": [
      "The graph has 128 features\n"
     ]
    }
   ],
   "source": [
    "def graph_num_features(data):\n",
    "    # TODO: Implement a function that takes a PyG data object,\n",
    "    # and returns the number of features in the graph (as an integer).\n",
    "    return data.num_features\n",
    "\n",
    "\n",
    "num_features = graph_num_features(data)\n",
    "print('The graph has {} features'.format(num_features))"
   ]
  },
  {
   "cell_type": "markdown",
   "metadata": {
    "id": "9DP_yEQZ0NVW"
   },
   "source": [
    "# 3) GNN: Node Property Prediction\n",
    "\n",
    "In this section we will build our first graph neural network using PyTorch Geometric. Then we will apply it to the task of node property prediction (node classification).\n",
    "\n",
    "Specifically, we will use GCN as the foundation for your graph neural network ([Kipf et al. (2017)](https://arxiv.org/pdf/1609.02907.pdf)). To do so, we will work with PyG's built-in `GCNConv` layer. "
   ]
  },
  {
   "cell_type": "markdown",
   "metadata": {
    "id": "O4CcOUEoInjD"
   },
   "source": [
    "## Setup"
   ]
  },
  {
   "cell_type": "code",
   "execution_count": 11,
   "metadata": {
    "id": "-DCtgcHpGIpd"
   },
   "outputs": [],
   "source": [
    "import torch\n",
    "import torch.nn as nn\n",
    "import pandas as pd\n",
    "import torch.nn.functional as F\n",
    "\n",
    "# The PyG built-in GCNConv\n",
    "from torch_geometric.nn import GCNConv\n",
    "\n",
    "import torch_geometric.transforms as T\n",
    "from ogb.nodeproppred import PygNodePropPredDataset, Evaluator"
   ]
  },
  {
   "cell_type": "markdown",
   "metadata": {
    "id": "0IK9z0wQIwzQ"
   },
   "source": [
    "## Load and Preprocess the Dataset"
   ]
  },
  {
   "cell_type": "code",
   "execution_count": 12,
   "metadata": {
    "id": "0ibJ0ieoIwQM"
   },
   "outputs": [],
   "source": [
    "dataset_name = 'ogbn-arxiv'\n",
    "dataset = PygNodePropPredDataset(name=dataset_name,\n",
    "                                 transform=T.ToSparseTensor())\n",
    "data = dataset[0]\n",
    "\n",
    "# Make the adjacency matrix to symmetric\n",
    "data.adj_t = data.adj_t.to_symmetric()\n",
    "\n",
    "data = data.to(device)\n",
    "split_idx = dataset.get_idx_split()\n",
    "train_idx = split_idx['train'].to(device)"
   ]
  },
  {
   "cell_type": "markdown",
   "metadata": {
    "id": "OgUA815bNJ8w"
   },
   "source": [
    "## GCN Model\n",
    "\n",
    "Now we will implement our GCN model!\n",
    "\n",
    "Please follow the figure below to implement the `forward` function.\n",
    "\n",
    "\n",
    "![test](https://drive.google.com/uc?id=128AuYAXNXGg7PIhJJ7e420DoPWKb-RtL)\n"
   ]
  },
  {
   "cell_type": "code",
   "execution_count": 13,
   "metadata": {
    "id": "IgspXTYpNJLA"
   },
   "outputs": [],
   "source": [
    "class GCN(nn.Module):\n",
    "    def __init__(self, input_dim, hidden_dim, output_dim, num_layers,\n",
    "                 dropout, return_embeds=False):\n",
    "        # initializes self.convs, self.bns, and self.softmax.\n",
    "\n",
    "        super(GCN, self).__init__()\n",
    "\n",
    "        # A list of GCNConv layers\n",
    "        self.convs = nn.ModuleList(\n",
    "            [GCNConv(input_dim, hidden_dim)] + \n",
    "            [GCNConv(hidden_dim, hidden_dim) for _ in range(num_layers - 1)] +\n",
    "            [GCNConv(hidden_dim, output_dim)]\n",
    "        )\n",
    "\n",
    "        # A list of 1D batch normalization layers\n",
    "        self.bns = nn.ModuleList([nn.BatchNorm1d(hidden_dim) for _ in range(num_layers - 1)])\n",
    "\n",
    "        # Probability of an element getting zeroed\n",
    "        self.dropout = nn.Dropout(p=dropout)\n",
    "\n",
    "        # Skip classification layer and return node embeddings\n",
    "        self.return_embeds = return_embeds\n",
    "\n",
    "    def reset_parameters(self):\n",
    "        for conv in self.convs:\n",
    "            conv.reset_parameters()\n",
    "        for bn in self.bns:\n",
    "            bn.reset_parameters()\n",
    "\n",
    "    def forward(self, x, adj_t):\n",
    "        \n",
    "        for conv, bn in zip(self.convs[:-1], self.bns):\n",
    "            x = self.dropout(bn(conv(x, adj_t)).relu())\n",
    "        out = self.convs[-1](x, adj_t)\n",
    "        if not self.return_embeds:\n",
    "            out = out.log_softmax(dim=-1)\n",
    "\n",
    "        return out"
   ]
  },
  {
   "cell_type": "code",
   "execution_count": 14,
   "metadata": {
    "id": "FF1hnHUhO81e"
   },
   "outputs": [],
   "source": [
    "def train(model, data, train_idx, optimizer, loss_fn):\n",
    "    model.train()\n",
    "    loss = 0\n",
    "\n",
    "    ## Note:\n",
    "    ## 1. Zero grad the optimizer\n",
    "    ## 2. Feed the data into the model\n",
    "    ## 3. Slice the model output and label by train_idx\n",
    "    ## 4. Feed the sliced output and label to loss_fn\n",
    "    optimizer.zero_grad()\n",
    "    out = model(data.x, data.adj_t)\n",
    "    loss = loss_fn(out[train_idx], data.y[train_idx].squeeze(1))\n",
    "    \n",
    "    loss.backward()\n",
    "    optimizer.step()\n",
    "\n",
    "    return loss.item()"
   ]
  },
  {
   "cell_type": "code",
   "execution_count": 15,
   "metadata": {
    "id": "aJdlrJQhPBsK"
   },
   "outputs": [],
   "source": [
    "# Test function here\n",
    "@torch.no_grad()\n",
    "def test(model, data, split_idx, evaluator, save_model_results=False):\n",
    "    model.eval()\n",
    "\n",
    "    # The output of model on all data\n",
    "    # No index slicing here\n",
    "    out = model(data.x, data.adj_t)\n",
    "\n",
    "    y_pred = out.argmax(dim=-1, keepdim=True)\n",
    "\n",
    "    train_acc = evaluator.eval({\n",
    "        'y_true': data.y[split_idx['train']],\n",
    "        'y_pred': y_pred[split_idx['train']],\n",
    "    })['acc']\n",
    "    valid_acc = evaluator.eval({\n",
    "        'y_true': data.y[split_idx['valid']],\n",
    "        'y_pred': y_pred[split_idx['valid']],\n",
    "    })['acc']\n",
    "    test_acc = evaluator.eval({\n",
    "        'y_true': data.y[split_idx['test']],\n",
    "        'y_pred': y_pred[split_idx['test']],\n",
    "    })['acc']\n",
    "\n",
    "    if save_model_results:\n",
    "        print (\"Saving Model Predictions\")\n",
    "\n",
    "        data = {}\n",
    "        data['y_pred'] = y_pred.view(-1).cpu().detach().numpy()\n",
    "\n",
    "        df = pd.DataFrame(data=data)\n",
    "        # Save locally as csv\n",
    "        df.to_csv('ogbn-arxiv_node.csv', sep=',', index=False)\n",
    "\n",
    "\n",
    "    return train_acc, valid_acc, test_acc"
   ]
  },
  {
   "cell_type": "code",
   "execution_count": 16,
   "metadata": {
    "id": "o7F46xkuLiOL"
   },
   "outputs": [
    {
     "data": {
      "text/plain": [
       "{'device': 3,\n",
       " 'num_layers': 3,\n",
       " 'hidden_dim': 256,\n",
       " 'dropout': 0.5,\n",
       " 'lr': 0.01,\n",
       " 'epochs': 100}"
      ]
     },
     "execution_count": 16,
     "metadata": {},
     "output_type": "execute_result"
    }
   ],
   "source": [
    "# Please do not change the args\n",
    "args = {\n",
    "  'device': device,\n",
    "  'num_layers': 3,\n",
    "  'hidden_dim': 256,\n",
    "  'dropout': 0.5,\n",
    "  'lr': 0.01,\n",
    "  'epochs': 100,\n",
    "}\n",
    "args"
   ]
  },
  {
   "cell_type": "code",
   "execution_count": 17,
   "metadata": {
    "id": "dT8RyM2cPGxM"
   },
   "outputs": [],
   "source": [
    "model = GCN(data.num_features, args['hidden_dim'],\n",
    "            dataset.num_classes, args['num_layers'],\n",
    "            args['dropout']).to(device)\n",
    "evaluator = Evaluator(name='ogbn-arxiv')"
   ]
  },
  {
   "cell_type": "code",
   "execution_count": 18,
   "metadata": {
    "id": "qd5O5cnPPdVF",
    "scrolled": true
   },
   "outputs": [
    {
     "name": "stdout",
     "output_type": "stream",
     "text": [
      "Epoch: 01, Loss: 3.9569, Train: 15.30%, Valid: 24.55% Test: 22.50%\n",
      "Epoch: 02, Loss: 2.4021, Train: 22.85%, Valid: 21.45% Test: 26.70%\n",
      "Epoch: 03, Loss: 1.9528, Train: 32.15%, Valid: 33.94% Test: 39.26%\n",
      "Epoch: 04, Loss: 1.7821, Train: 32.56%, Valid: 30.23% Test: 30.65%\n",
      "Epoch: 05, Loss: 1.6584, Train: 31.51%, Valid: 20.13% Test: 17.75%\n",
      "Epoch: 06, Loss: 1.5923, Train: 32.95%, Valid: 19.41% Test: 16.99%\n",
      "Epoch: 07, Loss: 1.5118, Train: 35.95%, Valid: 21.60% Test: 19.37%\n",
      "Epoch: 08, Loss: 1.4496, Train: 38.79%, Valid: 27.26% Test: 26.57%\n",
      "Epoch: 09, Loss: 1.4152, Train: 40.89%, Valid: 32.42% Test: 33.65%\n",
      "Epoch: 10, Loss: 1.3767, Train: 42.24%, Valid: 33.22% Test: 35.85%\n",
      "Epoch: 11, Loss: 1.3433, Train: 43.21%, Valid: 33.37% Test: 35.85%\n",
      "Epoch: 12, Loss: 1.3210, Train: 44.59%, Valid: 34.36% Test: 36.63%\n",
      "Epoch: 13, Loss: 1.2953, Train: 46.18%, Valid: 37.50% Test: 40.44%\n",
      "Epoch: 14, Loss: 1.2727, Train: 48.77%, Valid: 43.93% Test: 46.95%\n",
      "Epoch: 15, Loss: 1.2501, Train: 50.95%, Valid: 48.72% Test: 51.42%\n",
      "Epoch: 16, Loss: 1.2348, Train: 52.25%, Valid: 51.22% Test: 53.64%\n",
      "Epoch: 17, Loss: 1.2193, Train: 53.11%, Valid: 52.45% Test: 54.88%\n",
      "Epoch: 18, Loss: 1.2057, Train: 53.72%, Valid: 53.32% Test: 55.90%\n",
      "Epoch: 19, Loss: 1.1892, Train: 54.08%, Valid: 53.96% Test: 56.76%\n",
      "Epoch: 20, Loss: 1.1804, Train: 54.61%, Valid: 54.67% Test: 57.56%\n",
      "Epoch: 21, Loss: 1.1722, Train: 55.62%, Valid: 56.23% Test: 58.77%\n",
      "Epoch: 22, Loss: 1.1644, Train: 57.41%, Valid: 58.50% Test: 60.57%\n",
      "Epoch: 23, Loss: 1.1512, Train: 59.24%, Valid: 60.46% Test: 62.16%\n",
      "Epoch: 24, Loss: 1.1462, Train: 60.48%, Valid: 61.50% Test: 63.16%\n",
      "Epoch: 25, Loss: 1.1328, Train: 61.68%, Valid: 62.72% Test: 64.01%\n",
      "Epoch: 26, Loss: 1.1264, Train: 62.44%, Valid: 63.34% Test: 64.62%\n",
      "Epoch: 27, Loss: 1.1189, Train: 63.21%, Valid: 64.00% Test: 65.15%\n",
      "Epoch: 28, Loss: 1.1083, Train: 64.00%, Valid: 64.76% Test: 65.78%\n",
      "Epoch: 29, Loss: 1.0999, Train: 65.10%, Valid: 65.75% Test: 66.44%\n",
      "Epoch: 30, Loss: 1.0971, Train: 66.19%, Valid: 66.70% Test: 67.13%\n",
      "Epoch: 31, Loss: 1.0928, Train: 66.98%, Valid: 67.22% Test: 67.62%\n",
      "Epoch: 32, Loss: 1.0868, Train: 67.65%, Valid: 67.61% Test: 67.95%\n",
      "Epoch: 33, Loss: 1.0802, Train: 67.99%, Valid: 67.99% Test: 68.04%\n",
      "Epoch: 34, Loss: 1.0730, Train: 68.19%, Valid: 67.97% Test: 67.74%\n",
      "Epoch: 35, Loss: 1.0688, Train: 68.24%, Valid: 67.91% Test: 67.47%\n",
      "Epoch: 36, Loss: 1.0635, Train: 68.32%, Valid: 67.95% Test: 67.52%\n",
      "Epoch: 37, Loss: 1.0585, Train: 68.55%, Valid: 68.17% Test: 68.13%\n",
      "Epoch: 38, Loss: 1.0537, Train: 68.90%, Valid: 68.71% Test: 68.79%\n",
      "Epoch: 39, Loss: 1.0519, Train: 69.31%, Valid: 69.25% Test: 69.08%\n",
      "Epoch: 40, Loss: 1.0464, Train: 69.70%, Valid: 69.47% Test: 69.27%\n",
      "Epoch: 41, Loss: 1.0394, Train: 69.93%, Valid: 69.72% Test: 69.37%\n",
      "Epoch: 42, Loss: 1.0362, Train: 70.01%, Valid: 69.76% Test: 69.51%\n",
      "Epoch: 43, Loss: 1.0348, Train: 70.15%, Valid: 69.68% Test: 69.52%\n",
      "Epoch: 44, Loss: 1.0308, Train: 70.31%, Valid: 69.75% Test: 69.36%\n",
      "Epoch: 45, Loss: 1.0270, Train: 70.50%, Valid: 69.74% Test: 68.95%\n",
      "Epoch: 46, Loss: 1.0219, Train: 70.67%, Valid: 69.80% Test: 68.69%\n",
      "Epoch: 47, Loss: 1.0179, Train: 70.74%, Valid: 69.77% Test: 68.64%\n",
      "Epoch: 48, Loss: 1.0152, Train: 70.78%, Valid: 69.89% Test: 69.33%\n",
      "Epoch: 49, Loss: 1.0155, Train: 70.76%, Valid: 69.98% Test: 69.71%\n",
      "Epoch: 50, Loss: 1.0096, Train: 70.88%, Valid: 70.32% Test: 69.94%\n",
      "Epoch: 51, Loss: 1.0055, Train: 71.01%, Valid: 70.42% Test: 70.05%\n",
      "Epoch: 52, Loss: 1.0054, Train: 71.23%, Valid: 70.55% Test: 70.07%\n",
      "Epoch: 53, Loss: 1.0030, Train: 71.36%, Valid: 70.61% Test: 69.98%\n",
      "Epoch: 54, Loss: 0.9987, Train: 71.43%, Valid: 70.54% Test: 69.96%\n",
      "Epoch: 55, Loss: 0.9976, Train: 71.38%, Valid: 70.32% Test: 69.51%\n",
      "Epoch: 56, Loss: 0.9930, Train: 71.36%, Valid: 70.15% Test: 68.73%\n",
      "Epoch: 57, Loss: 0.9933, Train: 71.44%, Valid: 70.07% Test: 68.40%\n",
      "Epoch: 58, Loss: 0.9877, Train: 71.66%, Valid: 70.50% Test: 69.21%\n",
      "Epoch: 59, Loss: 0.9868, Train: 71.81%, Valid: 70.75% Test: 69.93%\n",
      "Epoch: 60, Loss: 0.9838, Train: 71.85%, Valid: 70.74% Test: 69.95%\n",
      "Epoch: 61, Loss: 0.9835, Train: 71.99%, Valid: 70.65% Test: 69.48%\n",
      "Epoch: 62, Loss: 0.9762, Train: 71.99%, Valid: 70.31% Test: 68.45%\n",
      "Epoch: 63, Loss: 0.9785, Train: 72.00%, Valid: 70.10% Test: 68.00%\n",
      "Epoch: 64, Loss: 0.9717, Train: 72.13%, Valid: 70.56% Test: 68.76%\n",
      "Epoch: 65, Loss: 0.9711, Train: 72.25%, Valid: 70.84% Test: 69.45%\n",
      "Epoch: 66, Loss: 0.9711, Train: 72.27%, Valid: 70.78% Test: 69.60%\n",
      "Epoch: 67, Loss: 0.9708, Train: 72.22%, Valid: 70.44% Test: 68.92%\n",
      "Epoch: 68, Loss: 0.9662, Train: 72.17%, Valid: 70.19% Test: 68.36%\n",
      "Epoch: 69, Loss: 0.9630, Train: 72.28%, Valid: 70.29% Test: 68.31%\n",
      "Epoch: 70, Loss: 0.9630, Train: 72.42%, Valid: 70.83% Test: 69.18%\n",
      "Epoch: 71, Loss: 0.9586, Train: 72.38%, Valid: 70.86% Test: 69.41%\n",
      "Epoch: 72, Loss: 0.9589, Train: 72.35%, Valid: 70.53% Test: 68.51%\n",
      "Epoch: 73, Loss: 0.9584, Train: 72.45%, Valid: 70.43% Test: 68.33%\n",
      "Epoch: 74, Loss: 0.9516, Train: 72.61%, Valid: 70.63% Test: 68.68%\n",
      "Epoch: 75, Loss: 0.9521, Train: 72.68%, Valid: 70.60% Test: 68.71%\n",
      "Epoch: 76, Loss: 0.9504, Train: 72.74%, Valid: 70.74% Test: 68.99%\n",
      "Epoch: 77, Loss: 0.9469, Train: 72.77%, Valid: 70.73% Test: 69.15%\n",
      "Epoch: 78, Loss: 0.9457, Train: 72.68%, Valid: 70.37% Test: 68.53%\n",
      "Epoch: 79, Loss: 0.9438, Train: 72.80%, Valid: 70.50% Test: 68.69%\n",
      "Epoch: 80, Loss: 0.9412, Train: 72.96%, Valid: 71.07% Test: 69.63%\n",
      "Epoch: 81, Loss: 0.9407, Train: 73.11%, Valid: 71.10% Test: 69.81%\n",
      "Epoch: 82, Loss: 0.9395, Train: 73.17%, Valid: 71.34% Test: 70.01%\n",
      "Epoch: 83, Loss: 0.9366, Train: 73.14%, Valid: 71.06% Test: 69.17%\n",
      "Epoch: 84, Loss: 0.9342, Train: 72.93%, Valid: 70.10% Test: 67.83%\n",
      "Epoch: 85, Loss: 0.9356, Train: 73.14%, Valid: 70.87% Test: 69.04%\n",
      "Epoch: 86, Loss: 0.9349, Train: 73.23%, Valid: 71.20% Test: 69.59%\n",
      "Epoch: 87, Loss: 0.9298, Train: 73.19%, Valid: 70.84% Test: 69.38%\n",
      "Epoch: 88, Loss: 0.9285, Train: 73.22%, Valid: 70.81% Test: 69.37%\n",
      "Epoch: 89, Loss: 0.9293, Train: 73.25%, Valid: 70.83% Test: 69.13%\n",
      "Epoch: 90, Loss: 0.9269, Train: 73.34%, Valid: 70.76% Test: 68.76%\n",
      "Epoch: 91, Loss: 0.9239, Train: 73.43%, Valid: 70.81% Test: 68.96%\n",
      "Epoch: 92, Loss: 0.9234, Train: 73.56%, Valid: 71.29% Test: 69.74%\n",
      "Epoch: 93, Loss: 0.9203, Train: 73.51%, Valid: 71.48% Test: 69.98%\n",
      "Epoch: 94, Loss: 0.9198, Train: 73.61%, Valid: 71.57% Test: 70.52%\n",
      "Epoch: 95, Loss: 0.9205, Train: 73.70%, Valid: 71.26% Test: 69.86%\n",
      "Epoch: 96, Loss: 0.9174, Train: 73.63%, Valid: 71.06% Test: 69.31%\n",
      "Epoch: 97, Loss: 0.9146, Train: 73.66%, Valid: 70.99% Test: 69.26%\n",
      "Epoch: 98, Loss: 0.9166, Train: 73.83%, Valid: 71.55% Test: 70.32%\n",
      "Epoch: 99, Loss: 0.9126, Train: 73.86%, Valid: 71.72% Test: 70.87%\n",
      "Epoch: 100, Loss: 0.9144, Train: 73.95%, Valid: 71.63% Test: 70.14%\n"
     ]
    }
   ],
   "source": [
    "import copy\n",
    "# reset the parameters to initial random value\n",
    "model.reset_parameters()\n",
    "\n",
    "optimizer = torch.optim.Adam(model.parameters(), lr=args['lr'])\n",
    "loss_fn = F.nll_loss\n",
    "\n",
    "best_model = None\n",
    "best_valid_acc = 0\n",
    "\n",
    "for epoch in range(1, 1 + args[\"epochs\"]):\n",
    "    loss = train(model, data, train_idx, optimizer, loss_fn)\n",
    "    result = test(model, data, split_idx, evaluator)\n",
    "    train_acc, valid_acc, test_acc = result\n",
    "    if valid_acc > best_valid_acc:\n",
    "        best_valid_acc = valid_acc\n",
    "        best_model = copy.deepcopy(model)\n",
    "    print(f'Epoch: {epoch:02d}, '\n",
    "          f'Loss: {loss:.4f}, '\n",
    "          f'Train: {100 * train_acc:.2f}%, '\n",
    "          f'Valid: {100 * valid_acc:.2f}% '\n",
    "          f'Test: {100 * test_acc:.2f}%')"
   ]
  },
  {
   "cell_type": "markdown",
   "metadata": {
    "id": "dQtt-EKA8P4r"
   },
   "source": [
    "## Question 5: What are your `best_model` validation and test accuracies?(20 points)\n",
    "\n",
    "Run the cell below to see the results of your best of model and save your model's predictions to a file named *ogbn-arxiv_node.csv*. \n",
    "\n",
    "You can view this file by clicking on the *Folder* icon on the left side pannel. As in Colab 1, when you sumbit your assignment, you will have to download this file and attatch it to your submission."
   ]
  },
  {
   "cell_type": "code",
   "execution_count": 19,
   "metadata": {
    "id": "EqcextqOL2FX"
   },
   "outputs": [
    {
     "name": "stdout",
     "output_type": "stream",
     "text": [
      "Saving Model Predictions\n",
      "Best model: Train: 73.86%, Valid: 71.72% Test: 70.87%\n"
     ]
    }
   ],
   "source": [
    "best_result = test(best_model, data, split_idx, evaluator, save_model_results=True)\n",
    "train_acc, valid_acc, test_acc = best_result\n",
    "print(f'Best model: '\n",
    "     f'Train: {100 * train_acc:.2f}%, '\n",
    "     f'Valid: {100 * valid_acc:.2f}% '\n",
    "     f'Test: {100 * test_acc:.2f}%')"
   ]
  },
  {
   "cell_type": "markdown",
   "metadata": {
    "id": "R8pOD6y80TyI"
   },
   "source": [
    "# 4) GNN: Graph Property Prediction\n",
    "\n",
    "In this section we will create a graph neural network for graph property prediction (graph classification).\n"
   ]
  },
  {
   "cell_type": "markdown",
   "metadata": {
    "id": "vRg5VOEdQTa4"
   },
   "source": [
    "## Load and preprocess the dataset"
   ]
  },
  {
   "cell_type": "code",
   "execution_count": 20,
   "metadata": {
    "id": "LXb-O5QUIgTH"
   },
   "outputs": [
    {
     "name": "stdout",
     "output_type": "stream",
     "text": [
      "Device: 3\n",
      "Task type: binary classification\n"
     ]
    }
   ],
   "source": [
    "from ogb.graphproppred import PygGraphPropPredDataset, Evaluator\n",
    "from torch_geometric.loader import DataLoader\n",
    "from tqdm.std import tqdm\n",
    "import sys\n",
    "\n",
    "\n",
    "# Load the dataset \n",
    "dataset = PygGraphPropPredDataset(name='ogbg-molhiv')\n",
    "\n",
    "print('Device: {}'.format(device))\n",
    "\n",
    "split_idx = dataset.get_idx_split()\n",
    "\n",
    "# Check task type\n",
    "print('Task type: {}'.format(dataset.task_type))"
   ]
  },
  {
   "cell_type": "code",
   "execution_count": 21,
   "metadata": {
    "id": "7cHHbgW1c5hi"
   },
   "outputs": [],
   "source": [
    "# Load the dataset splits into corresponding dataloaders\n",
    "# We will train the graph classification task on a batch of 32 graphs\n",
    "# Shuffle the order of graphs for training set\n",
    "train_loader = DataLoader(dataset[split_idx[\"train\"]], batch_size=32, shuffle=True, num_workers=0)\n",
    "valid_loader = DataLoader(dataset[split_idx[\"valid\"]], batch_size=32, shuffle=False, num_workers=0)\n",
    "test_loader = DataLoader(dataset[split_idx[\"test\"]], batch_size=32, shuffle=False, num_workers=0)"
   ]
  },
  {
   "cell_type": "code",
   "execution_count": 22,
   "metadata": {
    "id": "AYrSnOj0Y4DK"
   },
   "outputs": [
    {
     "data": {
      "text/plain": [
       "{'device': 3,\n",
       " 'num_layers': 5,\n",
       " 'hidden_dim': 256,\n",
       " 'dropout': 0.5,\n",
       " 'lr': 0.001,\n",
       " 'epochs': 30}"
      ]
     },
     "execution_count": 22,
     "metadata": {},
     "output_type": "execute_result"
    }
   ],
   "source": [
    "args = {\n",
    "    'device': device,\n",
    "    'num_layers': 5,\n",
    "    'hidden_dim': 256,\n",
    "    'dropout': 0.5,\n",
    "    'lr': 0.001,\n",
    "    'epochs': 30,\n",
    "}\n",
    "args"
   ]
  },
  {
   "cell_type": "markdown",
   "metadata": {
    "id": "7WLhguSTeazy"
   },
   "source": [
    "## Graph Prediction Model"
   ]
  },
  {
   "cell_type": "markdown",
   "metadata": {
    "id": "u05Z14TRYPGn"
   },
   "source": [
    "### Graph Mini-Batching\n",
    "Before diving into the actual model, we introduce the concept of mini-batching with graphs. In order to parallelize the processing of a mini-batch of graphs, PyG combines the graphs into a single disconnected graph data object (*torch_geometric.data.Batch*). *torch_geometric.data.Batch* inherits from *torch_geometric.data.Data* (introduced earlier) and contains an additional attribute called `batch`. \n",
    "\n",
    "The `batch` attribute is a vector mapping each node to the index of its corresponding graph within the mini-batch:\n",
    "\n",
    "    batch = [0, ..., 0, 1, ..., n - 2, n - 1, ..., n - 1]\n",
    "\n",
    "This attribute is crucial for associating which graph each node belongs to and can be used to e.g. average the node embeddings for each graph individually to compute graph level embeddings. \n",
    "\n"
   ]
  },
  {
   "cell_type": "markdown",
   "metadata": {
    "id": "Pcic9NNU3nGK"
   },
   "source": [
    "### Implemention\n",
    "Now, we have all of the tools to implement a GCN Graph Prediction model!  \n",
    "\n",
    "We will reuse the existing GCN model to generate `node_embeddings` and then use  `Global Pooling` over the nodes to create graph level embeddings that can be used to predict properties for the each graph. Remeber that the `batch` attribute will be essential for performining Global Pooling over our mini-batch of graphs."
   ]
  },
  {
   "cell_type": "code",
   "execution_count": 23,
   "metadata": {
    "id": "3_Kq3zyjeZ22"
   },
   "outputs": [],
   "source": [
    "from ogb.graphproppred.mol_encoder import AtomEncoder\n",
    "from torch_geometric.nn import global_add_pool, global_mean_pool, global_sort_pool, global_max_pool\n",
    "\n",
    "### GCN to predict graph property\n",
    "class GCN_Graph(torch.nn.Module):\n",
    "    def __init__(self, hidden_dim, output_dim, num_layers, dropout, pooling_fn=global_mean_pool):\n",
    "        super(GCN_Graph, self).__init__()\n",
    "\n",
    "        # Load encoders for Atoms in molecule graphs\n",
    "        self.node_encoder = AtomEncoder(hidden_dim)\n",
    "\n",
    "        # Node embedding model\n",
    "        # Note that the input_dim and output_dim are set to hidden_dim\n",
    "        self.gnn_node = GCN(hidden_dim, hidden_dim,\n",
    "            hidden_dim, num_layers, dropout, return_embeds=True)\n",
    "\n",
    "        ## Note:\n",
    "        ## Initialize self.pool as a global mean pooling layer\n",
    "        ## For more information please refer to the documentation:\n",
    "        ## https://pytorch-geometric.readthedocs.io/en/latest/modules/nn.html#global-pooling-layers\n",
    "        self.pool = pooling_fn\n",
    "        \n",
    "        # Output layer\n",
    "        self.linear = torch.nn.Linear(hidden_dim, output_dim)\n",
    "\n",
    "\n",
    "    def reset_parameters(self):\n",
    "        self.gnn_node.reset_parameters()\n",
    "        self.linear.reset_parameters()\n",
    "\n",
    "    def forward(self, batched_data):\n",
    "        # a function that takes as input a \n",
    "        # mini-batch of graphs (torch_geometric.data.Batch) and \n",
    "        # returns the predicted graph property for each graph. \n",
    "        #\n",
    "        # NOTE: Since we are predicting graph level properties,\n",
    "        # your output will be a tensor with dimension equaling\n",
    "        # the number of graphs in the mini-batch\n",
    "\n",
    "        # Extract important attributes of our mini-batch\n",
    "        x, edge_index, batch = batched_data.x, batched_data.edge_index, batched_data.batch\n",
    "        embed = self.node_encoder(x)\n",
    "\n",
    "        ## Note:\n",
    "        ## 1. Construct node embeddings using existing GCN model\n",
    "        ## 2. Use the global pooling layer to aggregate features for each individual graph\n",
    "        ## For more information please refer to the documentation:\n",
    "        ## https://pytorch-geometric.readthedocs.io/en/latest/modules/nn.html#global-pooling-layers\n",
    "        ## 3. Use a linear layer to predict each graph's property\n",
    "        out = self.gnn_node(embed, edge_index)\n",
    "        out = self.pool(out, batch)\n",
    "        out = self.linear(out)\n",
    "\n",
    "        return out"
   ]
  },
  {
   "cell_type": "code",
   "execution_count": 24,
   "metadata": {
    "id": "FJjnGuMSbjX0"
   },
   "outputs": [],
   "source": [
    "def train(model, device, data_loader, optimizer, loss_fn):\n",
    "    \n",
    "    model.train()\n",
    "    total_loss = 0.\n",
    "    total_len = 0\n",
    "\n",
    "    iterator = tqdm(data_loader, desc=\"[Train] Iteration\", leave=False, file=sys.stdout)\n",
    "    for step, batch in enumerate(iterator):\n",
    "\n",
    "        if batch.x.shape[0] == 1 or batch.batch[-1] == 0:\n",
    "            continue\n",
    "        \n",
    "        batch = batch.to(device)\n",
    "        optimizer.zero_grad()\n",
    "\n",
    "        ## ignore nan targets (unlabeled) when computing training loss.\n",
    "        is_labeled = batch.y == batch.y\n",
    "        \n",
    "        ## Use `is_labeled` mask to filter output and labels\n",
    "        ## You may need to change the type of label to torch.float32\n",
    "        loss = loss_fn(model(batch)[is_labeled], batch.y[is_labeled].float())\n",
    "        \n",
    "        loss.backward()\n",
    "        optimizer.step()\n",
    "        \n",
    "        total_loss += loss.item()\n",
    "        total_len += is_labeled.int().sum()\n",
    "        \n",
    "        if step % 10 == 0:\n",
    "            iterator.set_postfix(loss=loss.item())\n",
    "\n",
    "    return total_loss / total_len if total_len else float('nan')"
   ]
  },
  {
   "cell_type": "code",
   "execution_count": 25,
   "metadata": {
    "id": "ztPHXq_Gzn7U"
   },
   "outputs": [],
   "source": [
    "# The evaluation function\n",
    "def evaluate(model, device, loader, evaluator, save_model_results=False, save_file=None):\n",
    "    model.eval()\n",
    "    y_true = []\n",
    "    y_pred = []\n",
    "\n",
    "    iterator = tqdm(loader, desc=\"[Valid] Iteration\", leave=False, file=sys.stdout)\n",
    "    for step, batch in enumerate(iterator):\n",
    "        batch = batch.to(device)\n",
    "\n",
    "        if batch.x.shape[0] == 1:\n",
    "            pass\n",
    "        else:\n",
    "            with torch.no_grad():\n",
    "                pred = model(batch)\n",
    "\n",
    "            y_true.append(batch.y.view(pred.shape).detach().cpu())\n",
    "            y_pred.append(pred.detach().cpu())\n",
    "\n",
    "    y_true = torch.cat(y_true, dim = 0).numpy()\n",
    "    y_pred = torch.cat(y_pred, dim = 0).numpy()\n",
    "\n",
    "    input_dict = {\"y_true\": y_true, \"y_pred\": y_pred}\n",
    "\n",
    "    if save_model_results:\n",
    "        print(\"Saving Model Predictions\")\n",
    "        \n",
    "        # Create a pandas dataframe with a two columns\n",
    "        # y_pred | y_true\n",
    "        data = {}\n",
    "        data['y_pred'] = y_pred.reshape(-1)\n",
    "        data['y_true'] = y_true.reshape(-1)\n",
    "\n",
    "        df = pd.DataFrame(data=data)\n",
    "        # Save to csv\n",
    "        df.to_csv('ogbg-molhiv_graph_' + save_file + '.csv', sep=',', index=False)\n",
    "\n",
    "    return evaluator.eval(input_dict)"
   ]
  },
  {
   "cell_type": "code",
   "execution_count": 26,
   "metadata": {
    "id": "MR1wQ4hMZeMw"
   },
   "outputs": [],
   "source": [
    "model = GCN_Graph(args['hidden_dim'],\n",
    "                  dataset.num_tasks, args['num_layers'],\n",
    "                  args['dropout']).to(device)\n",
    "evaluator = Evaluator(name='ogbg-molhiv')"
   ]
  },
  {
   "cell_type": "code",
   "execution_count": 27,
   "metadata": {
    "id": "qJGTNZiuZy0A",
    "scrolled": false
   },
   "outputs": [
    {
     "name": "stdout",
     "output_type": "stream",
     "text": [
      "Epoch: 01, Loss: 0.0050, Train: 73.26%, Valid: 73.88% Test: 71.04%                  \n",
      "Epoch: 02, Loss: 0.0047, Train: 73.78%, Valid: 62.63% Test: 65.69%                  \n",
      "Epoch: 03, Loss: 0.0045, Train: 76.53%, Valid: 74.26% Test: 70.88%                  \n",
      "Epoch: 04, Loss: 0.0045, Train: 77.38%, Valid: 77.31% Test: 69.52%                 \n",
      "Epoch: 05, Loss: 0.0044, Train: 77.13%, Valid: 76.05% Test: 70.94%                  \n",
      "Epoch: 06, Loss: 0.0043, Train: 78.86%, Valid: 73.19% Test: 73.18%                  \n",
      "Epoch: 07, Loss: 0.0043, Train: 78.34%, Valid: 77.41% Test: 71.10%                 \n",
      "Epoch: 08, Loss: 0.0043, Train: 79.40%, Valid: 80.28% Test: 71.43%                  \n",
      "Epoch: 09, Loss: 0.0042, Train: 79.22%, Valid: 78.58% Test: 71.44%                 \n",
      "Epoch: 10, Loss: 0.0042, Train: 79.27%, Valid: 79.39% Test: 72.52%                  \n",
      "Epoch: 11, Loss: 0.0042, Train: 80.30%, Valid: 79.13% Test: 71.05%                  \n",
      "Epoch: 12, Loss: 0.0042, Train: 80.50%, Valid: 78.20% Test: 73.04%                  \n",
      "Epoch: 13, Loss: 0.0041, Train: 80.36%, Valid: 78.25% Test: 72.51%                  \n",
      "Epoch: 14, Loss: 0.0041, Train: 80.93%, Valid: 77.30% Test: 72.99%                  \n",
      "Epoch: 15, Loss: 0.0041, Train: 80.35%, Valid: 77.20% Test: 71.81%                  \n",
      "Epoch: 16, Loss: 0.0041, Train: 81.05%, Valid: 78.67% Test: 72.41%                 \n",
      "Epoch: 17, Loss: 0.0041, Train: 81.70%, Valid: 79.23% Test: 71.93%                 \n",
      "Epoch: 18, Loss: 0.0040, Train: 81.21%, Valid: 77.40% Test: 73.07%                  \n",
      "Epoch: 19, Loss: 0.0040, Train: 82.09%, Valid: 78.55% Test: 72.90%                  \n",
      "Epoch: 20, Loss: 0.0040, Train: 82.33%, Valid: 77.43% Test: 74.51%                 \n",
      "Epoch: 21, Loss: 0.0040, Train: 81.25%, Valid: 78.00% Test: 73.23%                  \n",
      "Epoch: 22, Loss: 0.0039, Train: 82.40%, Valid: 80.19% Test: 72.56%                 \n",
      "Epoch: 23, Loss: 0.0039, Train: 82.55%, Valid: 77.95% Test: 74.36%                  \n",
      "Epoch: 24, Loss: 0.0040, Train: 83.24%, Valid: 79.03% Test: 74.05%                  \n",
      "Epoch: 25, Loss: 0.0039, Train: 82.46%, Valid: 79.82% Test: 74.84%                 \n",
      "Epoch: 26, Loss: 0.0039, Train: 83.26%, Valid: 76.73% Test: 75.89%                  \n",
      "Epoch: 27, Loss: 0.0039, Train: 83.54%, Valid: 78.96% Test: 76.32%                  \n",
      "Epoch: 28, Loss: 0.0039, Train: 83.43%, Valid: 79.38% Test: 73.63%                  \n",
      "Epoch: 29, Loss: 0.0039, Train: 83.30%, Valid: 79.21% Test: 74.29%                 \n",
      "Epoch: 30, Loss: 0.0039, Train: 83.76%, Valid: 78.31% Test: 75.55%                  \n"
     ]
    }
   ],
   "source": [
    "import copy\n",
    "\n",
    "model.reset_parameters()\n",
    "\n",
    "optimizer = torch.optim.Adam(model.parameters(), lr=args['lr'])\n",
    "loss_fn = torch.nn.BCEWithLogitsLoss()\n",
    "\n",
    "best_model = None\n",
    "best_valid_acc = 0\n",
    "\n",
    "for epoch in range(1, 1 + args[\"epochs\"]):\n",
    "    # Train\n",
    "    loss = train(model, device, train_loader, optimizer, loss_fn)\n",
    "    # Eval\n",
    "    train_result = evaluate(model, device, train_loader, evaluator)\n",
    "    val_result = evaluate(model, device, valid_loader, evaluator)\n",
    "    test_result = evaluate(model, device, test_loader, evaluator)\n",
    "\n",
    "    train_acc, valid_acc, test_acc = train_result[dataset.eval_metric], val_result[dataset.eval_metric], test_result[dataset.eval_metric]\n",
    "    if valid_acc > best_valid_acc:\n",
    "        best_valid_acc = valid_acc\n",
    "        best_model = copy.deepcopy(model)\n",
    "    print(f'Epoch: {epoch:02d}, '\n",
    "          f'Loss: {loss:.4f}, '\n",
    "          f'Train: {100 * train_acc:.2f}%, '\n",
    "          f'Valid: {100 * valid_acc:.2f}% '\n",
    "          f'Test: {100 * test_acc:.2f}%')"
   ]
  },
  {
   "cell_type": "markdown",
   "metadata": {
    "id": "6I17-Qso_n88"
   },
   "source": [
    "## Question 6: What are your `best_model` validation and test ROC-AUC scores? (20 points)\n",
    "\n",
    "Run the cell below to see the results of your best of model and save your model's predictions over the validation and test datasets. The resulting files are named *ogbn-arxiv_graph_valid.csv* and *ogbn-arxiv_graph_test.csv*. \n",
    "\n",
    "Again, you can view these files by clicking on the *Folder* icon on the left side pannel. As in Colab 1, when you sumbit your assignment, you will have to download these files and attatch them to your submission."
   ]
  },
  {
   "cell_type": "code",
   "execution_count": 28,
   "metadata": {
    "id": "Oq5QaG21dOOO"
   },
   "outputs": [
    {
     "name": "stdout",
     "output_type": "stream",
     "text": [
      "Saving Model Predictions                                               \n",
      "Saving Model Predictions                                             \n",
      "Best model: Train: 79.40%, Valid: 80.28% Test: 71.43%\n"
     ]
    }
   ],
   "source": [
    "train_acc = evaluate(best_model, device, train_loader, evaluator)[dataset.eval_metric]\n",
    "valid_acc = evaluate(best_model, device, valid_loader, evaluator, save_model_results=True, save_file=\"valid\")[dataset.eval_metric]\n",
    "test_acc  = evaluate(best_model, device, test_loader, evaluator, save_model_results=True, save_file=\"test\")[dataset.eval_metric]\n",
    "\n",
    "print(f'Best model: '\n",
    "      f'Train: {100 * train_acc:.2f}%, '\n",
    "      f'Valid: {100 * valid_acc:.2f}% '\n",
    "      f'Test: {100 * test_acc:.2f}%')"
   ]
  },
  {
   "cell_type": "markdown",
   "metadata": {
    "id": "gBi_t8n0iZ4P"
   },
   "source": [
    "## Question 7 (Optional): Experiment with the two other global pooling layers in Pytorch Geometric."
   ]
  },
  {
   "cell_type": "code",
   "execution_count": 29,
   "metadata": {},
   "outputs": [],
   "source": [
    "def experiment(pooling_fn, train_loader=train_loader, valid_loader=valid_loader, \n",
    "               test_loader=test_loader, device=device, args=args):\n",
    "    print(\"Experiment of pooling: {}\".format(pooling_fn.__name__))\n",
    "    model = GCN_Graph(args['hidden_dim'],\n",
    "                      dataset.num_tasks, args['num_layers'],\n",
    "                      args['dropout']).to(device)\n",
    "    evaluator = Evaluator(name='ogbg-molhiv')\n",
    "    model.reset_parameters()\n",
    "\n",
    "    optimizer = torch.optim.Adam(model.parameters(), lr=args['lr'])\n",
    "    loss_fn = torch.nn.BCEWithLogitsLoss()\n",
    "\n",
    "    best_model = None\n",
    "    best_valid_acc = 0\n",
    "\n",
    "    for epoch in range(1, 1 + args[\"epochs\"]):\n",
    "        # Train\n",
    "        loss = train(model, device, train_loader, optimizer, loss_fn)\n",
    "        # Eval\n",
    "        train_result = evaluate(model, device, train_loader, evaluator)\n",
    "        val_result = evaluate(model, device, valid_loader, evaluator)\n",
    "        test_result = evaluate(model, device, test_loader, evaluator)\n",
    "\n",
    "        train_acc, valid_acc, test_acc = train_result[dataset.eval_metric], val_result[dataset.eval_metric], test_result[dataset.eval_metric]\n",
    "        if valid_acc > best_valid_acc:\n",
    "            best_valid_acc = valid_acc\n",
    "            best_model = copy.deepcopy(model)\n",
    "        print(f'Epoch: {epoch:02d}, '\n",
    "              f'Loss: {loss:.4f}, '\n",
    "              f'Train: {100 * train_acc:.2f}%, '\n",
    "              f'Valid: {100 * valid_acc:.2f}% '\n",
    "              f'Test: {100 * test_acc:.2f}%')\n",
    "\n",
    "    train_acc = evaluate(best_model, device, train_loader, evaluator)[dataset.eval_metric]\n",
    "    valid_acc = evaluate(best_model, device, valid_loader, evaluator)[dataset.eval_metric]\n",
    "    test_acc  = evaluate(best_model, device, test_loader, evaluator)[dataset.eval_metric]\n",
    "\n",
    "    print(f'Best model: '\n",
    "          f'Train: {100 * train_acc:.2f}%, '\n",
    "          f'Valid: {100 * valid_acc:.2f}% '\n",
    "          f'Test: {100 * test_acc:.2f}%')"
   ]
  },
  {
   "cell_type": "markdown",
   "metadata": {},
   "source": [
    "### Global Add Pooling"
   ]
  },
  {
   "cell_type": "code",
   "execution_count": 30,
   "metadata": {},
   "outputs": [
    {
     "name": "stdout",
     "output_type": "stream",
     "text": [
      "Experiment of pooling: global_add_pool\n",
      "Epoch: 01, Loss: 0.0050, Train: 71.11%, Valid: 62.38% Test: 65.59%                  \n",
      "Epoch: 02, Loss: 0.0047, Train: 74.28%, Valid: 67.83% Test: 66.07%                  \n",
      "Epoch: 03, Loss: 0.0046, Train: 75.84%, Valid: 73.18% Test: 68.86%                  \n",
      "Epoch: 04, Loss: 0.0045, Train: 77.48%, Valid: 73.12% Test: 71.85%                  \n",
      "Epoch: 05, Loss: 0.0044, Train: 76.71%, Valid: 75.98% Test: 73.80%                  \n",
      "Epoch: 06, Loss: 0.0044, Train: 76.87%, Valid: 76.83% Test: 73.08%                  \n",
      "Epoch: 07, Loss: 0.0043, Train: 77.26%, Valid: 75.58% Test: 69.27%                  \n",
      "Epoch: 08, Loss: 0.0043, Train: 78.52%, Valid: 72.75% Test: 72.43%                  \n",
      "Epoch: 09, Loss: 0.0043, Train: 79.54%, Valid: 76.03% Test: 73.30%                 \n",
      "Epoch: 10, Loss: 0.0042, Train: 80.26%, Valid: 76.89% Test: 73.92%                  \n",
      "Epoch: 11, Loss: 0.0042, Train: 78.70%, Valid: 71.67% Test: 72.82%                 \n",
      "Epoch: 12, Loss: 0.0042, Train: 80.20%, Valid: 75.42% Test: 72.15%                  \n",
      "Epoch: 13, Loss: 0.0042, Train: 80.19%, Valid: 75.29% Test: 72.27%                  \n",
      "Epoch: 14, Loss: 0.0041, Train: 81.33%, Valid: 75.36% Test: 71.55%                  \n",
      "Epoch: 15, Loss: 0.0041, Train: 80.77%, Valid: 74.66% Test: 68.99%                 \n",
      "Epoch: 16, Loss: 0.0041, Train: 81.26%, Valid: 76.81% Test: 71.80%                  \n",
      "Epoch: 17, Loss: 0.0041, Train: 81.32%, Valid: 76.31% Test: 72.70%                 \n",
      "Epoch: 18, Loss: 0.0041, Train: 81.08%, Valid: 80.85% Test: 72.92%                  \n",
      "Epoch: 19, Loss: 0.0040, Train: 82.05%, Valid: 74.43% Test: 73.65%                 \n",
      "Epoch: 20, Loss: 0.0040, Train: 82.51%, Valid: 77.14% Test: 74.90%                  \n",
      "Epoch: 21, Loss: 0.0040, Train: 82.21%, Valid: 78.68% Test: 73.48%                 \n",
      "Epoch: 22, Loss: 0.0040, Train: 82.14%, Valid: 79.79% Test: 73.63%                  \n",
      "Epoch: 23, Loss: 0.0039, Train: 83.06%, Valid: 77.06% Test: 73.29%                  \n",
      "Epoch: 24, Loss: 0.0039, Train: 83.28%, Valid: 75.10% Test: 73.29%                  \n",
      "Epoch: 25, Loss: 0.0039, Train: 82.98%, Valid: 77.57% Test: 74.26%                  \n",
      "Epoch: 26, Loss: 0.0039, Train: 83.48%, Valid: 75.55% Test: 73.65%                  \n",
      "Epoch: 27, Loss: 0.0039, Train: 83.56%, Valid: 79.74% Test: 72.42%                  \n",
      "Epoch: 28, Loss: 0.0039, Train: 83.36%, Valid: 78.04% Test: 74.33%                  \n",
      "Epoch: 29, Loss: 0.0039, Train: 83.92%, Valid: 78.74% Test: 73.62%                  \n",
      "Epoch: 30, Loss: 0.0039, Train: 84.04%, Valid: 78.31% Test: 75.07%                  \n",
      "Best model: Train: 81.08%, Valid: 80.85% Test: 72.92%                  \n"
     ]
    }
   ],
   "source": [
    "experiment(global_add_pool)"
   ]
  },
  {
   "cell_type": "markdown",
   "metadata": {},
   "source": [
    "### Global Sort Pooling"
   ]
  },
  {
   "cell_type": "code",
   "execution_count": 31,
   "metadata": {},
   "outputs": [
    {
     "name": "stdout",
     "output_type": "stream",
     "text": [
      "Experiment of pooling: global_sort_pool\n",
      "Epoch: 01, Loss: 0.0049, Train: 73.06%, Valid: 73.82% Test: 73.86%                  \n",
      "Epoch: 02, Loss: 0.0046, Train: 75.08%, Valid: 66.29% Test: 67.07%                  \n",
      "Epoch: 03, Loss: 0.0045, Train: 76.39%, Valid: 73.48% Test: 67.65%                  \n",
      "Epoch: 04, Loss: 0.0045, Train: 74.58%, Valid: 75.61% Test: 65.78%                  \n",
      "Epoch: 05, Loss: 0.0044, Train: 78.13%, Valid: 74.64% Test: 72.97%                  \n",
      "Epoch: 06, Loss: 0.0044, Train: 78.10%, Valid: 72.82% Test: 71.68%                 \n",
      "Epoch: 07, Loss: 0.0043, Train: 77.91%, Valid: 76.17% Test: 71.13%                 \n",
      "Epoch: 08, Loss: 0.0043, Train: 78.59%, Valid: 78.22% Test: 72.26%                  \n",
      "Epoch: 09, Loss: 0.0043, Train: 78.87%, Valid: 73.57% Test: 73.29%                  \n",
      "Epoch: 10, Loss: 0.0043, Train: 79.93%, Valid: 74.49% Test: 69.72%                 \n",
      "Epoch: 11, Loss: 0.0042, Train: 79.65%, Valid: 77.73% Test: 72.77%                  \n",
      "Epoch: 12, Loss: 0.0042, Train: 79.73%, Valid: 76.84% Test: 73.65%                 \n",
      "Epoch: 13, Loss: 0.0042, Train: 78.64%, Valid: 75.80% Test: 73.74%                  \n",
      "Epoch: 14, Loss: 0.0041, Train: 79.66%, Valid: 77.53% Test: 71.12%                  \n",
      "Epoch: 15, Loss: 0.0041, Train: 81.65%, Valid: 75.58% Test: 71.75%                  \n",
      "Epoch: 16, Loss: 0.0041, Train: 80.99%, Valid: 78.80% Test: 73.28%                 \n",
      "Epoch: 17, Loss: 0.0041, Train: 81.60%, Valid: 78.58% Test: 72.44%                  \n",
      "Epoch: 18, Loss: 0.0041, Train: 82.15%, Valid: 71.99% Test: 73.41%                  \n",
      "Epoch: 19, Loss: 0.0040, Train: 82.67%, Valid: 77.65% Test: 73.92%                  \n",
      "Epoch: 20, Loss: 0.0040, Train: 82.69%, Valid: 74.08% Test: 72.54%                  \n",
      "Epoch: 21, Loss: 0.0040, Train: 81.93%, Valid: 79.17% Test: 72.87%                 \n",
      "Epoch: 22, Loss: 0.0040, Train: 83.15%, Valid: 73.62% Test: 72.80%                  \n",
      "Epoch: 23, Loss: 0.0040, Train: 82.78%, Valid: 78.23% Test: 73.10%                  \n",
      "Epoch: 24, Loss: 0.0040, Train: 82.65%, Valid: 77.38% Test: 72.58%                  \n",
      "Epoch: 25, Loss: 0.0039, Train: 83.60%, Valid: 79.19% Test: 73.69%                 \n",
      "Epoch: 26, Loss: 0.0039, Train: 83.59%, Valid: 78.13% Test: 75.09%                  \n",
      "Epoch: 27, Loss: 0.0039, Train: 82.88%, Valid: 76.09% Test: 73.84%                  \n",
      "Epoch: 28, Loss: 0.0039, Train: 84.21%, Valid: 76.39% Test: 72.07%                 \n",
      "Epoch: 29, Loss: 0.0039, Train: 83.89%, Valid: 78.51% Test: 72.43%                  \n",
      "Epoch: 30, Loss: 0.0039, Train: 84.64%, Valid: 79.16% Test: 74.06%                 \n",
      "Best model: Train: 83.60%, Valid: 79.19% Test: 73.69%                  \n"
     ]
    }
   ],
   "source": [
    "experiment(global_sort_pool)"
   ]
  },
  {
   "cell_type": "markdown",
   "metadata": {},
   "source": [
    "### Global Max Pooling"
   ]
  },
  {
   "cell_type": "code",
   "execution_count": 32,
   "metadata": {},
   "outputs": [
    {
     "name": "stdout",
     "output_type": "stream",
     "text": [
      "Experiment of pooling: global_max_pool\n",
      "Epoch: 01, Loss: 0.0050, Train: 65.89%, Valid: 69.80% Test: 70.77%                  \n",
      "Epoch: 02, Loss: 0.0047, Train: 74.81%, Valid: 75.08% Test: 68.67%                  \n",
      "Epoch: 03, Loss: 0.0046, Train: 74.76%, Valid: 77.25% Test: 72.37%                  \n",
      "Epoch: 04, Loss: 0.0045, Train: 73.91%, Valid: 76.00% Test: 71.42%                  \n",
      "Epoch: 05, Loss: 0.0044, Train: 77.24%, Valid: 71.86% Test: 70.04%                  \n",
      "Epoch: 06, Loss: 0.0044, Train: 75.93%, Valid: 76.06% Test: 71.87%                  \n",
      "Epoch: 07, Loss: 0.0043, Train: 78.01%, Valid: 75.22% Test: 71.81%                  \n",
      "Epoch: 08, Loss: 0.0043, Train: 77.66%, Valid: 73.70% Test: 69.48%                 \n",
      "Epoch: 09, Loss: 0.0042, Train: 79.32%, Valid: 76.11% Test: 72.56%                  \n",
      "Epoch: 10, Loss: 0.0042, Train: 79.53%, Valid: 77.84% Test: 72.05%                  \n",
      "Epoch: 11, Loss: 0.0042, Train: 79.49%, Valid: 78.58% Test: 71.54%                  \n",
      "Epoch: 12, Loss: 0.0042, Train: 78.52%, Valid: 79.71% Test: 72.55%                  \n",
      "Epoch: 13, Loss: 0.0042, Train: 79.54%, Valid: 76.98% Test: 73.27%                  \n",
      "Epoch: 14, Loss: 0.0041, Train: 80.10%, Valid: 74.31% Test: 71.63%                  \n",
      "Epoch: 15, Loss: 0.0041, Train: 80.33%, Valid: 75.15% Test: 71.38%                  \n",
      "Epoch: 16, Loss: 0.0041, Train: 81.50%, Valid: 78.24% Test: 73.77%                  \n",
      "Epoch: 17, Loss: 0.0041, Train: 80.96%, Valid: 78.15% Test: 73.28%                  \n",
      "Epoch: 18, Loss: 0.0041, Train: 81.44%, Valid: 77.07% Test: 75.05%                  \n",
      "Epoch: 19, Loss: 0.0040, Train: 81.60%, Valid: 77.23% Test: 72.92%                  \n",
      "Epoch: 20, Loss: 0.0041, Train: 82.03%, Valid: 77.29% Test: 72.52%                 \n",
      "Epoch: 21, Loss: 0.0040, Train: 81.56%, Valid: 73.48% Test: 72.63%                  \n",
      "Epoch: 22, Loss: 0.0040, Train: 81.93%, Valid: 75.96% Test: 72.69%                  \n",
      "Epoch: 23, Loss: 0.0040, Train: 82.20%, Valid: 78.51% Test: 74.08%                  \n",
      "Epoch: 24, Loss: 0.0039, Train: 81.69%, Valid: 77.22% Test: 75.25%                  \n",
      "Epoch: 25, Loss: 0.0039, Train: 82.86%, Valid: 79.44% Test: 73.97%                  \n",
      "Epoch: 26, Loss: 0.0039, Train: 82.74%, Valid: 75.99% Test: 73.02%                  \n",
      "Epoch: 27, Loss: 0.0040, Train: 83.15%, Valid: 79.12% Test: 74.65%                  \n",
      "Epoch: 28, Loss: 0.0039, Train: 83.42%, Valid: 78.29% Test: 74.40%                  \n",
      "Epoch: 29, Loss: 0.0039, Train: 83.54%, Valid: 75.75% Test: 72.36%                  \n",
      "Epoch: 30, Loss: 0.0039, Train: 83.69%, Valid: 79.25% Test: 76.28%                  \n",
      "Best model: Train: 78.52%, Valid: 79.71% Test: 72.55%                  \n"
     ]
    }
   ],
   "source": [
    "experiment(global_max_pool)"
   ]
  }
 ],
 "metadata": {
  "accelerator": "GPU",
  "colab": {
   "collapsed_sections": [],
   "machine_shape": "hm",
   "name": "CS224W_Colab2",
   "provenance": []
  },
  "kernelspec": {
   "display_name": "pytorch-custom",
   "language": "python",
   "name": "pytorch-custom"
  },
  "language_info": {
   "codemirror_mode": {
    "name": "ipython",
    "version": 3
   },
   "file_extension": ".py",
   "mimetype": "text/x-python",
   "name": "python",
   "nbconvert_exporter": "python",
   "pygments_lexer": "ipython3",
   "version": "3.8.12"
  }
 },
 "nbformat": 4,
 "nbformat_minor": 1
}
