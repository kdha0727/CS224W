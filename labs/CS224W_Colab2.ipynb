{
 "cells": [
  {
   "cell_type": "markdown",
   "metadata": {
    "id": "XuXWJLEm2UWS"
   },
   "source": [
    "# **CS224W - Colab 2**"
   ]
  },
  {
   "cell_type": "markdown",
   "metadata": {
    "id": "8gzsP50bF6Gb"
   },
   "source": [
    "In Colab 2, we will work to construct our own graph neural network using PyTorch Geometric (PyG) and then apply that model on two Open Graph Benchmark (OGB) datasets. These two datasets will be used to benchmark your model's performance on two different graph-based tasks: 1) node property prediction, predicting properties of single nodes and 2) graph property prediction, predicting properties of entire graphs or subgraphs.\n",
    "\n",
    "First, we will learn how PyTorch Geometric stores graphs as PyTorch tensors.\n",
    "\n",
    "Then, we will load and inspect one of the Open Graph Benchmark (OGB) datasets by using the `ogb` package. OGB is a collection of realistic, large-scale, and diverse benchmark datasets for machine learning on graphs. The `ogb` package not only provides data loaders for each dataset but also model evaluators.\n",
    "\n",
    "Lastly, we will build our own graph neural network using PyTorch Geometric. We will then train and evaluate our model on the OGB node property prediction and graph property prediction tasks."
   ]
  },
  {
   "cell_type": "markdown",
   "metadata": {
    "id": "ZGKqVEbbMEzf"
   },
   "source": [
    "# Device"
   ]
  },
  {
   "cell_type": "code",
   "execution_count": 1,
   "metadata": {
    "id": "2vkP8pA1qBE5"
   },
   "outputs": [
    {
     "name": "stdout",
     "output_type": "stream",
     "text": [
      "PyTorch has version 1.10.2\n",
      "==============================\n",
      "GPU 0: NVIDIA RTX A6000\n",
      "GPU 1: NVIDIA RTX A6000\n",
      "GPU 2: NVIDIA RTX A6000\n",
      "GPU 3: NVIDIA RTX A6000\n",
      "Device: 3\n"
     ]
    }
   ],
   "source": [
    "import torch\n",
    "\n",
    "print(\"PyTorch has version {}\".format(torch.__version__))\n",
    "print(\"==============================\")\n",
    "for i in range(torch.cuda.device_count()):\n",
    "    print(f\"GPU {i}: {torch.cuda.get_device_name(i)}\")\n",
    "\n",
    "device = 3\n",
    "\n",
    "print('Device: {}'.format(device))"
   ]
  },
  {
   "cell_type": "code",
   "execution_count": 2,
   "metadata": {},
   "outputs": [
    {
     "name": "stdout",
     "output_type": "stream",
     "text": [
      "Tue Feb 22 22:58:25 2022       \n",
      "+-----------------------------------------------------------------------------+\n",
      "| NVIDIA-SMI 510.47.03    Driver Version: 510.47.03    CUDA Version: 11.6     |\n",
      "|-------------------------------+----------------------+----------------------+\n",
      "| GPU  Name        Persistence-M| Bus-Id        Disp.A | Volatile Uncorr. ECC |\n",
      "| Fan  Temp  Perf  Pwr:Usage/Cap|         Memory-Usage | GPU-Util  Compute M. |\n",
      "|                               |                      |               MIG M. |\n",
      "|===============================+======================+======================|\n",
      "|   0  NVIDIA RTX A6000    On   | 00000000:01:00.0 Off |                  Off |\n",
      "| 30%   42C    P8    15W / 300W |      8MiB / 49140MiB |      0%      Default |\n",
      "|                               |                      |                  N/A |\n",
      "+-------------------------------+----------------------+----------------------+\n",
      "|   1  NVIDIA RTX A6000    On   | 00000000:2E:00.0 Off |                  Off |\n",
      "| 30%   51C    P8     8W / 300W |      8MiB / 49140MiB |      0%      Default |\n",
      "|                               |                      |                  N/A |\n",
      "+-------------------------------+----------------------+----------------------+\n",
      "|   2  NVIDIA RTX A6000    On   | 00000000:41:00.0 Off |                  Off |\n",
      "| 30%   49C    P8    18W / 300W |      8MiB / 49140MiB |      0%      Default |\n",
      "|                               |                      |                  N/A |\n",
      "+-------------------------------+----------------------+----------------------+\n",
      "|   3  NVIDIA RTX A6000    On   | 00000000:61:00.0 Off |                  Off |\n",
      "| 30%   47C    P8     7W / 300W |      8MiB / 49140MiB |      0%      Default |\n",
      "|                               |                      |                  N/A |\n",
      "+-------------------------------+----------------------+----------------------+\n",
      "                                                                               \n",
      "+-----------------------------------------------------------------------------+\n",
      "| Processes:                                                                  |\n",
      "|  GPU   GI   CI        PID   Type   Process name                  GPU Memory |\n",
      "|        ID   ID                                                   Usage      |\n",
      "|=============================================================================|\n",
      "|    0   N/A  N/A      1830      G   /usr/lib/xorg/Xorg                  4MiB |\n",
      "|    1   N/A  N/A      1830      G   /usr/lib/xorg/Xorg                  4MiB |\n",
      "|    2   N/A  N/A      1830      G   /usr/lib/xorg/Xorg                  4MiB |\n",
      "|    3   N/A  N/A      1830      G   /usr/lib/xorg/Xorg                  4MiB |\n",
      "+-----------------------------------------------------------------------------+\n"
     ]
    }
   ],
   "source": [
    "!nvidia-smi"
   ]
  },
  {
   "cell_type": "markdown",
   "metadata": {
    "id": "Nwwq0nSdmsOL"
   },
   "source": [
    "# 1) PyTorch Geometric (Datasets and Data)\n"
   ]
  },
  {
   "cell_type": "markdown",
   "metadata": {
    "id": "Sf7vUmdNKCjA"
   },
   "source": [
    "PyTorch Geometric has two classes for storing and/or transforming graphs into tensor format. One is `torch_geometric.datasets`, which contains a variety of common graph datasets. Another is `torch_geometric.data`, which provides the data handling of graphs in PyTorch tensors.\n",
    "\n",
    "In this section, we will learn how to use `torch_geometric.datasets` and `torch_geometric.data` together."
   ]
  },
  {
   "cell_type": "markdown",
   "metadata": {
    "id": "ic-o1P3r6hr2"
   },
   "source": [
    "## PyG Datasets\n",
    "\n",
    "The `torch_geometric.datasets` class has many common graph datasets. Here we will explore its usage through one example dataset."
   ]
  },
  {
   "cell_type": "code",
   "execution_count": 3,
   "metadata": {
    "id": "zT5qca3x6XpG"
   },
   "outputs": [
    {
     "name": "stdout",
     "output_type": "stream",
     "text": [
      "The ENZYMES(600) dataset has 600 graphs\n"
     ]
    }
   ],
   "source": [
    "from torch_geometric.datasets import TUDataset\n",
    "\n",
    "\n",
    "root = './dataset/enzymes'\n",
    "name = 'ENZYMES'\n",
    "\n",
    "# The ENZYMES dataset\n",
    "pyg_dataset= TUDataset(root, name)\n",
    "\n",
    "# You will find that there are 600 graphs in this dataset\n",
    "print(f\"The {pyg_dataset} dataset has {len(pyg_dataset)} graphs\")"
   ]
  },
  {
   "cell_type": "code",
   "execution_count": 4,
   "metadata": {},
   "outputs": [
    {
     "data": {
      "image/png": "[encoded data removed]",
      "text/plain": [
       "<Figure size 432x288 with 1 Axes>"
      ]
     },
     "metadata": {},
     "output_type": "display_data"
    }
   ],
   "source": [
    "import networkx as nx\n",
    "from torch_geometric.utils import to_networkx\n",
    "\n",
    "nx.draw(to_networkx(pyg_dataset[599]))"
   ]
  },
  {
   "cell_type": "markdown",
   "metadata": {
    "id": "NLm5vVYMAP2x"
   },
   "source": [
    "## Question 1: What is the number of classes and number of features in the ENZYMES dataset? (5 points)"
   ]
  },
  {
   "cell_type": "code",
   "execution_count": 5,
   "metadata": {
    "id": "8iF_Kyqr_JbY"
   },
   "outputs": [
    {
     "name": "stdout",
     "output_type": "stream",
     "text": [
      "ENZYMES dataset has 6 classes\n",
      "ENZYMES dataset has 3 features\n"
     ]
    }
   ],
   "source": [
    "def get_num_classes(pyg_dataset):\n",
    "    return pyg_dataset.num_classes\n",
    "\n",
    "def get_num_features(pyg_dataset):\n",
    "    return pyg_dataset.num_features\n",
    "\n",
    "\n",
    "num_classes = get_num_classes(pyg_dataset)\n",
    "num_features = get_num_features(pyg_dataset)\n",
    "print(\"{} dataset has {} classes\".format(name, num_classes))\n",
    "print(\"{} dataset has {} features\".format(name, num_features))"
   ]
  },
  {
   "cell_type": "markdown",
   "metadata": {
    "id": "rwKbzhHUAckZ"
   },
   "source": [
    "## PyG Data\n",
    "\n",
    "Each PyG dataset stores a list of `torch_geometric.data.Data` objects, where each `torch_geometric.data.Data` object represents a graph. We can easily get the `Data` object by indexing into the dataset.\n",
    "\n",
    "For more information such as what is stored in the `Data` object, please refer to the [documentation](https://pytorch-geometric.readthedocs.io/en/latest/modules/data.html#torch_geometric.data.Data)."
   ]
  },
  {
   "cell_type": "markdown",
   "metadata": {
    "id": "7sCV3xJWCddX"
   },
   "source": [
    "## Question 2: What is the label of the graph with index 100 in the ENZYMES dataset? (5 points)"
   ]
  },
  {
   "cell_type": "code",
   "execution_count": 6,
   "metadata": {},
   "outputs": [
    {
     "data": {
      "text/plain": [
       "Data(x=[19580, 3], edge_index=[2, 74564], y=[600])"
      ]
     },
     "execution_count": 6,
     "metadata": {},
     "output_type": "execute_result"
    }
   ],
   "source": [
    "pyg_dataset.data"
   ]
  },
  {
   "cell_type": "code",
   "execution_count": 7,
   "metadata": {
    "id": "LIis9oTZAfs3"
   },
   "outputs": [
    {
     "name": "stdout",
     "output_type": "stream",
     "text": [
      "Data(edge_index=[2, 176], x=[45, 3], y=[1])\n",
      "Graph with index 100 has label tensor([4])\n"
     ]
    }
   ],
   "source": [
    "def get_graph_class(pyg_dataset, idx):\n",
    "    # a function that takes a PyG dataset object,\n",
    "    # an index of a graph within the dataset, and returns the class/label \n",
    "    # of the graph (as an integer).\n",
    "    return pyg_dataset[idx].y\n",
    "\n",
    "\n",
    "# Here pyg_dataset is a dataset for graph classification\n",
    "idx = 100\n",
    "label = get_graph_class(pyg_dataset, idx)\n",
    "print(pyg_dataset[idx])\n",
    "print('Graph with index {} has label {}'.format(idx, label))"
   ]
  },
  {
   "cell_type": "markdown",
   "metadata": {
    "id": "fKhcVeAhCwoY"
   },
   "source": [
    "## Question 3: How many edges does the graph with index 200 have? (5 points)"
   ]
  },
  {
   "cell_type": "code",
   "execution_count": 8,
   "metadata": {
    "id": "f5m2DOfhBtWv"
   },
   "outputs": [
    {
     "name": "stdout",
     "output_type": "stream",
     "text": [
      "Graph with index 200 has 53 edges\n"
     ]
    }
   ],
   "source": [
    "def get_graph_num_edges(pyg_dataset, idx):\n",
    "    # a function that takes a PyG dataset object,\n",
    "    # the index of a graph in the dataset, and returns the number of \n",
    "    # edges in the graph (as an integer). You should not count an edge \n",
    "    # twice if the graph is undirected. For example, in an undirected \n",
    "    # graph G, if two nodes v and u are connected by an edge, this edge\n",
    "    # should only be counted once.\n",
    "    \n",
    "    ## Note:\n",
    "    ## 1. You can't return the data.num_edges directly\n",
    "    ## 2. We assume the graph is undirected\n",
    "    ## 3. Look at the PyG dataset built in functions\n",
    "\n",
    "    return pyg_dataset[idx].num_edges // 2\n",
    "\n",
    "\n",
    "idx = 200\n",
    "num_edges = get_graph_num_edges(pyg_dataset, idx)\n",
    "print('Graph with index {} has {} edges'.format(idx, num_edges))"
   ]
  },
  {
   "cell_type": "markdown",
   "metadata": {
    "id": "AXa7yIG4E0Fp"
   },
   "source": [
    "# 2) Open Graph Benchmark (OGB)\n",
    "\n",
    "The Open Graph Benchmark (OGB) is a collection of realistic, large-scale, and diverse benchmark datasets for machine learning on graphs. Its datasets are automatically downloaded, processed, and split using the OGB Data Loader. The model performance can then be evaluated by using the OGB Evaluator in a unified manner."
   ]
  },
  {
   "cell_type": "markdown",
   "metadata": {
    "id": "HnazPGGAJAZN"
   },
   "source": [
    "## Dataset and Data\n",
    "\n",
    "OGB also supports PyG dataset and data classes. Here we take a look on the `ogbn-arxiv` dataset."
   ]
  },
  {
   "cell_type": "code",
   "execution_count": 9,
   "metadata": {
    "id": "Gpc6bTm3GF02"
   },
   "outputs": [
    {
     "name": "stdout",
     "output_type": "stream",
     "text": [
      "The ogbn-arxiv dataset has 1 graph\n",
      "Data(x=[169343, 128], node_year=[169343, 1], y=[169343, 1], adj_t=[169343, 169343, nnz=1166243])\n"
     ]
    }
   ],
   "source": [
    "import torch_geometric.transforms as T\n",
    "from ogb.nodeproppred import PygNodePropPredDataset\n",
    "\n",
    "dataset_name = 'ogbn-arxiv'\n",
    "# Load the dataset and transform it to sparse tensor\n",
    "dataset = PygNodePropPredDataset(name=dataset_name,\n",
    "                              transform=T.ToSparseTensor())\n",
    "print('The {} dataset has {} graph'.format(dataset_name, len(dataset)))\n",
    "\n",
    "# Extract the graph\n",
    "data = dataset[0]\n",
    "print(data)"
   ]
  },
  {
   "cell_type": "markdown",
   "metadata": {
    "id": "Cw0xZJKZI-n3"
   },
   "source": [
    "## Question 4: How many features are in the ogbn-arxiv graph? (5 points)"
   ]
  },
  {
   "cell_type": "code",
   "execution_count": 10,
   "metadata": {
    "id": "ZP844_nT2ZJl"
   },
   "outputs": [
    {
     "name": "stdout",
     "output_type": "stream",
     "text": [
      "The graph has 128 features\n"
     ]
    }
   ],
   "source": [
    "def graph_num_features(data):\n",
    "    # TODO: Implement a function that takes a PyG data object,\n",
    "    # and returns the number of features in the graph (as an integer).\n",
    "    return data.num_features\n",
    "\n",
    "\n",
    "num_features = graph_num_features(data)\n",
    "print('The graph has {} features'.format(num_features))"
   ]
  },
  {
   "cell_type": "markdown",
   "metadata": {
    "id": "9DP_yEQZ0NVW"
   },
   "source": [
    "# 3) GNN: Node Property Prediction\n",
    "\n",
    "In this section we will build our first graph neural network using PyTorch Geometric. Then we will apply it to the task of node property prediction (node classification).\n",
    "\n",
    "Specifically, we will use GCN as the foundation for your graph neural network ([Kipf et al. (2017)](https://arxiv.org/pdf/1609.02907.pdf)). To do so, we will work with PyG's built-in `GCNConv` layer. "
   ]
  },
  {
   "cell_type": "markdown",
   "metadata": {
    "id": "O4CcOUEoInjD"
   },
   "source": [
    "## Setup"
   ]
  },
  {
   "cell_type": "code",
   "execution_count": 11,
   "metadata": {
    "id": "-DCtgcHpGIpd"
   },
   "outputs": [],
   "source": [
    "import torch\n",
    "import torch.nn as nn\n",
    "import pandas as pd\n",
    "import torch.nn.functional as F\n",
    "\n",
    "# The PyG built-in GCNConv\n",
    "from torch_geometric.nn import GCNConv\n",
    "\n",
    "import torch_geometric.transforms as T\n",
    "from ogb.nodeproppred import PygNodePropPredDataset, Evaluator"
   ]
  },
  {
   "cell_type": "markdown",
   "metadata": {
    "id": "0IK9z0wQIwzQ"
   },
   "source": [
    "## Load and Preprocess the Dataset"
   ]
  },
  {
   "cell_type": "code",
   "execution_count": 12,
   "metadata": {
    "id": "0ibJ0ieoIwQM"
   },
   "outputs": [],
   "source": [
    "dataset_name = 'ogbn-arxiv'\n",
    "dataset = PygNodePropPredDataset(name=dataset_name,\n",
    "                                 transform=T.ToSparseTensor())\n",
    "data = dataset[0]\n",
    "\n",
    "# Make the adjacency matrix to symmetric\n",
    "data.adj_t = data.adj_t.to_symmetric()\n",
    "\n",
    "data = data.to(device)\n",
    "split_idx = dataset.get_idx_split()\n",
    "train_idx = split_idx['train'].to(device)"
   ]
  },
  {
   "cell_type": "markdown",
   "metadata": {
    "id": "OgUA815bNJ8w"
   },
   "source": [
    "## GCN Model\n",
    "\n",
    "Now we will implement our GCN model!\n",
    "\n",
    "Please follow the figure below to implement the `forward` function.\n",
    "\n",
    "\n",
    "![test](https://drive.google.com/uc?id=128AuYAXNXGg7PIhJJ7e420DoPWKb-RtL)\n"
   ]
  },
  {
   "cell_type": "code",
   "execution_count": 13,
   "metadata": {
    "id": "IgspXTYpNJLA"
   },
   "outputs": [],
   "source": [
    "class GCN(nn.Module):\n",
    "    def __init__(self, input_dim, hidden_dim, output_dim, num_layers,\n",
    "                 dropout, return_embeds=False):\n",
    "        # initializes self.convs, self.bns, and self.softmax.\n",
    "\n",
    "        super(GCN, self).__init__()\n",
    "\n",
    "        # A list of GCNConv layers\n",
    "        self.convs = nn.ModuleList(\n",
    "            [GCNConv(input_dim, hidden_dim)] + \n",
    "            [GCNConv(hidden_dim, hidden_dim) for _ in range(num_layers - 1)] +\n",
    "            [GCNConv(hidden_dim, output_dim)]\n",
    "        )\n",
    "\n",
    "        # A list of 1D batch normalization layers\n",
    "        self.bns = nn.ModuleList([nn.BatchNorm1d(hidden_dim) for _ in range(num_layers - 1)])\n",
    "\n",
    "        # Probability of an element getting zeroed\n",
    "        self.dropout = nn.Dropout(p=dropout)\n",
    "\n",
    "        # Skip classification layer and return node embeddings\n",
    "        self.return_embeds = return_embeds\n",
    "\n",
    "    def reset_parameters(self):\n",
    "        for conv in self.convs:\n",
    "            conv.reset_parameters()\n",
    "        for bn in self.bns:\n",
    "            bn.reset_parameters()\n",
    "\n",
    "    def forward(self, x, adj_t):\n",
    "        \n",
    "        for conv, bn in zip(self.convs[:-1], self.bns):\n",
    "            x = self.dropout(bn(conv(x, adj_t)).relu())\n",
    "        out = self.convs[-1](x, adj_t)\n",
    "        if not self.return_embeds:\n",
    "            out = out.log_softmax(dim=-1)\n",
    "\n",
    "        return out"
   ]
  },
  {
   "cell_type": "code",
   "execution_count": 14,
   "metadata": {
    "id": "FF1hnHUhO81e"
   },
   "outputs": [],
   "source": [
    "def train(model, data, train_idx, optimizer, loss_fn):\n",
    "    model.train()\n",
    "    loss = 0\n",
    "\n",
    "    ## Note:\n",
    "    ## 1. Zero grad the optimizer\n",
    "    ## 2. Feed the data into the model\n",
    "    ## 3. Slice the model output and label by train_idx\n",
    "    ## 4. Feed the sliced output and label to loss_fn\n",
    "    optimizer.zero_grad()\n",
    "    out = model(data.x, data.adj_t)\n",
    "    loss = loss_fn(out[train_idx], data.y[train_idx].squeeze(1))\n",
    "    \n",
    "    loss.backward()\n",
    "    optimizer.step()\n",
    "\n",
    "    return loss.item()"
   ]
  },
  {
   "cell_type": "code",
   "execution_count": 15,
   "metadata": {
    "id": "aJdlrJQhPBsK"
   },
   "outputs": [],
   "source": [
    "# Test function here\n",
    "@torch.no_grad()\n",
    "def test(model, data, split_idx, evaluator, save_model_results=False):\n",
    "    model.eval()\n",
    "\n",
    "    # The output of model on all data\n",
    "    # No index slicing here\n",
    "    out = model(data.x, data.adj_t)\n",
    "\n",
    "    y_pred = out.argmax(dim=-1, keepdim=True)\n",
    "\n",
    "    train_acc = evaluator.eval({\n",
    "        'y_true': data.y[split_idx['train']],\n",
    "        'y_pred': y_pred[split_idx['train']],\n",
    "    })['acc']\n",
    "    valid_acc = evaluator.eval({\n",
    "        'y_true': data.y[split_idx['valid']],\n",
    "        'y_pred': y_pred[split_idx['valid']],\n",
    "    })['acc']\n",
    "    test_acc = evaluator.eval({\n",
    "        'y_true': data.y[split_idx['test']],\n",
    "        'y_pred': y_pred[split_idx['test']],\n",
    "    })['acc']\n",
    "\n",
    "    if save_model_results:\n",
    "        print (\"Saving Model Predictions\")\n",
    "\n",
    "        data = {}\n",
    "        data['y_pred'] = y_pred.view(-1).cpu().detach().numpy()\n",
    "\n",
    "        df = pd.DataFrame(data=data)\n",
    "        # Save locally as csv\n",
    "        df.to_csv('ogbn-arxiv_node.csv', sep=',', index=False)\n",
    "\n",
    "\n",
    "    return train_acc, valid_acc, test_acc"
   ]
  },
  {
   "cell_type": "code",
   "execution_count": 16,
   "metadata": {
    "id": "o7F46xkuLiOL"
   },
   "outputs": [
    {
     "data": {
      "text/plain": [
       "{'device': 3,\n",
       " 'num_layers': 3,\n",
       " 'hidden_dim': 256,\n",
       " 'dropout': 0.5,\n",
       " 'lr': 0.01,\n",
       " 'epochs': 100}"
      ]
     },
     "execution_count": 16,
     "metadata": {},
     "output_type": "execute_result"
    }
   ],
   "source": [
    "# Please do not change the args\n",
    "args = {\n",
    "  'device': device,\n",
    "  'num_layers': 3,\n",
    "  'hidden_dim': 256,\n",
    "  'dropout': 0.5,\n",
    "  'lr': 0.01,\n",
    "  'epochs': 100,\n",
    "}\n",
    "args"
   ]
  },
  {
   "cell_type": "code",
   "execution_count": 17,
   "metadata": {
    "id": "dT8RyM2cPGxM"
   },
   "outputs": [],
   "source": [
    "model = GCN(data.num_features, args['hidden_dim'],\n",
    "            dataset.num_classes, args['num_layers'],\n",
    "            args['dropout']).to(device)\n",
    "evaluator = Evaluator(name='ogbn-arxiv')"
   ]
  },
  {
   "cell_type": "code",
   "execution_count": 18,
   "metadata": {
    "id": "qd5O5cnPPdVF",
    "scrolled": true
   },
   "outputs": [
    {
     "name": "stdout",
     "output_type": "stream",
     "text": [
      "Epoch: 01, Loss: 4.0635, Train: 24.54%, Valid: 28.63% Test: 25.63%\n",
      "Epoch: 02, Loss: 2.2768, Train: 25.42%, Valid: 23.24% Test: 28.48%\n",
      "Epoch: 03, Loss: 1.9387, Train: 30.86%, Valid: 26.25% Test: 31.10%\n",
      "Epoch: 04, Loss: 1.7615, Train: 36.97%, Valid: 33.74% Test: 32.65%\n",
      "Epoch: 05, Loss: 1.6469, Train: 41.34%, Valid: 36.54% Test: 33.51%\n",
      "Epoch: 06, Loss: 1.5577, Train: 42.20%, Valid: 36.61% Test: 36.09%\n",
      "Epoch: 07, Loss: 1.4848, Train: 42.98%, Valid: 36.76% Test: 39.35%\n",
      "Epoch: 08, Loss: 1.4284, Train: 44.65%, Valid: 39.92% Test: 43.40%\n",
      "Epoch: 09, Loss: 1.3901, Train: 45.29%, Valid: 39.87% Test: 42.01%\n",
      "Epoch: 10, Loss: 1.3620, Train: 46.34%, Valid: 42.51% Test: 44.99%\n",
      "Epoch: 11, Loss: 1.3276, Train: 47.92%, Valid: 45.41% Test: 48.36%\n",
      "Epoch: 12, Loss: 1.2985, Train: 47.61%, Valid: 43.96% Test: 47.10%\n",
      "Epoch: 13, Loss: 1.2770, Train: 47.11%, Valid: 42.53% Test: 45.40%\n",
      "Epoch: 14, Loss: 1.2619, Train: 48.14%, Valid: 44.15% Test: 45.99%\n",
      "Epoch: 15, Loss: 1.2419, Train: 50.32%, Valid: 47.93% Test: 49.07%\n",
      "Epoch: 16, Loss: 1.2274, Train: 53.04%, Valid: 52.09% Test: 53.02%\n",
      "Epoch: 17, Loss: 1.2097, Train: 55.59%, Valid: 55.75% Test: 56.98%\n",
      "Epoch: 18, Loss: 1.1961, Train: 57.45%, Valid: 58.02% Test: 60.04%\n",
      "Epoch: 19, Loss: 1.1822, Train: 57.70%, Valid: 58.32% Test: 60.86%\n",
      "Epoch: 20, Loss: 1.1697, Train: 57.36%, Valid: 57.63% Test: 60.26%\n",
      "Epoch: 21, Loss: 1.1607, Train: 57.01%, Valid: 56.64% Test: 59.58%\n",
      "Epoch: 22, Loss: 1.1556, Train: 57.66%, Valid: 57.11% Test: 59.97%\n",
      "Epoch: 23, Loss: 1.1418, Train: 58.85%, Valid: 58.36% Test: 60.77%\n",
      "Epoch: 24, Loss: 1.1359, Train: 60.08%, Valid: 59.96% Test: 61.96%\n",
      "Epoch: 25, Loss: 1.1274, Train: 61.27%, Valid: 61.71% Test: 63.36%\n",
      "Epoch: 26, Loss: 1.1205, Train: 62.33%, Valid: 62.78% Test: 64.32%\n",
      "Epoch: 27, Loss: 1.1125, Train: 63.18%, Valid: 63.55% Test: 64.87%\n",
      "Epoch: 28, Loss: 1.1001, Train: 64.21%, Valid: 64.43% Test: 65.55%\n",
      "Epoch: 29, Loss: 1.0940, Train: 65.29%, Valid: 65.24% Test: 66.05%\n",
      "Epoch: 30, Loss: 1.0871, Train: 65.98%, Valid: 65.93% Test: 66.35%\n",
      "Epoch: 31, Loss: 1.0856, Train: 66.47%, Valid: 66.35% Test: 66.92%\n",
      "Epoch: 32, Loss: 1.0774, Train: 66.90%, Valid: 66.69% Test: 67.56%\n",
      "Epoch: 33, Loss: 1.0705, Train: 67.04%, Valid: 66.82% Test: 67.77%\n",
      "Epoch: 34, Loss: 1.0641, Train: 67.47%, Valid: 66.97% Test: 67.84%\n",
      "Epoch: 35, Loss: 1.0627, Train: 68.39%, Valid: 68.01% Test: 68.36%\n",
      "Epoch: 36, Loss: 1.0558, Train: 69.04%, Valid: 68.80% Test: 68.71%\n",
      "Epoch: 37, Loss: 1.0508, Train: 69.34%, Valid: 69.22% Test: 68.99%\n",
      "Epoch: 38, Loss: 1.0478, Train: 69.50%, Valid: 69.39% Test: 69.22%\n",
      "Epoch: 39, Loss: 1.0447, Train: 69.54%, Valid: 69.26% Test: 69.35%\n",
      "Epoch: 40, Loss: 1.0399, Train: 69.70%, Valid: 69.51% Test: 69.32%\n",
      "Epoch: 41, Loss: 1.0371, Train: 69.95%, Valid: 69.60% Test: 69.08%\n",
      "Epoch: 42, Loss: 1.0348, Train: 70.25%, Valid: 69.72% Test: 68.71%\n",
      "Epoch: 43, Loss: 1.0261, Train: 70.40%, Valid: 69.72% Test: 68.56%\n",
      "Epoch: 44, Loss: 1.0256, Train: 70.52%, Valid: 69.98% Test: 69.03%\n",
      "Epoch: 45, Loss: 1.0225, Train: 70.62%, Valid: 70.15% Test: 69.35%\n",
      "Epoch: 46, Loss: 1.0179, Train: 70.86%, Valid: 70.37% Test: 69.58%\n",
      "Epoch: 47, Loss: 1.0155, Train: 71.05%, Valid: 70.38% Test: 69.46%\n",
      "Epoch: 48, Loss: 1.0125, Train: 71.22%, Valid: 70.43% Test: 69.55%\n",
      "Epoch: 49, Loss: 1.0099, Train: 71.27%, Valid: 70.43% Test: 69.65%\n",
      "Epoch: 50, Loss: 1.0062, Train: 71.25%, Valid: 70.38% Test: 69.70%\n",
      "Epoch: 51, Loss: 1.0049, Train: 71.12%, Valid: 70.27% Test: 69.53%\n",
      "Epoch: 52, Loss: 0.9997, Train: 71.17%, Valid: 70.14% Test: 69.30%\n",
      "Epoch: 53, Loss: 0.9977, Train: 71.39%, Valid: 70.23% Test: 69.14%\n",
      "Epoch: 54, Loss: 0.9945, Train: 71.47%, Valid: 70.00% Test: 68.66%\n",
      "Epoch: 55, Loss: 0.9925, Train: 71.56%, Valid: 70.06% Test: 68.53%\n",
      "Epoch: 56, Loss: 0.9905, Train: 71.78%, Valid: 70.47% Test: 69.09%\n",
      "Epoch: 57, Loss: 0.9869, Train: 71.86%, Valid: 70.93% Test: 69.92%\n",
      "Epoch: 58, Loss: 0.9854, Train: 71.84%, Valid: 71.19% Test: 70.23%\n",
      "Epoch: 59, Loss: 0.9826, Train: 72.03%, Valid: 71.21% Test: 70.35%\n",
      "Epoch: 60, Loss: 0.9794, Train: 72.21%, Valid: 71.15% Test: 69.91%\n",
      "Epoch: 61, Loss: 0.9764, Train: 72.24%, Valid: 71.06% Test: 69.66%\n",
      "Epoch: 62, Loss: 0.9785, Train: 72.29%, Valid: 70.95% Test: 69.64%\n",
      "Epoch: 63, Loss: 0.9751, Train: 72.38%, Valid: 71.01% Test: 69.63%\n",
      "Epoch: 64, Loss: 0.9704, Train: 72.39%, Valid: 71.16% Test: 70.26%\n",
      "Epoch: 65, Loss: 0.9686, Train: 72.29%, Valid: 71.19% Test: 70.46%\n",
      "Epoch: 66, Loss: 0.9675, Train: 72.36%, Valid: 71.18% Test: 70.49%\n",
      "Epoch: 67, Loss: 0.9657, Train: 72.65%, Valid: 71.51% Test: 70.53%\n",
      "Epoch: 68, Loss: 0.9646, Train: 72.75%, Valid: 71.54% Test: 70.36%\n",
      "Epoch: 69, Loss: 0.9603, Train: 72.74%, Valid: 71.45% Test: 70.07%\n",
      "Epoch: 70, Loss: 0.9561, Train: 72.81%, Valid: 71.38% Test: 70.01%\n",
      "Epoch: 71, Loss: 0.9575, Train: 72.72%, Valid: 71.10% Test: 69.70%\n",
      "Epoch: 72, Loss: 0.9547, Train: 72.60%, Valid: 71.15% Test: 69.60%\n",
      "Epoch: 73, Loss: 0.9513, Train: 72.67%, Valid: 71.32% Test: 70.04%\n",
      "Epoch: 74, Loss: 0.9524, Train: 72.72%, Valid: 71.56% Test: 70.70%\n",
      "Epoch: 75, Loss: 0.9489, Train: 72.85%, Valid: 71.63% Test: 70.93%\n",
      "Epoch: 76, Loss: 0.9478, Train: 73.03%, Valid: 71.70% Test: 70.63%\n",
      "Epoch: 77, Loss: 0.9442, Train: 73.06%, Valid: 71.49% Test: 70.29%\n",
      "Epoch: 78, Loss: 0.9441, Train: 73.19%, Valid: 71.58% Test: 70.44%\n",
      "Epoch: 79, Loss: 0.9433, Train: 73.10%, Valid: 71.72% Test: 71.01%\n",
      "Epoch: 80, Loss: 0.9399, Train: 72.92%, Valid: 71.63% Test: 71.17%\n",
      "Epoch: 81, Loss: 0.9385, Train: 73.12%, Valid: 71.69% Test: 70.60%\n",
      "Epoch: 82, Loss: 0.9402, Train: 73.22%, Valid: 71.19% Test: 69.69%\n",
      "Epoch: 83, Loss: 0.9356, Train: 73.24%, Valid: 71.52% Test: 70.18%\n",
      "Epoch: 84, Loss: 0.9346, Train: 73.17%, Valid: 71.80% Test: 70.94%\n",
      "Epoch: 85, Loss: 0.9337, Train: 73.33%, Valid: 71.87% Test: 71.05%\n",
      "Epoch: 86, Loss: 0.9315, Train: 73.44%, Valid: 71.75% Test: 70.73%\n",
      "Epoch: 87, Loss: 0.9289, Train: 73.47%, Valid: 71.47% Test: 70.55%\n",
      "Epoch: 88, Loss: 0.9287, Train: 73.43%, Valid: 71.71% Test: 70.96%\n",
      "Epoch: 89, Loss: 0.9263, Train: 73.54%, Valid: 72.02% Test: 71.18%\n",
      "Epoch: 90, Loss: 0.9233, Train: 73.62%, Valid: 71.95% Test: 70.89%\n",
      "Epoch: 91, Loss: 0.9233, Train: 73.61%, Valid: 71.94% Test: 70.94%\n",
      "Epoch: 92, Loss: 0.9201, Train: 73.50%, Valid: 71.97% Test: 71.11%\n",
      "Epoch: 93, Loss: 0.9219, Train: 73.39%, Valid: 71.60% Test: 70.77%\n",
      "Epoch: 94, Loss: 0.9189, Train: 73.37%, Valid: 71.50% Test: 70.63%\n",
      "Epoch: 95, Loss: 0.9174, Train: 73.53%, Valid: 72.07% Test: 71.28%\n",
      "Epoch: 96, Loss: 0.9125, Train: 73.63%, Valid: 72.12% Test: 71.49%\n",
      "Epoch: 97, Loss: 0.9162, Train: 73.69%, Valid: 72.04% Test: 71.42%\n",
      "Epoch: 98, Loss: 0.9154, Train: 73.66%, Valid: 71.82% Test: 71.32%\n",
      "Epoch: 99, Loss: 0.9095, Train: 73.74%, Valid: 71.81% Test: 71.29%\n",
      "Epoch: 100, Loss: 0.9113, Train: 73.74%, Valid: 71.86% Test: 71.00%\n"
     ]
    }
   ],
   "source": [
    "import copy\n",
    "# reset the parameters to initial random value\n",
    "model.reset_parameters()\n",
    "\n",
    "optimizer = torch.optim.Adam(model.parameters(), lr=args['lr'])\n",
    "loss_fn = F.nll_loss\n",
    "\n",
    "best_model = None\n",
    "best_valid_acc = 0\n",
    "\n",
    "for epoch in range(1, 1 + args[\"epochs\"]):\n",
    "    loss = train(model, data, train_idx, optimizer, loss_fn)\n",
    "    result = test(model, data, split_idx, evaluator)\n",
    "    train_acc, valid_acc, test_acc = result\n",
    "    if valid_acc > best_valid_acc:\n",
    "        best_valid_acc = valid_acc\n",
    "        best_model = copy.deepcopy(model)\n",
    "    print(f'Epoch: {epoch:02d}, '\n",
    "          f'Loss: {loss:.4f}, '\n",
    "          f'Train: {100 * train_acc:.2f}%, '\n",
    "          f'Valid: {100 * valid_acc:.2f}% '\n",
    "          f'Test: {100 * test_acc:.2f}%')"
   ]
  },
  {
   "cell_type": "markdown",
   "metadata": {
    "id": "dQtt-EKA8P4r"
   },
   "source": [
    "## Question 5: What are your `best_model` validation and test accuracies?(20 points)\n",
    "\n",
    "Run the cell below to see the results of your best of model and save your model's predictions to a file named *ogbn-arxiv_node.csv*. \n",
    "\n",
    "You can view this file by clicking on the *Folder* icon on the left side pannel. As in Colab 1, when you sumbit your assignment, you will have to download this file and attatch it to your submission."
   ]
  },
  {
   "cell_type": "code",
   "execution_count": 19,
   "metadata": {
    "id": "EqcextqOL2FX"
   },
   "outputs": [
    {
     "name": "stdout",
     "output_type": "stream",
     "text": [
      "Saving Model Predictions\n",
      "Best model: Train: 73.63%, Valid: 72.12% Test: 71.49%\n"
     ]
    }
   ],
   "source": [
    "best_result = test(best_model, data, split_idx, evaluator, save_model_results=True)\n",
    "train_acc, valid_acc, test_acc = best_result\n",
    "print(f'Best model: '\n",
    "     f'Train: {100 * train_acc:.2f}%, '\n",
    "     f'Valid: {100 * valid_acc:.2f}% '\n",
    "     f'Test: {100 * test_acc:.2f}%')"
   ]
  },
  {
   "cell_type": "markdown",
   "metadata": {
    "id": "R8pOD6y80TyI"
   },
   "source": [
    "# 4) GNN: Graph Property Prediction\n",
    "\n",
    "In this section we will create a graph neural network for graph property prediction (graph classification).\n"
   ]
  },
  {
   "cell_type": "markdown",
   "metadata": {
    "id": "vRg5VOEdQTa4"
   },
   "source": [
    "## Load and preprocess the dataset"
   ]
  },
  {
   "cell_type": "code",
   "execution_count": 20,
   "metadata": {
    "id": "LXb-O5QUIgTH"
   },
   "outputs": [
    {
     "name": "stdout",
     "output_type": "stream",
     "text": [
      "Device: 3\n",
      "Task type: binary classification\n"
     ]
    }
   ],
   "source": [
    "from ogb.graphproppred import PygGraphPropPredDataset, Evaluator\n",
    "from torch_geometric.loader import DataLoader\n",
    "from tqdm.std import tqdm\n",
    "import sys\n",
    "\n",
    "\n",
    "# Load the dataset \n",
    "dataset = PygGraphPropPredDataset(name='ogbg-molhiv')\n",
    "\n",
    "print('Device: {}'.format(device))\n",
    "\n",
    "split_idx = dataset.get_idx_split()\n",
    "\n",
    "# Check task type\n",
    "print('Task type: {}'.format(dataset.task_type))"
   ]
  },
  {
   "cell_type": "code",
   "execution_count": 21,
   "metadata": {
    "id": "7cHHbgW1c5hi"
   },
   "outputs": [],
   "source": [
    "# Load the dataset splits into corresponding dataloaders\n",
    "# We will train the graph classification task on a batch of 32 graphs\n",
    "# Shuffle the order of graphs for training set\n",
    "train_loader = DataLoader(dataset[split_idx[\"train\"]], batch_size=32, shuffle=True, num_workers=0)\n",
    "valid_loader = DataLoader(dataset[split_idx[\"valid\"]], batch_size=32, shuffle=False, num_workers=0)\n",
    "test_loader = DataLoader(dataset[split_idx[\"test\"]], batch_size=32, shuffle=False, num_workers=0)"
   ]
  },
  {
   "cell_type": "code",
   "execution_count": 22,
   "metadata": {
    "id": "AYrSnOj0Y4DK"
   },
   "outputs": [
    {
     "data": {
      "text/plain": [
       "{'device': 3,\n",
       " 'num_layers': 5,\n",
       " 'hidden_dim': 256,\n",
       " 'dropout': 0.5,\n",
       " 'lr': 0.001,\n",
       " 'epochs': 30}"
      ]
     },
     "execution_count": 22,
     "metadata": {},
     "output_type": "execute_result"
    }
   ],
   "source": [
    "args = {\n",
    "    'device': device,\n",
    "    'num_layers': 5,\n",
    "    'hidden_dim': 256,\n",
    "    'dropout': 0.5,\n",
    "    'lr': 0.001,\n",
    "    'epochs': 30,\n",
    "}\n",
    "args"
   ]
  },
  {
   "cell_type": "markdown",
   "metadata": {
    "id": "7WLhguSTeazy"
   },
   "source": [
    "## Graph Prediction Model"
   ]
  },
  {
   "cell_type": "markdown",
   "metadata": {
    "id": "u05Z14TRYPGn"
   },
   "source": [
    "### Graph Mini-Batching\n",
    "Before diving into the actual model, we introduce the concept of mini-batching with graphs. In order to parallelize the processing of a mini-batch of graphs, PyG combines the graphs into a single disconnected graph data object (*torch_geometric.data.Batch*). *torch_geometric.data.Batch* inherits from *torch_geometric.data.Data* (introduced earlier) and contains an additional attribute called `batch`. \n",
    "\n",
    "The `batch` attribute is a vector mapping each node to the index of its corresponding graph within the mini-batch:\n",
    "\n",
    "    batch = [0, ..., 0, 1, ..., n - 2, n - 1, ..., n - 1]\n",
    "\n",
    "This attribute is crucial for associating which graph each node belongs to and can be used to e.g. average the node embeddings for each graph individually to compute graph level embeddings. \n",
    "\n"
   ]
  },
  {
   "cell_type": "markdown",
   "metadata": {
    "id": "Pcic9NNU3nGK"
   },
   "source": [
    "### Implemention\n",
    "Now, we have all of the tools to implement a GCN Graph Prediction model!  \n",
    "\n",
    "We will reuse the existing GCN model to generate `node_embeddings` and then use  `Global Pooling` over the nodes to create graph level embeddings that can be used to predict properties for the each graph. Remeber that the `batch` attribute will be essential for performining Global Pooling over our mini-batch of graphs."
   ]
  },
  {
   "cell_type": "code",
   "execution_count": 23,
   "metadata": {
    "id": "3_Kq3zyjeZ22"
   },
   "outputs": [],
   "source": [
    "from ogb.graphproppred.mol_encoder import AtomEncoder\n",
    "from torch_geometric.nn import global_add_pool, global_mean_pool, global_sort_pool, global_max_pool\n",
    "\n",
    "### GCN to predict graph property\n",
    "class GCN_Graph(torch.nn.Module):\n",
    "    def __init__(self, hidden_dim, output_dim, num_layers, dropout, pooling_fn=global_mean_pool):\n",
    "        super(GCN_Graph, self).__init__()\n",
    "\n",
    "        # Load encoders for Atoms in molecule graphs\n",
    "        self.node_encoder = AtomEncoder(hidden_dim)\n",
    "\n",
    "        # Node embedding model\n",
    "        # Note that the input_dim and output_dim are set to hidden_dim\n",
    "        self.gnn_node = GCN(hidden_dim, hidden_dim,\n",
    "            hidden_dim, num_layers, dropout, return_embeds=True)\n",
    "\n",
    "        ## Note:\n",
    "        ## Initialize self.pool as a global mean pooling layer\n",
    "        ## For more information please refer to the documentation:\n",
    "        ## https://pytorch-geometric.readthedocs.io/en/latest/modules/nn.html#global-pooling-layers\n",
    "        self.pool = pooling_fn\n",
    "        \n",
    "        # Output layer\n",
    "        self.linear = torch.nn.Linear(hidden_dim, output_dim)\n",
    "\n",
    "\n",
    "    def reset_parameters(self):\n",
    "        self.gnn_node.reset_parameters()\n",
    "        self.linear.reset_parameters()\n",
    "\n",
    "    def forward(self, batched_data):\n",
    "        # a function that takes as input a \n",
    "        # mini-batch of graphs (torch_geometric.data.Batch) and \n",
    "        # returns the predicted graph property for each graph. \n",
    "        #\n",
    "        # NOTE: Since we are predicting graph level properties,\n",
    "        # your output will be a tensor with dimension equaling\n",
    "        # the number of graphs in the mini-batch\n",
    "\n",
    "        # Extract important attributes of our mini-batch\n",
    "        x, edge_index, batch = batched_data.x, batched_data.edge_index, batched_data.batch\n",
    "        embed = self.node_encoder(x)\n",
    "\n",
    "        ## Note:\n",
    "        ## 1. Construct node embeddings using existing GCN model\n",
    "        ## 2. Use the global pooling layer to aggregate features for each individual graph\n",
    "        ## For more information please refer to the documentation:\n",
    "        ## https://pytorch-geometric.readthedocs.io/en/latest/modules/nn.html#global-pooling-layers\n",
    "        ## 3. Use a linear layer to predict each graph's property\n",
    "        out = self.gnn_node(embed, edge_index)\n",
    "        out = self.pool(out, batch)\n",
    "        out = self.linear(out)\n",
    "\n",
    "        return out"
   ]
  },
  {
   "cell_type": "code",
   "execution_count": 24,
   "metadata": {
    "id": "FJjnGuMSbjX0"
   },
   "outputs": [],
   "source": [
    "def train(model, device, data_loader, optimizer, loss_fn):\n",
    "    \n",
    "    model.train()\n",
    "    total_loss = 0.\n",
    "    total_len = 0\n",
    "\n",
    "    iterator = tqdm(data_loader, desc=\"[Train] Iteration\", leave=False, file=sys.stdout)\n",
    "    for step, batch in enumerate(iterator):\n",
    "\n",
    "        if batch.x.shape[0] == 1 or batch.batch[-1] == 0:\n",
    "            continue\n",
    "        \n",
    "        batch = batch.to(device)\n",
    "        optimizer.zero_grad()\n",
    "\n",
    "        ## ignore nan targets (unlabeled) when computing training loss.\n",
    "        is_labeled = batch.y == batch.y\n",
    "        \n",
    "        ## Use `is_labeled` mask to filter output and labels\n",
    "        ## You may need to change the type of label to torch.float32\n",
    "        loss = loss_fn(model(batch)[is_labeled], batch.y[is_labeled].float())\n",
    "        \n",
    "        loss.backward()\n",
    "        optimizer.step()\n",
    "        \n",
    "        total_loss += loss.item()\n",
    "        total_len += is_labeled.int().sum()\n",
    "        \n",
    "        if step % 10 == 0:\n",
    "            iterator.set_postfix(loss=loss.item())\n",
    "\n",
    "    return total_loss / total_len if total_len else float('nan')"
   ]
  },
  {
   "cell_type": "code",
   "execution_count": 25,
   "metadata": {
    "id": "ztPHXq_Gzn7U"
   },
   "outputs": [],
   "source": [
    "# The evaluation function\n",
    "def evaluate(model, device, loader, evaluator, save_model_results=False, save_file=None):\n",
    "    model.eval()\n",
    "    y_true = []\n",
    "    y_pred = []\n",
    "\n",
    "    iterator = tqdm(loader, desc=\"[Valid] Iteration\", leave=False, file=sys.stdout)\n",
    "    for step, batch in enumerate(iterator):\n",
    "        batch = batch.to(device)\n",
    "\n",
    "        if batch.x.shape[0] == 1:\n",
    "            pass\n",
    "        else:\n",
    "            with torch.no_grad():\n",
    "                pred = model(batch)\n",
    "\n",
    "            y_true.append(batch.y.view(pred.shape).detach().cpu())\n",
    "            y_pred.append(pred.detach().cpu())\n",
    "\n",
    "    y_true = torch.cat(y_true, dim = 0).numpy()\n",
    "    y_pred = torch.cat(y_pred, dim = 0).numpy()\n",
    "\n",
    "    input_dict = {\"y_true\": y_true, \"y_pred\": y_pred}\n",
    "\n",
    "    if save_model_results:\n",
    "        print(\"Saving Model Predictions\")\n",
    "        \n",
    "        # Create a pandas dataframe with a two columns\n",
    "        # y_pred | y_true\n",
    "        data = {}\n",
    "        data['y_pred'] = y_pred.reshape(-1)\n",
    "        data['y_true'] = y_true.reshape(-1)\n",
    "\n",
    "        df = pd.DataFrame(data=data)\n",
    "        # Save to csv\n",
    "        df.to_csv('ogbg-molhiv_graph_' + save_file + '.csv', sep=',', index=False)\n",
    "\n",
    "    return evaluator.eval(input_dict)"
   ]
  },
  {
   "cell_type": "code",
   "execution_count": 26,
   "metadata": {
    "id": "MR1wQ4hMZeMw"
   },
   "outputs": [],
   "source": [
    "model = GCN_Graph(args['hidden_dim'],\n",
    "                  dataset.num_tasks, args['num_layers'],\n",
    "                  args['dropout']).to(device)\n",
    "evaluator = Evaluator(name='ogbg-molhiv')"
   ]
  },
  {
   "cell_type": "code",
   "execution_count": 27,
   "metadata": {
    "id": "qJGTNZiuZy0A",
    "scrolled": false
   },
   "outputs": [
    {
     "name": "stdout",
     "output_type": "stream",
     "text": [
      "Epoch: 01, Loss: 0.0049, Train: 70.44%, Valid: 72.40% Test: 70.13%                  \n",
      "Epoch: 02, Loss: 0.0047, Train: 72.45%, Valid: 71.94% Test: 75.47%                  \n",
      "Epoch: 03, Loss: 0.0045, Train: 76.26%, Valid: 76.39% Test: 73.81%                 \n",
      "Epoch: 04, Loss: 0.0044, Train: 76.97%, Valid: 71.05% Test: 69.30%                 \n",
      "Epoch: 05, Loss: 0.0044, Train: 76.74%, Valid: 73.25% Test: 71.53%                  \n",
      "Epoch: 06, Loss: 0.0044, Train: 76.85%, Valid: 75.40% Test: 70.15%                  \n",
      "Epoch: 07, Loss: 0.0043, Train: 78.04%, Valid: 73.94% Test: 71.71%                  \n",
      "Epoch: 08, Loss: 0.0043, Train: 78.62%, Valid: 76.92% Test: 71.20%                  \n",
      "Epoch: 09, Loss: 0.0043, Train: 78.65%, Valid: 75.59% Test: 73.57%                 \n",
      "Epoch: 10, Loss: 0.0042, Train: 79.98%, Valid: 74.90% Test: 71.10%                  \n",
      "Epoch: 11, Loss: 0.0042, Train: 79.89%, Valid: 75.38% Test: 73.32%                 \n",
      "Epoch: 12, Loss: 0.0042, Train: 79.34%, Valid: 75.35% Test: 73.14%                  \n",
      "Epoch: 13, Loss: 0.0041, Train: 80.23%, Valid: 77.16% Test: 72.82%                  \n",
      "Epoch: 14, Loss: 0.0041, Train: 79.82%, Valid: 75.00% Test: 71.15%                 \n",
      "Epoch: 15, Loss: 0.0041, Train: 81.02%, Valid: 77.57% Test: 72.53%                  \n",
      "Epoch: 16, Loss: 0.0041, Train: 81.41%, Valid: 73.57% Test: 71.86%                 \n",
      "Epoch: 17, Loss: 0.0041, Train: 81.69%, Valid: 78.55% Test: 73.58%                  \n",
      "Epoch: 18, Loss: 0.0040, Train: 81.77%, Valid: 76.74% Test: 72.78%                  \n",
      "Epoch: 19, Loss: 0.0040, Train: 81.85%, Valid: 75.89% Test: 74.07%                  \n",
      "Epoch: 20, Loss: 0.0041, Train: 82.67%, Valid: 79.72% Test: 74.01%                  \n",
      "Epoch: 21, Loss: 0.0040, Train: 81.90%, Valid: 76.60% Test: 72.72%                  \n",
      "Epoch: 22, Loss: 0.0040, Train: 83.15%, Valid: 79.02% Test: 73.97%                  \n",
      "Epoch: 23, Loss: 0.0040, Train: 82.22%, Valid: 74.99% Test: 72.51%                  \n",
      "Epoch: 24, Loss: 0.0040, Train: 82.71%, Valid: 78.65% Test: 75.18%                  \n",
      "Epoch: 25, Loss: 0.0039, Train: 83.45%, Valid: 77.22% Test: 74.81%                  \n",
      "Epoch: 26, Loss: 0.0039, Train: 83.52%, Valid: 77.94% Test: 72.21%                  \n",
      "Epoch: 27, Loss: 0.0039, Train: 83.63%, Valid: 78.22% Test: 74.72%                  \n",
      "Epoch: 28, Loss: 0.0039, Train: 84.12%, Valid: 79.52% Test: 75.87%                  \n",
      "Epoch: 29, Loss: 0.0039, Train: 84.18%, Valid: 78.16% Test: 75.90%                  \n",
      "Epoch: 30, Loss: 0.0039, Train: 83.04%, Valid: 76.58% Test: 73.54%                 \n"
     ]
    }
   ],
   "source": [
    "import copy\n",
    "\n",
    "model.reset_parameters()\n",
    "\n",
    "optimizer = torch.optim.Adam(model.parameters(), lr=args['lr'])\n",
    "loss_fn = torch.nn.BCEWithLogitsLoss()\n",
    "\n",
    "best_model = None\n",
    "best_valid_acc = 0\n",
    "\n",
    "for epoch in range(1, 1 + args[\"epochs\"]):\n",
    "    # Train\n",
    "    loss = train(model, device, train_loader, optimizer, loss_fn)\n",
    "    # Eval\n",
    "    train_result = evaluate(model, device, train_loader, evaluator)\n",
    "    val_result = evaluate(model, device, valid_loader, evaluator)\n",
    "    test_result = evaluate(model, device, test_loader, evaluator)\n",
    "\n",
    "    train_acc, valid_acc, test_acc = train_result[dataset.eval_metric], val_result[dataset.eval_metric], test_result[dataset.eval_metric]\n",
    "    if valid_acc > best_valid_acc:\n",
    "        best_valid_acc = valid_acc\n",
    "        best_model = copy.deepcopy(model)\n",
    "    print(f'Epoch: {epoch:02d}, '\n",
    "          f'Loss: {loss:.4f}, '\n",
    "          f'Train: {100 * train_acc:.2f}%, '\n",
    "          f'Valid: {100 * valid_acc:.2f}% '\n",
    "          f'Test: {100 * test_acc:.2f}%')"
   ]
  },
  {
   "cell_type": "markdown",
   "metadata": {
    "id": "6I17-Qso_n88"
   },
   "source": [
    "## Question 6: What are your `best_model` validation and test ROC-AUC scores? (20 points)\n",
    "\n",
    "Run the cell below to see the results of your best of model and save your model's predictions over the validation and test datasets. The resulting files are named *ogbn-arxiv_graph_valid.csv* and *ogbn-arxiv_graph_test.csv*. \n",
    "\n",
    "Again, you can view these files by clicking on the *Folder* icon on the left side pannel. As in Colab 1, when you sumbit your assignment, you will have to download these files and attatch them to your submission."
   ]
  },
  {
   "cell_type": "code",
   "execution_count": 28,
   "metadata": {
    "id": "Oq5QaG21dOOO"
   },
   "outputs": [
    {
     "name": "stdout",
     "output_type": "stream",
     "text": [
      "Saving Model Predictions                                               \n",
      "Saving Model Predictions                                             \n",
      "Best model: Train: 82.67%, Valid: 79.72% Test: 74.01%\n"
     ]
    }
   ],
   "source": [
    "train_acc = evaluate(best_model, device, train_loader, evaluator)[dataset.eval_metric]\n",
    "valid_acc = evaluate(best_model, device, valid_loader, evaluator, save_model_results=True, save_file=\"valid\")[dataset.eval_metric]\n",
    "test_acc  = evaluate(best_model, device, test_loader, evaluator, save_model_results=True, save_file=\"test\")[dataset.eval_metric]\n",
    "\n",
    "print(f'Best model: '\n",
    "      f'Train: {100 * train_acc:.2f}%, '\n",
    "      f'Valid: {100 * valid_acc:.2f}% '\n",
    "      f'Test: {100 * test_acc:.2f}%')"
   ]
  },
  {
   "cell_type": "markdown",
   "metadata": {
    "id": "gBi_t8n0iZ4P"
   },
   "source": [
    "## Question 7 (Optional): Experiment with the two other global pooling layers in Pytorch Geometric."
   ]
  },
  {
   "cell_type": "code",
   "execution_count": 29,
   "metadata": {},
   "outputs": [],
   "source": [
    "def experiment(pooling_fn, train_loader=train_loader, valid_loader=valid_loader, \n",
    "               test_loader=test_loader, device=device, args=args):\n",
    "    print(\"Experiment of pooling: {}\".format(pooling_fn.__name__))\n",
    "    model = GCN_Graph(args['hidden_dim'],\n",
    "                      dataset.num_tasks, args['num_layers'],\n",
    "                      args['dropout'], pooling_fn).to(device)\n",
    "    evaluator = Evaluator(name='ogbg-molhiv')\n",
    "    model.reset_parameters()\n",
    "\n",
    "    optimizer = torch.optim.Adam(model.parameters(), lr=args['lr'])\n",
    "    loss_fn = torch.nn.BCEWithLogitsLoss()\n",
    "\n",
    "    best_model = None\n",
    "    best_valid_acc = 0\n",
    "\n",
    "    for epoch in range(1, 1 + args[\"epochs\"]):\n",
    "        # Train\n",
    "        loss = train(model, device, train_loader, optimizer, loss_fn)\n",
    "        # Eval\n",
    "        train_result = evaluate(model, device, train_loader, evaluator)\n",
    "        val_result = evaluate(model, device, valid_loader, evaluator)\n",
    "        test_result = evaluate(model, device, test_loader, evaluator)\n",
    "\n",
    "        train_acc, valid_acc, test_acc = train_result[dataset.eval_metric], val_result[dataset.eval_metric], test_result[dataset.eval_metric]\n",
    "        if valid_acc > best_valid_acc:\n",
    "            best_valid_acc = valid_acc\n",
    "            best_model = copy.deepcopy(model)\n",
    "        print(f'Epoch: {epoch:02d}, '\n",
    "              f'Loss: {loss:.4f}, '\n",
    "              f'Train: {100 * train_acc:.2f}%, '\n",
    "              f'Valid: {100 * valid_acc:.2f}% '\n",
    "              f'Test: {100 * test_acc:.2f}%')\n",
    "\n",
    "    train_acc = evaluate(best_model, device, train_loader, evaluator)[dataset.eval_metric]\n",
    "    valid_acc = evaluate(best_model, device, valid_loader, evaluator)[dataset.eval_metric]\n",
    "    test_acc  = evaluate(best_model, device, test_loader, evaluator)[dataset.eval_metric]\n",
    "\n",
    "    print(f'Best model: '\n",
    "          f'Train: {100 * train_acc:.2f}%, '\n",
    "          f'Valid: {100 * valid_acc:.2f}% '\n",
    "          f'Test: {100 * test_acc:.2f}%')"
   ]
  },
  {
   "cell_type": "markdown",
   "metadata": {},
   "source": [
    "### Global Add Pooling"
   ]
  },
  {
   "cell_type": "code",
   "execution_count": 30,
   "metadata": {},
   "outputs": [
    {
     "name": "stdout",
     "output_type": "stream",
     "text": [
      "Experiment of pooling: global_add_pool\n",
      "Epoch: 01, Loss: 0.0092, Train: 65.81%, Valid: 70.10% Test: 60.08%                  \n",
      "Epoch: 02, Loss: 0.0058, Train: 62.73%, Valid: 53.02% Test: 45.56%                  \n",
      "Epoch: 03, Loss: 0.0054, Train: 70.93%, Valid: 66.15% Test: 68.94%                  \n",
      "Epoch: 04, Loss: 0.0052, Train: 68.71%, Valid: 59.66% Test: 55.95%                  \n",
      "Epoch: 05, Loss: 0.0050, Train: 70.34%, Valid: 55.82% Test: 52.17%                  \n",
      "Epoch: 06, Loss: 0.0049, Train: 70.11%, Valid: 69.71% Test: 64.69%                 \n",
      "Epoch: 07, Loss: 0.0047, Train: 73.53%, Valid: 62.95% Test: 68.00%                  \n",
      "Epoch: 08, Loss: 0.0046, Train: 75.74%, Valid: 71.69% Test: 70.72%                  \n",
      "Epoch: 09, Loss: 0.0044, Train: 75.50%, Valid: 67.17% Test: 65.39%                 \n",
      "Epoch: 10, Loss: 0.0044, Train: 76.35%, Valid: 72.89% Test: 72.45%                 \n",
      "Epoch: 11, Loss: 0.0044, Train: 77.72%, Valid: 69.58% Test: 70.78%                  \n",
      "Epoch: 12, Loss: 0.0043, Train: 78.62%, Valid: 74.63% Test: 75.54%                  \n",
      "Epoch: 13, Loss: 0.0042, Train: 78.72%, Valid: 77.16% Test: 74.26%                  \n",
      "Epoch: 14, Loss: 0.0043, Train: 78.37%, Valid: 72.57% Test: 73.09%                  \n",
      "Epoch: 15, Loss: 0.0042, Train: 78.49%, Valid: 76.55% Test: 75.25%                  \n",
      "Epoch: 16, Loss: 0.0042, Train: 78.83%, Valid: 76.79% Test: 72.93%                  \n",
      "Epoch: 17, Loss: 0.0041, Train: 78.75%, Valid: 74.53% Test: 73.96%                  \n",
      "Epoch: 18, Loss: 0.0041, Train: 79.72%, Valid: 78.50% Test: 73.58%                  \n",
      "Epoch: 19, Loss: 0.0040, Train: 80.34%, Valid: 80.40% Test: 73.02%                  \n",
      "Epoch: 20, Loss: 0.0041, Train: 80.49%, Valid: 79.52% Test: 74.71%                  \n",
      "Epoch: 21, Loss: 0.0040, Train: 81.47%, Valid: 80.43% Test: 75.35%                 \n",
      "Epoch: 22, Loss: 0.0040, Train: 81.65%, Valid: 79.76% Test: 75.40%                  \n",
      "Epoch: 23, Loss: 0.0039, Train: 80.37%, Valid: 76.68% Test: 73.81%                  \n",
      "Epoch: 24, Loss: 0.0040, Train: 81.80%, Valid: 78.46% Test: 74.74%                  \n",
      "Epoch: 25, Loss: 0.0039, Train: 81.57%, Valid: 78.88% Test: 75.73%                 \n",
      "Epoch: 26, Loss: 0.0039, Train: 81.29%, Valid: 81.77% Test: 77.08%                  \n",
      "Epoch: 27, Loss: 0.0039, Train: 82.46%, Valid: 80.50% Test: 76.74%                 \n",
      "Epoch: 28, Loss: 0.0039, Train: 81.56%, Valid: 77.74% Test: 74.54%                  \n",
      "Epoch: 29, Loss: 0.0039, Train: 81.96%, Valid: 82.02% Test: 76.50%                  \n",
      "Epoch: 30, Loss: 0.0039, Train: 82.69%, Valid: 80.46% Test: 74.84%                  \n",
      "Best model: Train: 81.96%, Valid: 82.02% Test: 76.50%                  \n"
     ]
    }
   ],
   "source": [
    "experiment(global_add_pool)"
   ]
  },
  {
   "cell_type": "markdown",
   "metadata": {},
   "source": [
    "### Global Max Pooling"
   ]
  },
  {
   "cell_type": "code",
   "execution_count": 32,
   "metadata": {},
   "outputs": [
    {
     "name": "stdout",
     "output_type": "stream",
     "text": [
      "Experiment of pooling: global_max_pool\n",
      "Epoch: 01, Loss: 0.0049, Train: 74.39%, Valid: 68.38% Test: 72.14%                  \n",
      "Epoch: 02, Loss: 0.0045, Train: 73.12%, Valid: 63.70% Test: 69.69%                 \n",
      "Epoch: 03, Loss: 0.0044, Train: 77.21%, Valid: 71.29% Test: 69.72%                  \n",
      "Epoch: 04, Loss: 0.0044, Train: 78.01%, Valid: 73.01% Test: 70.24%                  \n",
      "Epoch: 05, Loss: 0.0043, Train: 77.83%, Valid: 71.19% Test: 71.42%                 \n",
      "Epoch: 06, Loss: 0.0043, Train: 78.44%, Valid: 68.22% Test: 72.67%                 \n",
      "Epoch: 07, Loss: 0.0042, Train: 79.41%, Valid: 72.79% Test: 70.63%                  \n",
      "Epoch: 08, Loss: 0.0042, Train: 79.13%, Valid: 74.39% Test: 70.36%                  \n",
      "Epoch: 09, Loss: 0.0041, Train: 79.99%, Valid: 73.33% Test: 69.47%                  \n",
      "Epoch: 10, Loss: 0.0040, Train: 81.03%, Valid: 72.21% Test: 71.32%                 \n",
      "Epoch: 11, Loss: 0.0040, Train: 81.06%, Valid: 75.34% Test: 72.16%                  \n",
      "Epoch: 12, Loss: 0.0040, Train: 82.25%, Valid: 73.71% Test: 72.52%                  \n",
      "Epoch: 13, Loss: 0.0040, Train: 81.19%, Valid: 75.70% Test: 72.65%                  \n",
      "Epoch: 14, Loss: 0.0040, Train: 82.33%, Valid: 77.30% Test: 72.76%                  \n",
      "Epoch: 15, Loss: 0.0039, Train: 83.38%, Valid: 76.92% Test: 73.33%                  \n",
      "Epoch: 16, Loss: 0.0039, Train: 83.20%, Valid: 74.95% Test: 72.70%                 \n",
      "Epoch: 17, Loss: 0.0039, Train: 82.79%, Valid: 76.44% Test: 74.53%                  \n",
      "Epoch: 18, Loss: 0.0039, Train: 84.39%, Valid: 75.75% Test: 74.49%                 \n",
      "Epoch: 19, Loss: 0.0038, Train: 82.81%, Valid: 73.22% Test: 74.97%                  \n",
      "Epoch: 20, Loss: 0.0038, Train: 84.52%, Valid: 78.68% Test: 74.17%                 \n",
      "Epoch: 21, Loss: 0.0038, Train: 84.52%, Valid: 76.12% Test: 73.05%                  \n",
      "Epoch: 22, Loss: 0.0037, Train: 83.78%, Valid: 76.00% Test: 74.78%                  \n",
      "Epoch: 23, Loss: 0.0038, Train: 84.63%, Valid: 76.84% Test: 76.40%                  \n",
      "Epoch: 24, Loss: 0.0038, Train: 85.15%, Valid: 78.33% Test: 75.54%                  \n",
      "Epoch: 25, Loss: 0.0037, Train: 85.10%, Valid: 77.00% Test: 76.14%                  \n",
      "Epoch: 26, Loss: 0.0037, Train: 85.42%, Valid: 78.23% Test: 75.23%                 \n",
      "Epoch: 27, Loss: 0.0037, Train: 85.84%, Valid: 79.43% Test: 75.41%                  \n",
      "Epoch: 28, Loss: 0.0037, Train: 86.14%, Valid: 79.38% Test: 77.38%                  \n",
      "Epoch: 29, Loss: 0.0037, Train: 85.17%, Valid: 77.19% Test: 73.46%                  \n",
      "Epoch: 30, Loss: 0.0037, Train: 86.44%, Valid: 80.19% Test: 77.59%                  \n",
      "Best model: Train: 86.44%, Valid: 80.19% Test: 77.59%                  \n"
     ]
    }
   ],
   "source": [
    "experiment(global_max_pool)"
   ]
  }
 ],
 "metadata": {
  "accelerator": "GPU",
  "colab": {
   "collapsed_sections": [],
   "machine_shape": "hm",
   "name": "CS224W_Colab2",
   "provenance": []
  },
  "kernelspec": {
   "display_name": "pytorch-custom",
   "language": "python",
   "name": "pytorch-custom"
  },
  "language_info": {
   "codemirror_mode": {
    "name": "ipython",
    "version": 3
   },
   "file_extension": ".py",
   "mimetype": "text/x-python",
   "name": "python",
   "nbconvert_exporter": "python",
   "pygments_lexer": "ipython3",
   "version": "3.8.12"
  }
 },
 "nbformat": 4,
 "nbformat_minor": 1
}